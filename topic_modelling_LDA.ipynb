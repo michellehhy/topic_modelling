{
  "nbformat": 4,
  "nbformat_minor": 0,
  "metadata": {
    "colab": {
      "name": "topic_modelling_LDA.ipynb",
      "provenance": []
    },
    "kernelspec": {
      "name": "python3",
      "display_name": "Python 3"
    },
    "language_info": {
      "name": "python"
    }
  },
  "cells": [
    {
      "cell_type": "markdown",
      "metadata": {
        "id": "F6O04JFNZ0cp"
      },
      "source": [
        "# Topic Modelling \n",
        "* LDA\n",
        "* BERT"
      ]
    },
    {
      "cell_type": "markdown",
      "metadata": {
        "id": "uBsWwmZqZpKm"
      },
      "source": [
        "Ref: \n",
        "\n",
        "* https://becominghuman.ai/news-topic-classification-using-lstm-a1e8a38781fe\n",
        "* https://towardsdatascience.com/topic-modeling-and-latent-dirichlet-allocation-in-python-9bf156893c24\n"
      ]
    },
    {
      "cell_type": "markdown",
      "metadata": {
        "id": "m-fa9j_EZzbi"
      },
      "source": [
        "### Load Packages"
      ]
    },
    {
      "cell_type": "code",
      "metadata": {
        "colab": {
          "base_uri": "https://localhost:8080/"
        },
        "id": "igqO22bOZeoy",
        "outputId": "b6fb6617-eeaf-4c57-fe64-fd1aefdd1cda"
      },
      "source": [
        "import pandas as pd\n",
        "import re\n",
        "import matplotlib.pyplot as plt\n",
        "import seaborn as sns; sns.set()\n",
        "import gensim\n",
        "from gensim.utils import simple_preprocess\n",
        "from gensim.parsing.preprocessing import STOPWORDS\n",
        "\n",
        "from nltk.stem import WordNetLemmatizer, SnowballStemmer\n",
        "stemmer = SnowballStemmer('english')\n",
        "\n",
        "import nltk\n",
        "nltk.download('wordnet')\n",
        "from nltk.stem.porter import *\n",
        "\n",
        "import numpy as np\n",
        "np.random.seed(2018)\n",
        "np.warnings.filterwarnings('ignore', category=np.VisibleDeprecationWarning)\n"
      ],
      "execution_count": 1,
      "outputs": [
        {
          "output_type": "stream",
          "text": [
            "[nltk_data] Downloading package wordnet to /root/nltk_data...\n",
            "[nltk_data]   Unzipping corpora/wordnet.zip.\n"
          ],
          "name": "stdout"
        }
      ]
    },
    {
      "cell_type": "markdown",
      "metadata": {
        "id": "NX87Lh3HaG84"
      },
      "source": [
        "### Load Data"
      ]
    },
    {
      "cell_type": "code",
      "metadata": {
        "colab": {
          "base_uri": "https://localhost:8080/"
        },
        "id": "EVb0T2yEaKFX",
        "outputId": "7c09e75d-60d5-479b-9172-1553dab288fc"
      },
      "source": [
        "from google.colab import drive\n",
        "drive.mount('/content/drive')\n",
        "\n",
        "df = pd.read_csv('drive/MyDrive/bbc_test_novideos_v2.csv',encoding = 'latin1')\n",
        "df.head"
      ],
      "execution_count": 2,
      "outputs": [
        {
          "output_type": "stream",
          "text": [
            "Mounted at /content/drive\n"
          ],
          "name": "stdout"
        },
        {
          "output_type": "execute_result",
          "data": {
            "text/plain": [
              "<bound method NDFrame.head of                                                  link  ...                                               text\n",
              "0          https://www.bbc.co.uk/news/health-47749964  ...  Psychiatrists are being urged to ask children ...\n",
              "1              https://www.bbc.co.uk/news/uk-47751285  ...  The number of adults seeking help to cope with...\n",
              "2          https://www.bbc.co.uk/news/health-47735103  ...  The current system of checking newborns for hi...\n",
              "3          https://www.bbc.co.uk/news/health-47735108  ...  Calorie-filled Easter eggs are being sold in s...\n",
              "4          https://www.bbc.co.uk/news/health-47749025  ...  \"She is so desperate to end it all, she curren...\n",
              "..                                                ...  ...                                                ...\n",
              "95         https://www.bbc.co.uk/news/health-48256759  ...  Glucosamine supplements, better known as a rem...\n",
              "96  https://www.bbc.co.uk/news/world-us-canada-482...  ...  Alabama has become the latest US state to move...\n",
              "97         https://www.bbc.co.uk/news/health-48281557  ...  David Williams has been bitten by a snake six ...\n",
              "98         https://www.bbc.co.uk/news/health-48290757  ...  The world's first drugs designed to stop cance...\n",
              "99         https://www.bbc.co.uk/news/health-48146166  ...  When Dani Donovan wanted to show her colleague...\n",
              "\n",
              "[100 rows x 3 columns]>"
            ]
          },
          "metadata": {
            "tags": []
          },
          "execution_count": 2
        }
      ]
    },
    {
      "cell_type": "code",
      "metadata": {
        "id": "JA4d5VKoaPL8"
      },
      "source": [
        "med = list(df.loc[:, \"text\"].values)"
      ],
      "execution_count": 3,
      "outputs": []
    },
    {
      "cell_type": "markdown",
      "metadata": {
        "id": "lJxfXPagaSL2"
      },
      "source": [
        "### Preprocess Data"
      ]
    },
    {
      "cell_type": "code",
      "metadata": {
        "id": "xYBaZAk2aVQt"
      },
      "source": [
        "def lemmatize_stemming(text):\n",
        "    return stemmer.stem(WordNetLemmatizer().lemmatize(text, pos='v'))\n",
        "\n",
        "#remove html tags, emails, urls, numbers, stop words and words less than 3 chars \n",
        "def preprocess(text):\n",
        "    result = []\n",
        "    text = re.sub('<[^>]*>', '', text)\n",
        "    text = re.sub('\\S*@\\S*\\s?', '', text)\n",
        "    text = re.sub('https?://[A-Za-z0-9]','',text)\n",
        "    text = re.sub('[^a-zA-Z]',' ',text)\n",
        "    \n",
        "    for token in gensim.utils.simple_preprocess(text):\n",
        "        if token not in gensim.parsing.preprocessing.STOPWORDS and len(token) > 3:\n",
        "            result.append(lemmatize_stemming(token))\n",
        "    return result"
      ],
      "execution_count": 4,
      "outputs": []
    },
    {
      "cell_type": "code",
      "metadata": {
        "colab": {
          "base_uri": "https://localhost:8080/"
        },
        "id": "hfa1E0iHa5Qt",
        "outputId": "1c172380-302f-4b9e-ac31-c5bbb7d1b2ad"
      },
      "source": [
        "doc_sample = med[0]\n",
        "print('original document: ')\n",
        "words = []\n",
        "for word in doc_sample.split(' '):\n",
        "    words.append(word)\n",
        "print(words)\n",
        "\n",
        "print('\\n\\n tokenized and lemmatized document: ')\n",
        "print(preprocess(doc_sample))"
      ],
      "execution_count": 5,
      "outputs": [
        {
          "output_type": "stream",
          "text": [
            "original document: \n",
            "['Psychiatrists', 'are', 'being', 'urged', 'to', 'ask', 'children', 'with', 'mental', 'health', 'issues', 'how', 'long', 'they', 'spend', 'online', 'and', 'what', 'they', 'use', 'social', 'media', 'for.\\nQuestions', 'about', 'technology', 'should', 'be', 'a', 'routine', 'part', 'of', 'assessments,', 'the', 'Royal', 'College', 'of', 'Psychiatrists', 'says.', '\\nIt', 'is', 'concerned', 'about', 'how', 'time', 'spent', 'online', 'impacts', 'on', 'mood,', 'sleep,', 'diet', 'and', 'behaviour.\\nThe', 'government', 'is', 'expected', 'to', 'announce', 'plans', 'to', 'regulate', 'social', 'media', 'companies', 'soon.\\nThe', \"College's\", 'advice', 'comes', 'as', 'evidence', 'grows', 'of', 'a', 'possible', 'link', 'between', 'harmful', 'content', 'or', 'time', 'spent', 'online,', 'and', 'poor', 'mental', 'health.\\nIt', 'is', 'planning', 'to', 'publish', 'a', 'report', 'later', 'this', 'year', 'about', 'its', 'stance', 'on', 'technology', 'use', 'and', \"children's\", 'mental', 'health,', 'which', 'will', 'include', 'recommendations', 'for', 'parents,', 'children', 'and', 'doctors.\\nWhen', 'assessing', 'children,', 'psychiatrists', 'are', 'being', 'advised', 'to', 'think', 'about:\\nThe', 'Royal', 'College', 'of', 'Psychiatrists', 'recommends', 'that', 'children', 'stop', 'using', 'technology', 'at', 'least', 'an', 'hour', 'before', 'going', 'to', 'bed,', 'and', 'avoid', 'using', 'technology', 'at', 'mealtimes.\\nThis', 'is', 'a', 'view', 'echoed', 'by', 'the', 'Chief', 'Medical', 'Officer', 'in', 'her', 'recent', 'guidance', 'on', 'social', 'media.\\nA', 'group', 'of', 'MPs', 'recently', 'called', 'for', 'a', 'tax', 'on', 'social', 'media', \"companies'\", 'profits,', 'saying', 'the', 'firms', 'are', 'operating', 'in', '\"an', 'online', 'wild', 'west\"', 'and', 'should', 'help', 'fund', 'research', 'into', 'the', 'links', 'between', 'technology', 'use', 'and', 'mental', 'illness.\\nThe', 'government', 'is', 'expected', 'to', 'announce', 'plans', 'for', 'an', 'independent', 'regulator', 'which', 'would', 'enforce', 'a', 'new', 'statutory', \"'duty\", 'of', \"care'\", 'on', 'social', 'media', 'companies.\\nThis', 'comes', 'after', 'growing', 'concerns', 'about', 'graphic', 'online', 'content,', 'including', 'material', 'featuring', 'suicide', 'and', 'self-harm.\\nEarlier', 'this', 'year,', 'the', 'father', 'of', '14-year-old', 'Molly', 'Russell,', 'who', 'took', 'her', 'own', 'life', 'in', '2017,', 'said', 'Instagram', 'had', '\"helped', 'kill\"', 'his', 'daughter.\\nDr', 'Bernadka', 'Dubicka,', 'chair', 'of', 'the', 'child', 'and', 'adolescent', 'faculty', 'at', 'RCPsych,', 'said:', '\"Although', 'we', 'recognise', 'that', 'social', 'media', 'and', 'technology', 'are', 'not', 'primary', 'drivers', 'of', 'mental', 'illness', 'in', 'young', 'people,', 'we', 'know', 'that', 'they', 'are', 'an', 'important', 'part', 'of', 'their', 'lives', 'and', 'can', 'be', 'harmful', 'in', 'some', 'situations.\\n\"As', 'a', 'frontline', 'clinician,', 'I', 'regularly', 'see', 'young', 'people', 'who', 'have', 'deliberately', 'hurt', 'themselves', 'after', 'discussing', 'self-harm', 'techniques', 'online.', '\\n\"Clinicians', 'recognise', 'the', 'well-known', 'phenomena', 'of', 'young', 'people', 'copying', 'each', \"other's\", 'harmful', 'behaviour', 'while', 'on', 'in-patient', 'units,', 'but', \"it's\", 'even', 'more', 'worrying', 'to', 'see', 'this', 'replicated', 'in', 'the', 'online', 'world', 'where', 'audiences', 'are', 'so', 'much', 'bigger.\"', '', '\\nShe', 'added:', '\"We\\'re', 'also', 'finding', 'that', 'some', 'young', 'people', 'report', 'being', 'recommended', 'harmful', 'content;', 'for', 'example,', 'links', 'to', 'websites', 'encouraging', 'weight', 'loss', 'or', 'displaying', 'self-harm', 'after', 'searching', 'for,', 'or', 'clicking', 'on,', 'similar', 'content', 'just', 'once', 'before.\"\\nDr', 'Dubicka', 'said', 'it', 'was', 'important', 'to', 'consider', 'whether', 'social', 'media', 'was', 'affecting', 'children', 'and', 'young', \"people's\", 'mental', 'health', 'so', 'that', 'the', 'causes', 'of', 'their', 'distress', 'could', 'be', 'addressed.\\nEmma', 'Thomas,', 'chief', 'executive', 'of', 'Young', 'Minds,', 'said:', '\"Young', 'people', 'we', 'work', 'with', 'rarely', 'say', 'that', 'social', 'media', 'is', 'the', \"'cause'\", 'of', 'mental', 'health', 'conditions,', 'but', 'they', 'say', 'it', 'can', 'heighten', 'problems', 'that', 'they', 'are', 'already', 'struggling', 'with,', 'adding', 'to', 'anxiety', 'or', 'making', 'them', 'feel', 'worse', 'when', 'they', 'compare', 'their', 'lives', 'to', 'those', 'of', 'other', 'people.\"\\nClaire', 'Murdoch,', 'national', 'director', 'for', 'mental', 'health', 'at', 'NHS', 'England,', 'said:', '\"Social', 'media', 'plays', 'a', 'big', 'part', 'in', 'everyday', 'life', 'for', 'most', 'children', 'and', 'young', 'people,', 'but', 'it', 'should', 'act', 'as', 'a', 'wake-up', 'call', 'when', 'leading', 'psychiatrists', 'say', 'online', 'activities', 'now', 'need', 'to', 'be', 'considered', 'when', 'assessing', \"youngsters'\", 'mental', 'health', 'and', 'wellbeing.\"\\nShe', 'said', 'the', 'NHS', 'planned', 'to', 'improve', 'access', 'to', 'mental', 'health', 'services', 'for', 'young', 'people', 'but', 'expected', 'social', 'media', 'giants', 'to', '\"step', 'up', 'to', 'the', 'plate\".']\n",
            "\n",
            "\n",
            " tokenized and lemmatized document: \n",
            "['psychiatrist', 'urg', 'children', 'mental', 'health', 'issu', 'long', 'spend', 'onlin', 'social', 'media', 'question', 'technolog', 'routin', 'assess', 'royal', 'colleg', 'psychiatrist', 'say', 'concern', 'time', 'spend', 'onlin', 'impact', 'mood', 'sleep', 'diet', 'behaviour', 'govern', 'expect', 'announc', 'plan', 'regul', 'social', 'media', 'compani', 'soon', 'colleg', 'advic', 'come', 'evid', 'grow', 'possibl', 'link', 'harm', 'content', 'time', 'spend', 'onlin', 'poor', 'mental', 'health', 'plan', 'publish', 'report', 'later', 'year', 'stanc', 'technolog', 'children', 'mental', 'health', 'includ', 'recommend', 'parent', 'children', 'doctor', 'assess', 'children', 'psychiatrist', 'advis', 'think', 'royal', 'colleg', 'psychiatrist', 'recommend', 'children', 'stop', 'technolog', 'hour', 'go', 'avoid', 'technolog', 'mealtim', 'view', 'echo', 'chief', 'medic', 'offic', 'recent', 'guidanc', 'social', 'media', 'group', 'recent', 'call', 'social', 'media', 'compani', 'profit', 'say', 'firm', 'oper', 'onlin', 'wild', 'west', 'help', 'fund', 'research', 'link', 'technolog', 'mental', 'ill', 'govern', 'expect', 'announc', 'plan', 'independ', 'regul', 'enforc', 'statutori', 'duti', 'care', 'social', 'media', 'compani', 'come', 'grow', 'concern', 'graphic', 'onlin', 'content', 'includ', 'materi', 'featur', 'suicid', 'self', 'harm', 'earlier', 'year', 'father', 'year', 'molli', 'russel', 'take', 'life', 'say', 'instagram', 'help', 'kill', 'daughter', 'bernadka', 'dubicka', 'chair', 'child', 'adolesc', 'faculti', 'rcpsych', 'say', 'recognis', 'social', 'media', 'technolog', 'primari', 'driver', 'mental', 'ill', 'young', 'peopl', 'know', 'import', 'live', 'harm', 'situat', 'frontlin', 'clinician', 'regular', 'young', 'peopl', 'deliber', 'hurt', 'discuss', 'self', 'harm', 'techniqu', 'onlin', 'clinician', 'recognis', 'know', 'phenomena', 'young', 'peopl', 'copi', 'harm', 'behaviour', 'patient', 'unit', 'worri', 'replic', 'onlin', 'world', 'audienc', 'bigger', 'add', 'find', 'young', 'peopl', 'report', 'recommend', 'harm', 'content', 'exampl', 'link', 'websit', 'encourag', 'weight', 'loss', 'display', 'self', 'harm', 'search', 'click', 'similar', 'content', 'dubicka', 'say', 'import', 'consid', 'social', 'media', 'affect', 'children', 'young', 'peopl', 'mental', 'health', 'caus', 'distress', 'address', 'emma', 'thoma', 'chief', 'execut', 'young', 'mind', 'say', 'young', 'peopl', 'work', 'rare', 'social', 'media', 'caus', 'mental', 'health', 'condit', 'heighten', 'problem', 'struggl', 'add', 'anxieti', 'make', 'feel', 'wors', 'compar', 'live', 'peopl', 'clair', 'murdoch', 'nation', 'director', 'mental', 'health', 'england', 'say', 'social', 'media', 'play', 'everyday', 'life', 'children', 'young', 'peopl', 'wake', 'lead', 'psychiatrist', 'onlin', 'activ', 'need', 'consid', 'assess', 'youngster', 'mental', 'health', 'wellb', 'say', 'plan', 'improv', 'access', 'mental', 'health', 'servic', 'young', 'peopl', 'expect', 'social', 'media', 'giant', 'step', 'plate']\n"
          ],
          "name": "stdout"
        }
      ]
    },
    {
      "cell_type": "code",
      "metadata": {
        "colab": {
          "base_uri": "https://localhost:8080/"
        },
        "id": "FyEhlRBzbcgo",
        "outputId": "082a3bed-a547-4530-9a48-84863ec70af6"
      },
      "source": [
        "all_cleaned_texts = np.array([preprocess(m) for m in med])\n",
        "print(all_cleaned_texts.shape)\n",
        "print(all_cleaned_texts[0:5])"
      ],
      "execution_count": 6,
      "outputs": [
        {
          "output_type": "stream",
          "text": [
            "(100,)\n",
            "[list(['psychiatrist', 'urg', 'children', 'mental', 'health', 'issu', 'long', 'spend', 'onlin', 'social', 'media', 'question', 'technolog', 'routin', 'assess', 'royal', 'colleg', 'psychiatrist', 'say', 'concern', 'time', 'spend', 'onlin', 'impact', 'mood', 'sleep', 'diet', 'behaviour', 'govern', 'expect', 'announc', 'plan', 'regul', 'social', 'media', 'compani', 'soon', 'colleg', 'advic', 'come', 'evid', 'grow', 'possibl', 'link', 'harm', 'content', 'time', 'spend', 'onlin', 'poor', 'mental', 'health', 'plan', 'publish', 'report', 'later', 'year', 'stanc', 'technolog', 'children', 'mental', 'health', 'includ', 'recommend', 'parent', 'children', 'doctor', 'assess', 'children', 'psychiatrist', 'advis', 'think', 'royal', 'colleg', 'psychiatrist', 'recommend', 'children', 'stop', 'technolog', 'hour', 'go', 'avoid', 'technolog', 'mealtim', 'view', 'echo', 'chief', 'medic', 'offic', 'recent', 'guidanc', 'social', 'media', 'group', 'recent', 'call', 'social', 'media', 'compani', 'profit', 'say', 'firm', 'oper', 'onlin', 'wild', 'west', 'help', 'fund', 'research', 'link', 'technolog', 'mental', 'ill', 'govern', 'expect', 'announc', 'plan', 'independ', 'regul', 'enforc', 'statutori', 'duti', 'care', 'social', 'media', 'compani', 'come', 'grow', 'concern', 'graphic', 'onlin', 'content', 'includ', 'materi', 'featur', 'suicid', 'self', 'harm', 'earlier', 'year', 'father', 'year', 'molli', 'russel', 'take', 'life', 'say', 'instagram', 'help', 'kill', 'daughter', 'bernadka', 'dubicka', 'chair', 'child', 'adolesc', 'faculti', 'rcpsych', 'say', 'recognis', 'social', 'media', 'technolog', 'primari', 'driver', 'mental', 'ill', 'young', 'peopl', 'know', 'import', 'live', 'harm', 'situat', 'frontlin', 'clinician', 'regular', 'young', 'peopl', 'deliber', 'hurt', 'discuss', 'self', 'harm', 'techniqu', 'onlin', 'clinician', 'recognis', 'know', 'phenomena', 'young', 'peopl', 'copi', 'harm', 'behaviour', 'patient', 'unit', 'worri', 'replic', 'onlin', 'world', 'audienc', 'bigger', 'add', 'find', 'young', 'peopl', 'report', 'recommend', 'harm', 'content', 'exampl', 'link', 'websit', 'encourag', 'weight', 'loss', 'display', 'self', 'harm', 'search', 'click', 'similar', 'content', 'dubicka', 'say', 'import', 'consid', 'social', 'media', 'affect', 'children', 'young', 'peopl', 'mental', 'health', 'caus', 'distress', 'address', 'emma', 'thoma', 'chief', 'execut', 'young', 'mind', 'say', 'young', 'peopl', 'work', 'rare', 'social', 'media', 'caus', 'mental', 'health', 'condit', 'heighten', 'problem', 'struggl', 'add', 'anxieti', 'make', 'feel', 'wors', 'compar', 'live', 'peopl', 'clair', 'murdoch', 'nation', 'director', 'mental', 'health', 'england', 'say', 'social', 'media', 'play', 'everyday', 'life', 'children', 'young', 'peopl', 'wake', 'lead', 'psychiatrist', 'onlin', 'activ', 'need', 'consid', 'assess', 'youngster', 'mental', 'health', 'wellb', 'say', 'plan', 'improv', 'access', 'mental', 'health', 'servic', 'young', 'peopl', 'expect', 'social', 'media', 'giant', 'step', 'plate'])\n",
            " list(['number', 'adult', 'seek', 'help', 'cope', 'alcohol', 'parent', 'tripl', 'year', 'accord', 'lead', 'chariti', 'nation', 'associ', 'children', 'alcohol', 'take', 'call', 'messag', 'year', 'compar', 'expert', 'fund', 'support', 'famili', 'friend', 'help', 'peopl', 'alcohol', 'parent', 'depart', 'health', 'say', 'invest', 'tackl', 'issu', 'homeless', 'amelia', 'carr', 'newcastl', 'grow', 'alcohol', 'father', 'drink', 'amelia', 'continu', 'death', 'year', 'life', 'sleep', 'rough', 'thing', 'dread', 'see', 'homeless', 'street', 'say', 'inebri', 'dirti', 'doorway', 'bottl', 'state', 'anger', 'evapor', 'replac', 'instead', 'piti', 'children', 'parent', 'drink', 'say', 'time', 'like', 'depend', 'drinker', 'develop', 'issu', 'alcohol', 'adult', 'give', 'complet', 'father', 'teetot', 'abil', 'quit', 'pain', 'think', 'help', 'think', 'children', 'couldn', 'say', 'rememb', 'happi', 'time', 'father', 'issu', 'alcohol', 'start', 'amelia', 'year', 'junior', 'rememb', 'father', 'drink', 'die', 'say', 'way', 'felt', 'reliev', 'griev', 'say', 'couldn', 'felt', 'guilti', 'confus', 'drug', 'alcohol', 'chariti', 'addact', 'say', 'approxim', 'older', 'adult', 'alcohol', 'problem', 'develop', 'later', 'life', 'spokesman', 'tell', 'live', 'investig', 'like', 'support', 'eas', 'access', 'servic', 'peopl', 'alcohol', 'misus', 'issu', 'nation', 'associ', 'children', 'alcohol', 'nacoa', 'support', 'live', 'childhood', 'parent', 'alcohol', 'problem', 'offer', 'help', 'peopl', 'parent', 'issu', 'emerg', 'later', 'life', 'stephani', 'page', 'helplin', 'supervisor', 'chariti', 'say', 'feel', 'guilt', 'bear', 'anger', 'resent', 'parent', 'love', 'feel', 'guilti', 'feel', 'sort', 'say', 'peopl', 'parent', 'begin', 'drink', 'later', 'tend', 'face', 'differ', 'challeng', 'parent', 'retir', 'lone', 'issu', 'adjust', 'retir', 'adult', 'child', 'alcohol', 'find', 'difficult', 'haven', 'see', 'know', 'surreal', 'see', 'parent', 'depart', 'health', 'social', 'care', 'spokesperson', 'say', 'incred', 'damag', 'young', 'person', 'grow', 'alcohol', 'parent', 'lead', 'lifelong', 'harm', 'invest', 'support', 'children', 'depend', 'parent', 'servic', 'includ', 'alcohol', 'treatment', 'mental', 'health', 'servic', 'avail', 'peopl', 'suffer', 'impact', 'parent', 'drink', 'adult', 'spokesman', 'say', 'person', 'admit', 'hospit', 'show', 'sign', 'alcohol', 'depend', 'worst', 'affect', 'part', 'countri', 'offer', 'target', 'help', 'stop', 'hear', 'live', 'investig', 'sunday', 'march', 'sound'])\n",
            " list(['current', 'check', 'newborn', 'problem', 'fail', 'result', 'late', 'diagnos', 'correct', 'surgeri', 'studi', 'suggest', 'newborn', 'england', 'hip', 'examin', 'risk', 'problem', 'receiv', 'scan', 'surgeon', 'southampton', 'children', 'hospit', 'say', 'rate', 'late', 'diagnos', 'improv', 'screen', 'start', 'year', 'public', 'health', 'england', 'say', 'scan', 'newborn', 'caus', 'problem', 'development', 'dysplasia', 'pick', 'earli', 'babi', 'treat', 'remov', 'splint', 'wear', 'month', 'delay', 'diagnosi', 'year', 'untreat', 'dysplasia', 'lead', 'shorten', 'surgeri', 'risk', 'continu', 'pain', 'long', 'term', 'complic', 'alexand', 'aarvold', 'studi', 'author', 'consult', 'orthopaed', 'surgeon', 'southampton', 'say', 'untreat', 'dysplasia', 'signific', 'public', 'health', 'issu', 'current', 'approach', 'fail', 'impact', 'late', 'diagnos', 'children', 'sign', 'easili', 'miss', 'subtl', 'say', 'doctor', 'midwiv', 'nurs', 'check', 'see', 'dysplasia', 'hard', 'pick', 'research', 'orthopaed', 'surgeon', 'bone', 'joint', 'journal', 'look', 'case', 'children', 'diagnos', 'late', 'problem', 'defin', 'rate', 'case', 'birth', 'studi', 'screen', 'programm', 'begin', 'rate', 'late', 'diagnos', 'birth', 'smaller', 'region', 'studi', 'reveal', 'lower', 'figur', 'theolog', 'presid', 'british', 'societi', 'children', 'orthopaed', 'surgeri', 'say', 'studi', 'provid', 'evid', 'current', 'select', 'screen', 'neonat', 'dysplasia', 'ineffect', 'percentag', 'infant', 'diagnos', 'late', 'unaccept', 'high', 'countri', 'germani', 'austria', 'perform', 'ultrasound', 'scan', 'hip', 'newborn', 'late', 'diagnosi', 'extrem', 'prof', 'ann', 'macki', 'director', 'screen', 'public', 'health', 'england', 'say', 'offer', 'univers', 'scan', 'caus', 'harm', 'evid', 'show', 'lead', 'time', 'babi', 'unnecessarili', 'treat', 'compar', 'programm', 'know', 'wear', 'splint', 'crucial', 'earli', 'month', 'affect', 'bond', 'mother', 'babi', 'caus', 'avascular', 'necrosi', 'die', 'say', 'plan', 'introduc', 'chang', 'screen', 'process', 'look', 'train', 'clinician', 'carri', 'examin', 'condit', 'ball', 'socket', 'joint', 'form', 'proper', 'socket', 'shallow', 'head', 'thigh', 'bone', 'hold', 'tight', 'place', 'make', 'joint', 'loos', 'come', 'socket', 'disloc', 'babi', 'hip', 'check', 'physic', 'examin', 'hour', 'bear', 'week', 'examin', 'involv', 'gentl', 'manipul', 'babi', 'joint', 'check', 'problem', 'common', 'girl', 'boy', 'common', 'leav', 'treatment', 'lead', 'problem', 'later', 'life', 'includ', 'earli', 'diagnosi', 'treatment', 'children', 'abl', 'develop', 'normal', 'rang', 'movement', 'sourc'])\n",
            " list(['calori', 'fill', 'easter', 'egg', 'sell', 'shop', 'earli', 'tempt', 'parent', 'unhealthi', 'treat', 'children', 'public', 'health', 'bodi', 'say', 'unusu', 'easter', 'egg', 'sale', 'week', 'januari', 'peopl', 'irrit', 'practic', 'royal', 'societi', 'public', 'health', 'say', 'want', 'retail', 'crack', 'earli', 'sale', 'season', 'product', 'high', 'salt', 'sugar', 'shirley', 'cramer', 'chief', 'execut', 'royal', 'societi', 'public', 'health', 'rsph', 'say', 'recognis', 'special', 'occas', 'easter', 'time', 'indulg', 'treat', 'clear', 'shop', 'supermarket', 'push', 'product', 'earli', 'supermarket', 'tackl', 'obes', 'epidem', 'urg', 'retail', 'chang', 'market', 'strategi', 'public', 'health', 'survey', 'adult', 'third', 'say', 'holiday', 'special', 'occas', 'sell', 'unhealthi', 'food', 'say', 'healthili', 'half', 'parent', 'say', 'child', 'tempt', 'easter', 'treat', 'display', 'near', 'checkout', 'half', 'survey', 'say', 'buy', 'eat', 'chocol', 'easter', 'cake', 'year', 'cadburi', 'chocol', 'contain', 'calori', 'half', 'recommend', 'daili', 'calori', 'intak', 'limit', 'kcal', 'woman', 'kcal', 'adult', 'year', 'children', 'classifi', 'obes', 'rsph', 'say', 'revers', 'trend', 'urg', 'retail', 'stop', 'push', 'unhealthi', 'product', 'checkout', 'propos', 'contain', 'govern', 'plan', 'halv', 'childhood', 'obes', 'england', 'andrew', 'opi', 'british', 'retail', 'consortium', 'say', 'bulk', 'easter', 'purchas', 'week', 'easter', 'custom', 'scrambl', 'egg', 'famili', 'friend', 'choos', 'enjoy', 'egg', 'easter', 'retail', 'cater', 'demand'])\n",
            " list(['desper', 'current', 'toothbrush', 'insid', 'jane', 'hain', 'talk', 'daughter', 'ayla', 'secur', 'unit', 'peopl', 'learn', 'difficulti', 'seven', 'year', 'govern', 'programm', 'peopl', 'unit', 'abus', 'scandal', 'failur', 'campaign', 'govern', 'say', 'commit', 'reduc', 'inpati', 'number', 'england', 'reloc', 'mean', 'patient', 'remain', 'govern', 'extend', 'origin', 'march', 'deadlin', 'jane', 'daughter', 'admit', 'assess', 'treatment', 'unit', 'struggl', 'anorexia', 'mental', 'health', 'issu', 'secur', 'unit', 'treat', 'vulner', 'young', 'peopl', 'deem', 'danger', 'patient', 'suppos', 'admit', 'month', 'averag', 'stay', 'year', 'ayla', 'spend', 'past', 'seven', 'year', 'inpati', 'current', 'live', 'mile', 'away', 'home', 'carmarthen', 'jane', 'tell', 'victoria', 'derbyshir', 'programm', 'desper', 'behaviour', 'includ', 'swallow', 'toothbrush', 'bodi', 'month', 'later', 'huge', 'bald', 'patch', 'head', 'hair', 'grow', 'head', 'bang', 'say', 'doctor', 'say', 'possibl', 'caus', 'brain', 'damag', 'powerless', 'watch', 'suffer', 'say', 'ayla', 'grandmoth', 'judi', 'hain', 'tortur', 'jane', 'say', 'critic', 'place', 'ayla', 'treat', 'stay', 'say', 'unabl', 'provid', 'comment', 'individu', 'case', 'say', 'work', 'individu', 'design', 'packag', 'care', 'safe', 'help', 'progress', 'communiti', 'atus', 'come', 'scrutini', 'panorama', 'expos', 'horrif', 'abus', 'patient', 'winterbourn', 'view', 'govern', 'promis', 'capabl', 'live', 'communiti', 'proper', 'support', 'programm', 'call', 'transform', 'care', 'cost', 'scorer', 'head', 'polici', 'mencap', 'say', 'peopl', 'spend', 'year', 'shouldn', 'aw', 'thing', 'happen', 'peopl', 'shouldn', 'asylum', 'close', 'place', 'need', 'close', 'peopl', 'need', 'support', 'communiti', 'figur', 'increas', 'staff', 'resort', 'medic', 'seclus', 'restraint', 'deal', 'patient', 'incid', 'report', 'decemb', 'year', 'children', 'linda', 'chris', 'hutch', 'year', 'daughter', 'live', 'secur', 'unit', 'east', 'midland', 'section', 'age', 'battl', 'eat', 'disord', 'depress', 'linda', 'say', 'wake', 'middl', 'night', 'cri', 'hospit', 'current', 'lock', 'room', 'week', 'aw', 'apart', 'telli', 'high', 'bracket', 'wall', 'chris', 'say', 'envisag', 'situat', 'human', 'lock', 'presumpt', 'guilt', 'lose', 'basic', 'right', 'free', 'birmingham', 'citi', 'council', 'respons', 'daughter', 'care', 'say', 'comment', 'individu', 'case', 'add', 'safeguard', 'measur', 'place', 'somebodi', 'liberti', 'limit', 'ill', 'disabl', 'expert', 'averag', 'placement', 'cost', 'keep', 'person', 'week', 'labour', 'shadow', 'care', 'minist', 'barbara', 'keeley', 'say', 'govern', 'allow', 'privat', 'compani', 'million', 'atus', 'cost', 'time', 'communiti', 'placement', 'like', 'bedlam', 'institut', 'victorian', 'time', 'say', 'hide', 'horror', 'death', 'unit', 'peopl', 'say', 'govern', 'pledg', 'close', 'depart', 'health', 'spokesman', 'say', 'determin', 'reduc', 'number', 'peopl', 'autism', 'spectrum', 'learn', 'disabl', 'mental', 'health', 'hospit', 'signific', 'invest', 'communiti', 'support', 'reduct', 'commit', 'reduc', 'inpati', 'number', 'right', 'support', 'parent', 'govern', 'transform', 'care', 'programm', 'work', 'fauzia', 'hussain', 'tourett', 'autism', 'spend', 'month', 'secur', 'unit', 'famili', 'say', 'prescrib', 'high', 'dose', 'medic', 'includ', 'anti', 'psychot', 'drug', 'keep', 'segreg', 'leav', 'life', 'transform', 'hopeless', 'place', 'child', 'psychiatrist', 'couldn', 'access', 'right', 'support', 'aunt', 'shahana', 'say', 'awar', 'famili', 'haven', 'lucki', 'live', 'fear', 'fauzia', 'place', 'like', 'follow', 'victoria', 'derbyshir', 'programm', 'facebook', 'twitter', 'stori'])]\n"
          ],
          "name": "stdout"
        }
      ]
    },
    {
      "cell_type": "markdown",
      "metadata": {
        "id": "9JXxa-BTigZB"
      },
      "source": [
        "## Bags of Words "
      ]
    },
    {
      "cell_type": "code",
      "metadata": {
        "colab": {
          "base_uri": "https://localhost:8080/"
        },
        "id": "blNobugeijYe",
        "outputId": "7bcec1eb-282a-44d1-8238-6bb577246530"
      },
      "source": [
        "dictionary = gensim.corpora.Dictionary(all_cleaned_texts)\n",
        "count = 0\n",
        "for k, v in dictionary.iteritems():\n",
        "    print(k, v)\n",
        "    count += 1\n",
        "    if count > 10:\n",
        "        break\n",
        "\n"
      ],
      "execution_count": 7,
      "outputs": [
        {
          "output_type": "stream",
          "text": [
            "0 access\n",
            "1 activ\n",
            "2 add\n",
            "3 address\n",
            "4 adolesc\n",
            "5 advic\n",
            "6 advis\n",
            "7 affect\n",
            "8 announc\n",
            "9 anxieti\n",
            "10 assess\n"
          ],
          "name": "stdout"
        }
      ]
    },
    {
      "cell_type": "code",
      "metadata": {
        "colab": {
          "base_uri": "https://localhost:8080/"
        },
        "id": "qA3hwf7XisYq",
        "outputId": "d9353c45-dd22-4a40-9dd9-c0f3cf6385dc"
      },
      "source": [
        "dictionary.filter_extremes(no_below=15, no_above=0.5, keep_n=100000)\n",
        "count = 0\n",
        "for k, v in dictionary.iteritems():\n",
        "    print(k, v)\n",
        "    count += 1\n",
        "    if count > 10:\n",
        "        break"
      ],
      "execution_count": 8,
      "outputs": [
        {
          "output_type": "stream",
          "text": [
            "0 activ\n",
            "1 add\n",
            "2 affect\n",
            "3 avoid\n",
            "4 call\n",
            "5 care\n",
            "6 caus\n",
            "7 chief\n",
            "8 child\n",
            "9 children\n",
            "10 colleg\n"
          ],
          "name": "stdout"
        }
      ]
    },
    {
      "cell_type": "code",
      "metadata": {
        "colab": {
          "base_uri": "https://localhost:8080/"
        },
        "id": "MQOuDw2Xix4P",
        "outputId": "8e2fb412-a4e3-461b-b15e-e77edb84f281"
      },
      "source": [
        "#For each document we create a dictionary reporting how many words and how many times those words appear. \n",
        "bow_corpus = [dictionary.doc2bow(doc) for doc in all_cleaned_texts]\n",
        "bow_corpus[0]"
      ],
      "execution_count": 9,
      "outputs": [
        {
          "output_type": "execute_result",
          "data": {
            "text/plain": [
              "[(0, 1),\n",
              " (1, 2),\n",
              " (2, 1),\n",
              " (3, 1),\n",
              " (4, 1),\n",
              " (5, 1),\n",
              " (6, 2),\n",
              " (7, 2),\n",
              " (8, 1),\n",
              " (9, 7),\n",
              " (10, 3),\n",
              " (11, 3),\n",
              " (12, 1),\n",
              " (13, 2),\n",
              " (14, 1),\n",
              " (15, 2),\n",
              " (16, 1),\n",
              " (17, 1),\n",
              " (18, 1),\n",
              " (19, 1),\n",
              " (20, 1),\n",
              " (21, 1),\n",
              " (22, 3),\n",
              " (23, 1),\n",
              " (24, 1),\n",
              " (25, 1),\n",
              " (26, 2),\n",
              " (27, 1),\n",
              " (28, 2),\n",
              " (29, 7),\n",
              " (30, 1),\n",
              " (31, 1),\n",
              " (32, 2),\n",
              " (33, 1),\n",
              " (34, 2),\n",
              " (35, 1),\n",
              " (36, 1),\n",
              " (37, 1),\n",
              " (38, 1),\n",
              " (39, 2),\n",
              " (40, 3),\n",
              " (41, 1),\n",
              " (42, 1),\n",
              " (43, 10),\n",
              " (44, 1),\n",
              " (45, 10),\n",
              " (46, 1),\n",
              " (47, 1),\n",
              " (48, 1),\n",
              " (49, 1),\n",
              " (50, 4),\n",
              " (51, 1),\n",
              " (52, 1),\n",
              " (53, 1),\n",
              " (54, 1),\n",
              " (55, 1),\n",
              " (56, 2),\n",
              " (57, 3),\n",
              " (58, 1),\n",
              " (59, 2),\n",
              " (60, 1),\n",
              " (61, 1),\n",
              " (62, 1),\n",
              " (63, 10),\n",
              " (64, 3),\n",
              " (65, 1),\n",
              " (66, 1),\n",
              " (67, 1),\n",
              " (68, 1),\n",
              " (69, 1),\n",
              " (70, 9)]"
            ]
          },
          "metadata": {
            "tags": []
          },
          "execution_count": 9
        }
      ]
    },
    {
      "cell_type": "code",
      "metadata": {
        "colab": {
          "base_uri": "https://localhost:8080/"
        },
        "id": "70Xw-mLVi4oP",
        "outputId": "b3d67184-5fac-4f9b-a1a9-af1e7d77c1f7"
      },
      "source": [
        "bow_doc_0 = bow_corpus[0]\n",
        "for i in range(len(bow_doc_0)):\n",
        "    print(\"Word {} (\\\"{}\\\") appears {} time.\".format(bow_doc_0[i][0], \n",
        "                                               dictionary[bow_doc_0[i][0]], \n",
        "bow_doc_0[i][1]))"
      ],
      "execution_count": 10,
      "outputs": [
        {
          "output_type": "stream",
          "text": [
            "Word 0 (\"activ\") appears 1 time.\n",
            "Word 1 (\"add\") appears 2 time.\n",
            "Word 2 (\"affect\") appears 1 time.\n",
            "Word 3 (\"avoid\") appears 1 time.\n",
            "Word 4 (\"call\") appears 1 time.\n",
            "Word 5 (\"care\") appears 1 time.\n",
            "Word 6 (\"caus\") appears 2 time.\n",
            "Word 7 (\"chief\") appears 2 time.\n",
            "Word 8 (\"child\") appears 1 time.\n",
            "Word 9 (\"children\") appears 7 time.\n",
            "Word 10 (\"colleg\") appears 3 time.\n",
            "Word 11 (\"compani\") appears 3 time.\n",
            "Word 12 (\"compar\") appears 1 time.\n",
            "Word 13 (\"concern\") appears 2 time.\n",
            "Word 14 (\"condit\") appears 1 time.\n",
            "Word 15 (\"consid\") appears 2 time.\n",
            "Word 16 (\"director\") appears 1 time.\n",
            "Word 17 (\"doctor\") appears 1 time.\n",
            "Word 18 (\"england\") appears 1 time.\n",
            "Word 19 (\"evid\") appears 1 time.\n",
            "Word 20 (\"exampl\") appears 1 time.\n",
            "Word 21 (\"execut\") appears 1 time.\n",
            "Word 22 (\"expect\") appears 3 time.\n",
            "Word 23 (\"feel\") appears 1 time.\n",
            "Word 24 (\"find\") appears 1 time.\n",
            "Word 25 (\"go\") appears 1 time.\n",
            "Word 26 (\"govern\") appears 2 time.\n",
            "Word 27 (\"group\") appears 1 time.\n",
            "Word 28 (\"grow\") appears 2 time.\n",
            "Word 29 (\"harm\") appears 7 time.\n",
            "Word 30 (\"hour\") appears 1 time.\n",
            "Word 31 (\"impact\") appears 1 time.\n",
            "Word 32 (\"import\") appears 2 time.\n",
            "Word 33 (\"improv\") appears 1 time.\n",
            "Word 34 (\"includ\") appears 2 time.\n",
            "Word 35 (\"issu\") appears 1 time.\n",
            "Word 36 (\"kill\") appears 1 time.\n",
            "Word 37 (\"later\") appears 1 time.\n",
            "Word 38 (\"lead\") appears 1 time.\n",
            "Word 39 (\"life\") appears 2 time.\n",
            "Word 40 (\"link\") appears 3 time.\n",
            "Word 41 (\"long\") appears 1 time.\n",
            "Word 42 (\"make\") appears 1 time.\n",
            "Word 43 (\"media\") appears 10 time.\n",
            "Word 44 (\"medic\") appears 1 time.\n",
            "Word 45 (\"mental\") appears 10 time.\n",
            "Word 46 (\"nation\") appears 1 time.\n",
            "Word 47 (\"oper\") appears 1 time.\n",
            "Word 48 (\"parent\") appears 1 time.\n",
            "Word 49 (\"patient\") appears 1 time.\n",
            "Word 50 (\"plan\") appears 4 time.\n",
            "Word 51 (\"play\") appears 1 time.\n",
            "Word 52 (\"possibl\") appears 1 time.\n",
            "Word 53 (\"problem\") appears 1 time.\n",
            "Word 54 (\"publish\") appears 1 time.\n",
            "Word 55 (\"question\") appears 1 time.\n",
            "Word 56 (\"recent\") appears 2 time.\n",
            "Word 57 (\"recommend\") appears 3 time.\n",
            "Word 58 (\"regular\") appears 1 time.\n",
            "Word 59 (\"report\") appears 2 time.\n",
            "Word 60 (\"research\") appears 1 time.\n",
            "Word 61 (\"servic\") appears 1 time.\n",
            "Word 62 (\"similar\") appears 1 time.\n",
            "Word 63 (\"social\") appears 10 time.\n",
            "Word 64 (\"spend\") appears 3 time.\n",
            "Word 65 (\"stop\") appears 1 time.\n",
            "Word 66 (\"take\") appears 1 time.\n",
            "Word 67 (\"think\") appears 1 time.\n",
            "Word 68 (\"unit\") appears 1 time.\n",
            "Word 69 (\"world\") appears 1 time.\n",
            "Word 70 (\"young\") appears 9 time.\n"
          ],
          "name": "stdout"
        }
      ]
    },
    {
      "cell_type": "markdown",
      "metadata": {
        "id": "SmEbsOtLjXmD"
      },
      "source": [
        "## LDA with Bag of Words "
      ]
    },
    {
      "cell_type": "code",
      "metadata": {
        "colab": {
          "base_uri": "https://localhost:8080/"
        },
        "id": "1Xd2dlr2jd64",
        "outputId": "7d7e2265-dfb6-4c9f-ee55-d056bc9f1b6f"
      },
      "source": [
        "#train model \n",
        "lda_model = gensim.models.LdaMulticore(bow_corpus, num_topics=10, id2word=dictionary, passes=2, workers=2)\n",
        "\n",
        "# For each topic, we will explore the words occuring in that topic and its relative weight\n",
        "for idx, topic in lda_model.print_topics(-1):\n",
        "    print('Topic: {} \\nWords: {}'.format(idx, topic))"
      ],
      "execution_count": 11,
      "outputs": [
        {
          "output_type": "stream",
          "text": [
            "Topic: 0 \n",
            "Words: 0.033*\"children\" + 0.020*\"babi\" + 0.018*\"public\" + 0.018*\"hospit\" + 0.017*\"surgeri\" + 0.016*\"diseas\" + 0.016*\"treat\" + 0.015*\"earli\" + 0.015*\"treatment\" + 0.014*\"case\"\n",
            "Topic: 1 \n",
            "Words: 0.025*\"women\" + 0.022*\"babi\" + 0.018*\"case\" + 0.014*\"countri\" + 0.013*\"research\" + 0.013*\"death\" + 0.013*\"kill\" + 0.012*\"world\" + 0.012*\"report\" + 0.012*\"treatment\"\n",
            "Topic: 2 \n",
            "Words: 0.015*\"suggest\" + 0.014*\"hear\" + 0.014*\"children\" + 0.013*\"harm\" + 0.013*\"parent\" + 0.013*\"organ\" + 0.012*\"compani\" + 0.012*\"think\" + 0.012*\"right\" + 0.012*\"govern\"\n",
            "Topic: 3 \n",
            "Words: 0.022*\"brain\" + 0.021*\"patient\" + 0.020*\"research\" + 0.016*\"children\" + 0.016*\"prof\" + 0.015*\"social\" + 0.015*\"parent\" + 0.014*\"medic\" + 0.014*\"media\" + 0.013*\"think\"\n",
            "Topic: 4 \n",
            "Words: 0.017*\"patient\" + 0.016*\"medic\" + 0.016*\"univers\" + 0.013*\"lose\" + 0.013*\"start\" + 0.013*\"month\" + 0.013*\"condit\" + 0.013*\"life\" + 0.013*\"leav\" + 0.012*\"surgeri\"\n",
            "Topic: 5 \n",
            "Words: 0.032*\"research\" + 0.031*\"brain\" + 0.029*\"studi\" + 0.024*\"diseas\" + 0.019*\"risk\" + 0.019*\"effect\" + 0.016*\"prof\" + 0.015*\"treatment\" + 0.014*\"cell\" + 0.014*\"women\"\n",
            "Topic: 6 \n",
            "Words: 0.026*\"babi\" + 0.025*\"famili\" + 0.023*\"child\" + 0.019*\"children\" + 0.018*\"doctor\" + 0.016*\"mother\" + 0.014*\"support\" + 0.013*\"govern\" + 0.012*\"hospit\" + 0.012*\"right\"\n",
            "Topic: 7 \n",
            "Words: 0.026*\"case\" + 0.025*\"diseas\" + 0.025*\"children\" + 0.020*\"risk\" + 0.015*\"think\" + 0.014*\"women\" + 0.013*\"bodi\" + 0.013*\"take\" + 0.011*\"healthi\" + 0.011*\"research\"\n",
            "Topic: 8 \n",
            "Words: 0.029*\"doctor\" + 0.025*\"countri\" + 0.024*\"patient\" + 0.024*\"medic\" + 0.020*\"report\" + 0.016*\"women\" + 0.016*\"medicin\" + 0.014*\"treatment\" + 0.013*\"number\" + 0.013*\"england\"\n",
            "Topic: 9 \n",
            "Words: 0.081*\"drug\" + 0.062*\"cancer\" + 0.021*\"patient\" + 0.014*\"research\" + 0.014*\"treatment\" + 0.013*\"trial\" + 0.013*\"compani\" + 0.012*\"develop\" + 0.011*\"take\" + 0.011*\"treat\"\n"
          ],
          "name": "stdout"
        }
      ]
    },
    {
      "cell_type": "markdown",
      "metadata": {
        "id": "aqHvMyfdii_W"
      },
      "source": [
        "## Create TF-IDF Model Object \n",
        "then apply to the whole corpus\n"
      ]
    },
    {
      "cell_type": "code",
      "metadata": {
        "colab": {
          "base_uri": "https://localhost:8080/"
        },
        "id": "XzHjsBwgjSJs",
        "outputId": "fd6dc961-302f-4190-f7cd-1fb015f4d503"
      },
      "source": [
        "from gensim import corpora, models\n",
        "tfidf = models.TfidfModel(bow_corpus)\n",
        "corpus_tfidf = tfidf[bow_corpus]\n",
        "from pprint import pprint\n",
        "for doc in corpus_tfidf:\n",
        "    pprint(doc)\n",
        "    break"
      ],
      "execution_count": 12,
      "outputs": [
        {
          "output_type": "stream",
          "text": [
            "[(0, 0.04499913625193515),\n",
            " (1, 0.03813541225146295),\n",
            " (2, 0.03125774052782196),\n",
            " (3, 0.04351049540769138),\n",
            " (4, 0.023759077724102972),\n",
            " (5, 0.03125774052782196),\n",
            " (6, 0.040318443085434495),\n",
            " (7, 0.09316776620837153),\n",
            " (8, 0.03404053248128401),\n",
            " (9, 0.18543160416934554),\n",
            " (10, 0.11496536779619443),\n",
            " (11, 0.13053148622307412),\n",
            " (12, 0.046583883104185764),\n",
            " (13, 0.06430149996675939),\n",
            " (14, 0.03307746576365352),\n",
            " (15, 0.08421393497289102),\n",
            " (16, 0.036087972366373476),\n",
            " (17, 0.024413917963289882),\n",
            " (18, 0.03125774052782196),\n",
            " (19, 0.03125774052782196),\n",
            " (20, 0.04351049540769138),\n",
            " (21, 0.046583883104185764),\n",
            " (22, 0.10212159744385203),\n",
            " (23, 0.032150749983379696),\n",
            " (24, 0.036087972366373476),\n",
            " (25, 0.021301523024756134),\n",
            " (26, 0.07903966873321916),\n",
            " (27, 0.036087972366373476),\n",
            " (28, 0.07217594473274695),\n",
            " (29, 0.3149939537635461),\n",
            " (30, 0.040779343964744974),\n",
            " (31, 0.040779343964744974),\n",
            " (32, 0.051556877284992766),\n",
            " (33, 0.03307746576365352),\n",
            " (34, 0.03707924020329568),\n",
            " (35, 0.027978870011293146),\n",
            " (36, 0.04351049540769138),\n",
            " (37, 0.03404053248128401),\n",
            " (38, 0.027223270280293428),\n",
            " (39, 0.03503268960741751),\n",
            " (40, 0.11855950309982874),\n",
            " (41, 0.026490229167049364),\n",
            " (42, 0.02508670124580351),\n",
            " (43, 0.4077934396474497),\n",
            " (44, 0.01853962010164784),\n",
            " (45, 0.46583883104185764),\n",
            " (46, 0.03404053248128401),\n",
            " (47, 0.04210696748644551),\n",
            " (48, 0.03307746576365352),\n",
            " (49, 0.0231212482605877),\n",
            " (50, 0.148717951133437),\n",
            " (51, 0.04499913625193515),\n",
            " (52, 0.03125774052782196),\n",
            " (53, 0.0303960712854529),\n",
            " (54, 0.03404053248128401),\n",
            " (55, 0.04210696748644551),\n",
            " (56, 0.07903966873321916),\n",
            " (57, 0.13053148622307412),\n",
            " (58, 0.04499913625193515),\n",
            " (59, 0.04499913625193515),\n",
            " (60, 0.01802265250822733),\n",
            " (61, 0.04210696748644551),\n",
            " (62, 0.04210696748644551),\n",
            " (63, 0.4077934396474497),\n",
            " (64, 0.11855950309982874),\n",
            " (65, 0.03717948778335925),\n",
            " (66, 0.017516344803708755),\n",
            " (67, 0.017516344803708755),\n",
            " (68, 0.04499913625193515),\n",
            " (69, 0.022499568125967574),\n",
            " (70, 0.3247917512973613)]\n"
          ],
          "name": "stdout"
        }
      ]
    },
    {
      "cell_type": "markdown",
      "metadata": {
        "id": "7747qDdZjdbJ"
      },
      "source": [
        "Run LDA with TF-IDF"
      ]
    },
    {
      "cell_type": "code",
      "metadata": {
        "colab": {
          "base_uri": "https://localhost:8080/"
        },
        "id": "gQ0cQrrfjyEC",
        "outputId": "98bf6563-eff9-40a0-e860-930d621795c7"
      },
      "source": [
        "lda_model_tfidf = gensim.models.LdaMulticore(corpus_tfidf, num_topics=10, id2word=dictionary, passes=2, workers=4)\n",
        "for idx, topic in lda_model_tfidf.print_topics(-1):\n",
        "    print('Topic: {} Word: {}'.format(idx, topic))"
      ],
      "execution_count": 13,
      "outputs": [
        {
          "output_type": "stream",
          "text": [
            "Topic: 0 Word: 0.017*\"treatment\" + 0.014*\"fall\" + 0.013*\"clinic\" + 0.012*\"hour\" + 0.011*\"news\" + 0.010*\"cost\" + 0.010*\"brain\" + 0.010*\"infect\" + 0.010*\"human\" + 0.009*\"diseas\"\n",
            "Topic: 1 Word: 0.016*\"brain\" + 0.016*\"countri\" + 0.012*\"world\" + 0.011*\"reduc\" + 0.011*\"find\" + 0.011*\"stori\" + 0.010*\"cancer\" + 0.010*\"scientist\" + 0.008*\"group\" + 0.008*\"abl\"\n",
            "Topic: 2 Word: 0.014*\"woman\" + 0.013*\"doctor\" + 0.013*\"hear\" + 0.013*\"state\" + 0.012*\"children\" + 0.012*\"bodi\" + 0.011*\"surgeri\" + 0.011*\"parent\" + 0.010*\"drug\" + 0.009*\"care\"\n",
            "Topic: 3 Word: 0.021*\"organ\" + 0.018*\"plan\" + 0.015*\"right\" + 0.013*\"suggest\" + 0.013*\"care\" + 0.011*\"control\" + 0.011*\"longer\" + 0.010*\"decis\" + 0.009*\"base\" + 0.009*\"design\"\n",
            "Topic: 4 Word: 0.017*\"babi\" + 0.013*\"children\" + 0.012*\"diseas\" + 0.011*\"women\" + 0.011*\"studi\" + 0.010*\"research\" + 0.010*\"child\" + 0.008*\"risk\" + 0.008*\"surgeri\" + 0.008*\"treatment\"\n",
            "Topic: 5 Word: 0.024*\"women\" + 0.024*\"drug\" + 0.018*\"test\" + 0.013*\"cancer\" + 0.013*\"harm\" + 0.012*\"campaign\" + 0.012*\"media\" + 0.011*\"report\" + 0.010*\"group\" + 0.009*\"think\"\n",
            "Topic: 6 Word: 0.021*\"drug\" + 0.014*\"case\" + 0.013*\"report\" + 0.013*\"women\" + 0.012*\"state\" + 0.012*\"leav\" + 0.011*\"right\" + 0.010*\"countri\" + 0.010*\"death\" + 0.010*\"treat\"\n",
            "Topic: 7 Word: 0.027*\"test\" + 0.020*\"brain\" + 0.013*\"close\" + 0.010*\"death\" + 0.010*\"prof\" + 0.009*\"hold\" + 0.009*\"children\" + 0.009*\"home\" + 0.009*\"clinic\" + 0.009*\"evid\"\n",
            "Topic: 8 Word: 0.032*\"cancer\" + 0.020*\"drug\" + 0.014*\"patient\" + 0.012*\"bodi\" + 0.011*\"diseas\" + 0.010*\"protect\" + 0.010*\"risk\" + 0.010*\"grow\" + 0.010*\"heart\" + 0.010*\"brain\"\n",
            "Topic: 9 Word: 0.019*\"drug\" + 0.018*\"lose\" + 0.017*\"compani\" + 0.013*\"social\" + 0.012*\"young\" + 0.012*\"media\" + 0.011*\"start\" + 0.011*\"mental\" + 0.010*\"suffer\" + 0.010*\"cancer\"\n"
          ],
          "name": "stdout"
        }
      ]
    },
    {
      "cell_type": "markdown",
      "metadata": {
        "id": "5ysBiIj7j9Ca"
      },
      "source": [
        "# Performance Evaluation "
      ]
    },
    {
      "cell_type": "code",
      "metadata": {
        "colab": {
          "base_uri": "https://localhost:8080/"
        },
        "id": "JrorrRMbkHoK",
        "outputId": "0ffc2646-a2ec-4dae-d7bc-275dda010e24"
      },
      "source": [
        "#Original \n",
        "print(all_cleaned_texts[0])"
      ],
      "execution_count": 14,
      "outputs": [
        {
          "output_type": "stream",
          "text": [
            "['psychiatrist', 'urg', 'children', 'mental', 'health', 'issu', 'long', 'spend', 'onlin', 'social', 'media', 'question', 'technolog', 'routin', 'assess', 'royal', 'colleg', 'psychiatrist', 'say', 'concern', 'time', 'spend', 'onlin', 'impact', 'mood', 'sleep', 'diet', 'behaviour', 'govern', 'expect', 'announc', 'plan', 'regul', 'social', 'media', 'compani', 'soon', 'colleg', 'advic', 'come', 'evid', 'grow', 'possibl', 'link', 'harm', 'content', 'time', 'spend', 'onlin', 'poor', 'mental', 'health', 'plan', 'publish', 'report', 'later', 'year', 'stanc', 'technolog', 'children', 'mental', 'health', 'includ', 'recommend', 'parent', 'children', 'doctor', 'assess', 'children', 'psychiatrist', 'advis', 'think', 'royal', 'colleg', 'psychiatrist', 'recommend', 'children', 'stop', 'technolog', 'hour', 'go', 'avoid', 'technolog', 'mealtim', 'view', 'echo', 'chief', 'medic', 'offic', 'recent', 'guidanc', 'social', 'media', 'group', 'recent', 'call', 'social', 'media', 'compani', 'profit', 'say', 'firm', 'oper', 'onlin', 'wild', 'west', 'help', 'fund', 'research', 'link', 'technolog', 'mental', 'ill', 'govern', 'expect', 'announc', 'plan', 'independ', 'regul', 'enforc', 'statutori', 'duti', 'care', 'social', 'media', 'compani', 'come', 'grow', 'concern', 'graphic', 'onlin', 'content', 'includ', 'materi', 'featur', 'suicid', 'self', 'harm', 'earlier', 'year', 'father', 'year', 'molli', 'russel', 'take', 'life', 'say', 'instagram', 'help', 'kill', 'daughter', 'bernadka', 'dubicka', 'chair', 'child', 'adolesc', 'faculti', 'rcpsych', 'say', 'recognis', 'social', 'media', 'technolog', 'primari', 'driver', 'mental', 'ill', 'young', 'peopl', 'know', 'import', 'live', 'harm', 'situat', 'frontlin', 'clinician', 'regular', 'young', 'peopl', 'deliber', 'hurt', 'discuss', 'self', 'harm', 'techniqu', 'onlin', 'clinician', 'recognis', 'know', 'phenomena', 'young', 'peopl', 'copi', 'harm', 'behaviour', 'patient', 'unit', 'worri', 'replic', 'onlin', 'world', 'audienc', 'bigger', 'add', 'find', 'young', 'peopl', 'report', 'recommend', 'harm', 'content', 'exampl', 'link', 'websit', 'encourag', 'weight', 'loss', 'display', 'self', 'harm', 'search', 'click', 'similar', 'content', 'dubicka', 'say', 'import', 'consid', 'social', 'media', 'affect', 'children', 'young', 'peopl', 'mental', 'health', 'caus', 'distress', 'address', 'emma', 'thoma', 'chief', 'execut', 'young', 'mind', 'say', 'young', 'peopl', 'work', 'rare', 'social', 'media', 'caus', 'mental', 'health', 'condit', 'heighten', 'problem', 'struggl', 'add', 'anxieti', 'make', 'feel', 'wors', 'compar', 'live', 'peopl', 'clair', 'murdoch', 'nation', 'director', 'mental', 'health', 'england', 'say', 'social', 'media', 'play', 'everyday', 'life', 'children', 'young', 'peopl', 'wake', 'lead', 'psychiatrist', 'onlin', 'activ', 'need', 'consid', 'assess', 'youngster', 'mental', 'health', 'wellb', 'say', 'plan', 'improv', 'access', 'mental', 'health', 'servic', 'young', 'peopl', 'expect', 'social', 'media', 'giant', 'step', 'plate']\n"
          ],
          "name": "stdout"
        }
      ]
    },
    {
      "cell_type": "markdown",
      "metadata": {
        "id": "VIGyZceckBka"
      },
      "source": [
        "LDA with Bag of words"
      ]
    },
    {
      "cell_type": "code",
      "metadata": {
        "colab": {
          "base_uri": "https://localhost:8080/"
        },
        "id": "WFEqKhEPj805",
        "outputId": "be03b19e-0f33-4e0d-94c5-36a3fb736f44"
      },
      "source": [
        "for index, score in sorted(lda_model[bow_corpus[0]], key=lambda tup: -1*tup[1]):\n",
        "    print(\"\\nScore: {}\\t \\nTopic: {}\".format(score, lda_model.print_topic(index, 10)))"
      ],
      "execution_count": 15,
      "outputs": [
        {
          "output_type": "stream",
          "text": [
            "\n",
            "Score: 0.5709567070007324\t \n",
            "Topic: 0.022*\"brain\" + 0.021*\"patient\" + 0.020*\"research\" + 0.016*\"children\" + 0.016*\"prof\" + 0.015*\"social\" + 0.015*\"parent\" + 0.014*\"medic\" + 0.014*\"media\" + 0.013*\"think\"\n",
            "\n",
            "Score: 0.4235626459121704\t \n",
            "Topic: 0.015*\"suggest\" + 0.014*\"hear\" + 0.014*\"children\" + 0.013*\"harm\" + 0.013*\"parent\" + 0.013*\"organ\" + 0.012*\"compani\" + 0.012*\"think\" + 0.012*\"right\" + 0.012*\"govern\"\n"
          ],
          "name": "stdout"
        }
      ]
    },
    {
      "cell_type": "markdown",
      "metadata": {
        "id": "iG3fmLK1kNDn"
      },
      "source": [
        "LDA with TF-IDF"
      ]
    },
    {
      "cell_type": "code",
      "metadata": {
        "colab": {
          "base_uri": "https://localhost:8080/"
        },
        "id": "yHZDe0fwj-_J",
        "outputId": "c22483bc-3715-4a2c-d03d-68345ac03bba"
      },
      "source": [
        "for index, score in sorted(lda_model_tfidf[bow_corpus[0]], key=lambda tup: -1*tup[1]):\n",
        "    print(\"\\nScore: {}\\t \\nTopic: {}\".format(score, lda_model_tfidf.print_topic(index, 10)))"
      ],
      "execution_count": 16,
      "outputs": [
        {
          "output_type": "stream",
          "text": [
            "\n",
            "Score: 0.9506382346153259\t \n",
            "Topic: 0.017*\"babi\" + 0.013*\"children\" + 0.012*\"diseas\" + 0.011*\"women\" + 0.011*\"studi\" + 0.010*\"research\" + 0.010*\"child\" + 0.008*\"risk\" + 0.008*\"surgeri\" + 0.008*\"treatment\"\n",
            "\n",
            "Score: 0.043881453573703766\t \n",
            "Topic: 0.014*\"woman\" + 0.013*\"doctor\" + 0.013*\"hear\" + 0.013*\"state\" + 0.012*\"children\" + 0.012*\"bodi\" + 0.011*\"surgeri\" + 0.011*\"parent\" + 0.010*\"drug\" + 0.009*\"care\"\n"
          ],
          "name": "stdout"
        }
      ]
    },
    {
      "cell_type": "markdown",
      "metadata": {
        "id": "hvXbsECXkVa6"
      },
      "source": [
        "## Tests\n"
      ]
    },
    {
      "cell_type": "code",
      "metadata": {
        "colab": {
          "base_uri": "https://localhost:8080/"
        },
        "id": "7U92c0fqkU0P",
        "outputId": "a4101eed-a0b8-47ad-d87f-1d18648aaf74"
      },
      "source": [
        "unseen_document = 'I have lung cancer, what I can do?'\n",
        "bow_vector = dictionary.doc2bow(preprocess(unseen_document))\n",
        "for index, score in sorted(lda_model[bow_vector], key=lambda tup: -1*tup[1]):\n",
        "    print(\"Score: {}\\t Topic: {}\".format(score, lda_model.print_topic(index, 5)))"
      ],
      "execution_count": 17,
      "outputs": [
        {
          "output_type": "stream",
          "text": [
            "Score: 0.5499820709228516\t Topic: 0.081*\"drug\" + 0.062*\"cancer\" + 0.021*\"patient\" + 0.014*\"research\" + 0.014*\"treatment\"\n",
            "Score: 0.050004590302705765\t Topic: 0.017*\"patient\" + 0.016*\"medic\" + 0.016*\"univers\" + 0.013*\"lose\" + 0.013*\"start\"\n",
            "Score: 0.05000389367341995\t Topic: 0.025*\"women\" + 0.022*\"babi\" + 0.018*\"case\" + 0.014*\"countri\" + 0.013*\"research\"\n",
            "Score: 0.05000351369380951\t Topic: 0.032*\"research\" + 0.031*\"brain\" + 0.029*\"studi\" + 0.024*\"diseas\" + 0.019*\"risk\"\n",
            "Score: 0.050002146512269974\t Topic: 0.026*\"case\" + 0.025*\"diseas\" + 0.025*\"children\" + 0.020*\"risk\" + 0.015*\"think\"\n",
            "Score: 0.05000169202685356\t Topic: 0.022*\"brain\" + 0.021*\"patient\" + 0.020*\"research\" + 0.016*\"children\" + 0.016*\"prof\"\n",
            "Score: 0.050000760704278946\t Topic: 0.029*\"doctor\" + 0.025*\"countri\" + 0.024*\"patient\" + 0.024*\"medic\" + 0.020*\"report\"\n",
            "Score: 0.05000066012144089\t Topic: 0.026*\"babi\" + 0.025*\"famili\" + 0.023*\"child\" + 0.019*\"children\" + 0.018*\"doctor\"\n",
            "Score: 0.05000060796737671\t Topic: 0.015*\"suggest\" + 0.014*\"hear\" + 0.014*\"children\" + 0.013*\"harm\" + 0.013*\"parent\"\n",
            "Score: 0.05000004917383194\t Topic: 0.033*\"children\" + 0.020*\"babi\" + 0.018*\"public\" + 0.018*\"hospit\" + 0.017*\"surgeri\"\n"
          ],
          "name": "stdout"
        }
      ]
    }
  ]
}