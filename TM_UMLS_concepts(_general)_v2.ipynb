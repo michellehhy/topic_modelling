{
  "nbformat": 4,
  "nbformat_minor": 0,
  "metadata": {
    "colab": {
      "name": "TM_UMLS_concepts(-general) v2.ipynb",
      "provenance": [],
      "collapsed_sections": []
    },
    "kernelspec": {
      "name": "python3",
      "display_name": "Python 3"
    },
    "language_info": {
      "name": "python"
    },
    "widgets": {
      "application/vnd.jupyter.widget-state+json": {
        "c75458a9558340c38b214fe8f8cff6c4": {
          "model_module": "@jupyter-widgets/controls",
          "model_name": "HBoxModel",
          "state": {
            "_view_name": "HBoxView",
            "_dom_classes": [],
            "_model_name": "HBoxModel",
            "_view_module": "@jupyter-widgets/controls",
            "_model_module_version": "1.5.0",
            "_view_count": null,
            "_view_module_version": "1.5.0",
            "box_style": "",
            "layout": "IPY_MODEL_caa22c8726134c3a8f567117a0eb8245",
            "_model_module": "@jupyter-widgets/controls",
            "children": [
              "IPY_MODEL_1222bd75e3a54d93a49de5dc81853ae2",
              "IPY_MODEL_875e4e5f5341496dbd6f05f3a13b2293"
            ]
          }
        },
        "caa22c8726134c3a8f567117a0eb8245": {
          "model_module": "@jupyter-widgets/base",
          "model_name": "LayoutModel",
          "state": {
            "_view_name": "LayoutView",
            "grid_template_rows": null,
            "right": null,
            "justify_content": null,
            "_view_module": "@jupyter-widgets/base",
            "overflow": null,
            "_model_module_version": "1.2.0",
            "_view_count": null,
            "flex_flow": null,
            "width": null,
            "min_width": null,
            "border": null,
            "align_items": null,
            "bottom": null,
            "_model_module": "@jupyter-widgets/base",
            "top": null,
            "grid_column": null,
            "overflow_y": null,
            "overflow_x": null,
            "grid_auto_flow": null,
            "grid_area": null,
            "grid_template_columns": null,
            "flex": null,
            "_model_name": "LayoutModel",
            "justify_items": null,
            "grid_row": null,
            "max_height": null,
            "align_content": null,
            "visibility": null,
            "align_self": null,
            "height": null,
            "min_height": null,
            "padding": null,
            "grid_auto_rows": null,
            "grid_gap": null,
            "max_width": null,
            "order": null,
            "_view_module_version": "1.2.0",
            "grid_template_areas": null,
            "object_position": null,
            "object_fit": null,
            "grid_auto_columns": null,
            "margin": null,
            "display": null,
            "left": null
          }
        },
        "1222bd75e3a54d93a49de5dc81853ae2": {
          "model_module": "@jupyter-widgets/controls",
          "model_name": "FloatProgressModel",
          "state": {
            "_view_name": "ProgressView",
            "style": "IPY_MODEL_7247cc60f5e44e87b6765f10a9b53049",
            "_dom_classes": [],
            "description": "Downloading https://raw.githubusercontent.com/stanfordnlp/stanza-resources/main/resources_1.2.2.json: ",
            "_model_name": "FloatProgressModel",
            "bar_style": "success",
            "max": 23856,
            "_view_module": "@jupyter-widgets/controls",
            "_model_module_version": "1.5.0",
            "value": 23856,
            "_view_count": null,
            "_view_module_version": "1.5.0",
            "orientation": "horizontal",
            "min": 0,
            "description_tooltip": null,
            "_model_module": "@jupyter-widgets/controls",
            "layout": "IPY_MODEL_1e2838bca26a43d7b48e72ada92f4b57"
          }
        },
        "875e4e5f5341496dbd6f05f3a13b2293": {
          "model_module": "@jupyter-widgets/controls",
          "model_name": "HTMLModel",
          "state": {
            "_view_name": "HTMLView",
            "style": "IPY_MODEL_5b43264eb5304e078953ffcb4a8880bb",
            "_dom_classes": [],
            "description": "",
            "_model_name": "HTMLModel",
            "placeholder": "​",
            "_view_module": "@jupyter-widgets/controls",
            "_model_module_version": "1.5.0",
            "value": " 139k/? [00:00&lt;00:00, 2.07MB/s]",
            "_view_count": null,
            "_view_module_version": "1.5.0",
            "description_tooltip": null,
            "_model_module": "@jupyter-widgets/controls",
            "layout": "IPY_MODEL_e5c30bdd73494e92b34690699ac9e095"
          }
        },
        "7247cc60f5e44e87b6765f10a9b53049": {
          "model_module": "@jupyter-widgets/controls",
          "model_name": "ProgressStyleModel",
          "state": {
            "_view_name": "StyleView",
            "_model_name": "ProgressStyleModel",
            "description_width": "initial",
            "_view_module": "@jupyter-widgets/base",
            "_model_module_version": "1.5.0",
            "_view_count": null,
            "_view_module_version": "1.2.0",
            "bar_color": null,
            "_model_module": "@jupyter-widgets/controls"
          }
        },
        "1e2838bca26a43d7b48e72ada92f4b57": {
          "model_module": "@jupyter-widgets/base",
          "model_name": "LayoutModel",
          "state": {
            "_view_name": "LayoutView",
            "grid_template_rows": null,
            "right": null,
            "justify_content": null,
            "_view_module": "@jupyter-widgets/base",
            "overflow": null,
            "_model_module_version": "1.2.0",
            "_view_count": null,
            "flex_flow": null,
            "width": null,
            "min_width": null,
            "border": null,
            "align_items": null,
            "bottom": null,
            "_model_module": "@jupyter-widgets/base",
            "top": null,
            "grid_column": null,
            "overflow_y": null,
            "overflow_x": null,
            "grid_auto_flow": null,
            "grid_area": null,
            "grid_template_columns": null,
            "flex": null,
            "_model_name": "LayoutModel",
            "justify_items": null,
            "grid_row": null,
            "max_height": null,
            "align_content": null,
            "visibility": null,
            "align_self": null,
            "height": null,
            "min_height": null,
            "padding": null,
            "grid_auto_rows": null,
            "grid_gap": null,
            "max_width": null,
            "order": null,
            "_view_module_version": "1.2.0",
            "grid_template_areas": null,
            "object_position": null,
            "object_fit": null,
            "grid_auto_columns": null,
            "margin": null,
            "display": null,
            "left": null
          }
        },
        "5b43264eb5304e078953ffcb4a8880bb": {
          "model_module": "@jupyter-widgets/controls",
          "model_name": "DescriptionStyleModel",
          "state": {
            "_view_name": "StyleView",
            "_model_name": "DescriptionStyleModel",
            "description_width": "",
            "_view_module": "@jupyter-widgets/base",
            "_model_module_version": "1.5.0",
            "_view_count": null,
            "_view_module_version": "1.2.0",
            "_model_module": "@jupyter-widgets/controls"
          }
        },
        "e5c30bdd73494e92b34690699ac9e095": {
          "model_module": "@jupyter-widgets/base",
          "model_name": "LayoutModel",
          "state": {
            "_view_name": "LayoutView",
            "grid_template_rows": null,
            "right": null,
            "justify_content": null,
            "_view_module": "@jupyter-widgets/base",
            "overflow": null,
            "_model_module_version": "1.2.0",
            "_view_count": null,
            "flex_flow": null,
            "width": null,
            "min_width": null,
            "border": null,
            "align_items": null,
            "bottom": null,
            "_model_module": "@jupyter-widgets/base",
            "top": null,
            "grid_column": null,
            "overflow_y": null,
            "overflow_x": null,
            "grid_auto_flow": null,
            "grid_area": null,
            "grid_template_columns": null,
            "flex": null,
            "_model_name": "LayoutModel",
            "justify_items": null,
            "grid_row": null,
            "max_height": null,
            "align_content": null,
            "visibility": null,
            "align_self": null,
            "height": null,
            "min_height": null,
            "padding": null,
            "grid_auto_rows": null,
            "grid_gap": null,
            "max_width": null,
            "order": null,
            "_view_module_version": "1.2.0",
            "grid_template_areas": null,
            "object_position": null,
            "object_fit": null,
            "grid_auto_columns": null,
            "margin": null,
            "display": null,
            "left": null
          }
        },
        "a6a461f4ab9a44918fa9b95a96df115e": {
          "model_module": "@jupyter-widgets/controls",
          "model_name": "HBoxModel",
          "state": {
            "_view_name": "HBoxView",
            "_dom_classes": [],
            "_model_name": "HBoxModel",
            "_view_module": "@jupyter-widgets/controls",
            "_model_module_version": "1.5.0",
            "_view_count": null,
            "_view_module_version": "1.5.0",
            "box_style": "",
            "layout": "IPY_MODEL_67bc04660f6d489f902b1eceae0b63ae",
            "_model_module": "@jupyter-widgets/controls",
            "children": [
              "IPY_MODEL_b1d64b1ae9284f1087d6738b7c6569ed",
              "IPY_MODEL_ea20ad697ff241ca9bb3b24994e5aa99"
            ]
          }
        },
        "67bc04660f6d489f902b1eceae0b63ae": {
          "model_module": "@jupyter-widgets/base",
          "model_name": "LayoutModel",
          "state": {
            "_view_name": "LayoutView",
            "grid_template_rows": null,
            "right": null,
            "justify_content": null,
            "_view_module": "@jupyter-widgets/base",
            "overflow": null,
            "_model_module_version": "1.2.0",
            "_view_count": null,
            "flex_flow": null,
            "width": null,
            "min_width": null,
            "border": null,
            "align_items": null,
            "bottom": null,
            "_model_module": "@jupyter-widgets/base",
            "top": null,
            "grid_column": null,
            "overflow_y": null,
            "overflow_x": null,
            "grid_auto_flow": null,
            "grid_area": null,
            "grid_template_columns": null,
            "flex": null,
            "_model_name": "LayoutModel",
            "justify_items": null,
            "grid_row": null,
            "max_height": null,
            "align_content": null,
            "visibility": null,
            "align_self": null,
            "height": null,
            "min_height": null,
            "padding": null,
            "grid_auto_rows": null,
            "grid_gap": null,
            "max_width": null,
            "order": null,
            "_view_module_version": "1.2.0",
            "grid_template_areas": null,
            "object_position": null,
            "object_fit": null,
            "grid_auto_columns": null,
            "margin": null,
            "display": null,
            "left": null
          }
        },
        "b1d64b1ae9284f1087d6738b7c6569ed": {
          "model_module": "@jupyter-widgets/controls",
          "model_name": "FloatProgressModel",
          "state": {
            "_view_name": "ProgressView",
            "style": "IPY_MODEL_38d00ccf2ceb41aaa5b0dbecefc40d69",
            "_dom_classes": [],
            "description": "Downloading http://nlp.stanford.edu/software/stanza/1.2.2/en/pos/craft.pt: 100%",
            "_model_name": "FloatProgressModel",
            "bar_style": "success",
            "max": 21561485,
            "_view_module": "@jupyter-widgets/controls",
            "_model_module_version": "1.5.0",
            "value": 21561485,
            "_view_count": null,
            "_view_module_version": "1.5.0",
            "orientation": "horizontal",
            "min": 0,
            "description_tooltip": null,
            "_model_module": "@jupyter-widgets/controls",
            "layout": "IPY_MODEL_37f59a143dad45ee9c5e7d64374b8832"
          }
        },
        "ea20ad697ff241ca9bb3b24994e5aa99": {
          "model_module": "@jupyter-widgets/controls",
          "model_name": "HTMLModel",
          "state": {
            "_view_name": "HTMLView",
            "style": "IPY_MODEL_23ce42dc7cae45de871aa741f076cd76",
            "_dom_classes": [],
            "description": "",
            "_model_name": "HTMLModel",
            "placeholder": "​",
            "_view_module": "@jupyter-widgets/controls",
            "_model_module_version": "1.5.0",
            "value": " 21.6M/21.6M [00:01&lt;00:00, 17.8MB/s]",
            "_view_count": null,
            "_view_module_version": "1.5.0",
            "description_tooltip": null,
            "_model_module": "@jupyter-widgets/controls",
            "layout": "IPY_MODEL_c838aafc1b034aa280ed1e8b459c1ba8"
          }
        },
        "38d00ccf2ceb41aaa5b0dbecefc40d69": {
          "model_module": "@jupyter-widgets/controls",
          "model_name": "ProgressStyleModel",
          "state": {
            "_view_name": "StyleView",
            "_model_name": "ProgressStyleModel",
            "description_width": "initial",
            "_view_module": "@jupyter-widgets/base",
            "_model_module_version": "1.5.0",
            "_view_count": null,
            "_view_module_version": "1.2.0",
            "bar_color": null,
            "_model_module": "@jupyter-widgets/controls"
          }
        },
        "37f59a143dad45ee9c5e7d64374b8832": {
          "model_module": "@jupyter-widgets/base",
          "model_name": "LayoutModel",
          "state": {
            "_view_name": "LayoutView",
            "grid_template_rows": null,
            "right": null,
            "justify_content": null,
            "_view_module": "@jupyter-widgets/base",
            "overflow": null,
            "_model_module_version": "1.2.0",
            "_view_count": null,
            "flex_flow": null,
            "width": null,
            "min_width": null,
            "border": null,
            "align_items": null,
            "bottom": null,
            "_model_module": "@jupyter-widgets/base",
            "top": null,
            "grid_column": null,
            "overflow_y": null,
            "overflow_x": null,
            "grid_auto_flow": null,
            "grid_area": null,
            "grid_template_columns": null,
            "flex": null,
            "_model_name": "LayoutModel",
            "justify_items": null,
            "grid_row": null,
            "max_height": null,
            "align_content": null,
            "visibility": null,
            "align_self": null,
            "height": null,
            "min_height": null,
            "padding": null,
            "grid_auto_rows": null,
            "grid_gap": null,
            "max_width": null,
            "order": null,
            "_view_module_version": "1.2.0",
            "grid_template_areas": null,
            "object_position": null,
            "object_fit": null,
            "grid_auto_columns": null,
            "margin": null,
            "display": null,
            "left": null
          }
        },
        "23ce42dc7cae45de871aa741f076cd76": {
          "model_module": "@jupyter-widgets/controls",
          "model_name": "DescriptionStyleModel",
          "state": {
            "_view_name": "StyleView",
            "_model_name": "DescriptionStyleModel",
            "description_width": "",
            "_view_module": "@jupyter-widgets/base",
            "_model_module_version": "1.5.0",
            "_view_count": null,
            "_view_module_version": "1.2.0",
            "_model_module": "@jupyter-widgets/controls"
          }
        },
        "c838aafc1b034aa280ed1e8b459c1ba8": {
          "model_module": "@jupyter-widgets/base",
          "model_name": "LayoutModel",
          "state": {
            "_view_name": "LayoutView",
            "grid_template_rows": null,
            "right": null,
            "justify_content": null,
            "_view_module": "@jupyter-widgets/base",
            "overflow": null,
            "_model_module_version": "1.2.0",
            "_view_count": null,
            "flex_flow": null,
            "width": null,
            "min_width": null,
            "border": null,
            "align_items": null,
            "bottom": null,
            "_model_module": "@jupyter-widgets/base",
            "top": null,
            "grid_column": null,
            "overflow_y": null,
            "overflow_x": null,
            "grid_auto_flow": null,
            "grid_area": null,
            "grid_template_columns": null,
            "flex": null,
            "_model_name": "LayoutModel",
            "justify_items": null,
            "grid_row": null,
            "max_height": null,
            "align_content": null,
            "visibility": null,
            "align_self": null,
            "height": null,
            "min_height": null,
            "padding": null,
            "grid_auto_rows": null,
            "grid_gap": null,
            "max_width": null,
            "order": null,
            "_view_module_version": "1.2.0",
            "grid_template_areas": null,
            "object_position": null,
            "object_fit": null,
            "grid_auto_columns": null,
            "margin": null,
            "display": null,
            "left": null
          }
        },
        "2b0e6d5778774251be429d5f473c71dc": {
          "model_module": "@jupyter-widgets/controls",
          "model_name": "HBoxModel",
          "state": {
            "_view_name": "HBoxView",
            "_dom_classes": [],
            "_model_name": "HBoxModel",
            "_view_module": "@jupyter-widgets/controls",
            "_model_module_version": "1.5.0",
            "_view_count": null,
            "_view_module_version": "1.5.0",
            "box_style": "",
            "layout": "IPY_MODEL_d8c6b50826ff4aa1a91a23fb78f7815c",
            "_model_module": "@jupyter-widgets/controls",
            "children": [
              "IPY_MODEL_a8f121d39ccc4d8cac0fabfea56c5223",
              "IPY_MODEL_29afd5d47e9b4e939d14663a0d08cd56"
            ]
          }
        },
        "d8c6b50826ff4aa1a91a23fb78f7815c": {
          "model_module": "@jupyter-widgets/base",
          "model_name": "LayoutModel",
          "state": {
            "_view_name": "LayoutView",
            "grid_template_rows": null,
            "right": null,
            "justify_content": null,
            "_view_module": "@jupyter-widgets/base",
            "overflow": null,
            "_model_module_version": "1.2.0",
            "_view_count": null,
            "flex_flow": null,
            "width": null,
            "min_width": null,
            "border": null,
            "align_items": null,
            "bottom": null,
            "_model_module": "@jupyter-widgets/base",
            "top": null,
            "grid_column": null,
            "overflow_y": null,
            "overflow_x": null,
            "grid_auto_flow": null,
            "grid_area": null,
            "grid_template_columns": null,
            "flex": null,
            "_model_name": "LayoutModel",
            "justify_items": null,
            "grid_row": null,
            "max_height": null,
            "align_content": null,
            "visibility": null,
            "align_self": null,
            "height": null,
            "min_height": null,
            "padding": null,
            "grid_auto_rows": null,
            "grid_gap": null,
            "max_width": null,
            "order": null,
            "_view_module_version": "1.2.0",
            "grid_template_areas": null,
            "object_position": null,
            "object_fit": null,
            "grid_auto_columns": null,
            "margin": null,
            "display": null,
            "left": null
          }
        },
        "a8f121d39ccc4d8cac0fabfea56c5223": {
          "model_module": "@jupyter-widgets/controls",
          "model_name": "FloatProgressModel",
          "state": {
            "_view_name": "ProgressView",
            "style": "IPY_MODEL_2a843f04f4304646b4069849ad887952",
            "_dom_classes": [],
            "description": "Downloading http://nlp.stanford.edu/software/stanza/1.2.2/en/lemma/craft.pt: 100%",
            "_model_name": "FloatProgressModel",
            "bar_style": "success",
            "max": 4554906,
            "_view_module": "@jupyter-widgets/controls",
            "_model_module_version": "1.5.0",
            "value": 4554906,
            "_view_count": null,
            "_view_module_version": "1.5.0",
            "orientation": "horizontal",
            "min": 0,
            "description_tooltip": null,
            "_model_module": "@jupyter-widgets/controls",
            "layout": "IPY_MODEL_485a199dad8a445282852bcd07aa7fcf"
          }
        },
        "29afd5d47e9b4e939d14663a0d08cd56": {
          "model_module": "@jupyter-widgets/controls",
          "model_name": "HTMLModel",
          "state": {
            "_view_name": "HTMLView",
            "style": "IPY_MODEL_3cae08531c50459fb9925b9f4243dcca",
            "_dom_classes": [],
            "description": "",
            "_model_name": "HTMLModel",
            "placeholder": "​",
            "_view_module": "@jupyter-widgets/controls",
            "_model_module_version": "1.5.0",
            "value": " 4.55M/4.55M [00:00&lt;00:00, 10.7MB/s]",
            "_view_count": null,
            "_view_module_version": "1.5.0",
            "description_tooltip": null,
            "_model_module": "@jupyter-widgets/controls",
            "layout": "IPY_MODEL_9d690c86cce643d4a3198074a1d55dfc"
          }
        },
        "2a843f04f4304646b4069849ad887952": {
          "model_module": "@jupyter-widgets/controls",
          "model_name": "ProgressStyleModel",
          "state": {
            "_view_name": "StyleView",
            "_model_name": "ProgressStyleModel",
            "description_width": "initial",
            "_view_module": "@jupyter-widgets/base",
            "_model_module_version": "1.5.0",
            "_view_count": null,
            "_view_module_version": "1.2.0",
            "bar_color": null,
            "_model_module": "@jupyter-widgets/controls"
          }
        },
        "485a199dad8a445282852bcd07aa7fcf": {
          "model_module": "@jupyter-widgets/base",
          "model_name": "LayoutModel",
          "state": {
            "_view_name": "LayoutView",
            "grid_template_rows": null,
            "right": null,
            "justify_content": null,
            "_view_module": "@jupyter-widgets/base",
            "overflow": null,
            "_model_module_version": "1.2.0",
            "_view_count": null,
            "flex_flow": null,
            "width": null,
            "min_width": null,
            "border": null,
            "align_items": null,
            "bottom": null,
            "_model_module": "@jupyter-widgets/base",
            "top": null,
            "grid_column": null,
            "overflow_y": null,
            "overflow_x": null,
            "grid_auto_flow": null,
            "grid_area": null,
            "grid_template_columns": null,
            "flex": null,
            "_model_name": "LayoutModel",
            "justify_items": null,
            "grid_row": null,
            "max_height": null,
            "align_content": null,
            "visibility": null,
            "align_self": null,
            "height": null,
            "min_height": null,
            "padding": null,
            "grid_auto_rows": null,
            "grid_gap": null,
            "max_width": null,
            "order": null,
            "_view_module_version": "1.2.0",
            "grid_template_areas": null,
            "object_position": null,
            "object_fit": null,
            "grid_auto_columns": null,
            "margin": null,
            "display": null,
            "left": null
          }
        },
        "3cae08531c50459fb9925b9f4243dcca": {
          "model_module": "@jupyter-widgets/controls",
          "model_name": "DescriptionStyleModel",
          "state": {
            "_view_name": "StyleView",
            "_model_name": "DescriptionStyleModel",
            "description_width": "",
            "_view_module": "@jupyter-widgets/base",
            "_model_module_version": "1.5.0",
            "_view_count": null,
            "_view_module_version": "1.2.0",
            "_model_module": "@jupyter-widgets/controls"
          }
        },
        "9d690c86cce643d4a3198074a1d55dfc": {
          "model_module": "@jupyter-widgets/base",
          "model_name": "LayoutModel",
          "state": {
            "_view_name": "LayoutView",
            "grid_template_rows": null,
            "right": null,
            "justify_content": null,
            "_view_module": "@jupyter-widgets/base",
            "overflow": null,
            "_model_module_version": "1.2.0",
            "_view_count": null,
            "flex_flow": null,
            "width": null,
            "min_width": null,
            "border": null,
            "align_items": null,
            "bottom": null,
            "_model_module": "@jupyter-widgets/base",
            "top": null,
            "grid_column": null,
            "overflow_y": null,
            "overflow_x": null,
            "grid_auto_flow": null,
            "grid_area": null,
            "grid_template_columns": null,
            "flex": null,
            "_model_name": "LayoutModel",
            "justify_items": null,
            "grid_row": null,
            "max_height": null,
            "align_content": null,
            "visibility": null,
            "align_self": null,
            "height": null,
            "min_height": null,
            "padding": null,
            "grid_auto_rows": null,
            "grid_gap": null,
            "max_width": null,
            "order": null,
            "_view_module_version": "1.2.0",
            "grid_template_areas": null,
            "object_position": null,
            "object_fit": null,
            "grid_auto_columns": null,
            "margin": null,
            "display": null,
            "left": null
          }
        },
        "1d876a7c3f984524b49bc9558b37f7e0": {
          "model_module": "@jupyter-widgets/controls",
          "model_name": "HBoxModel",
          "state": {
            "_view_name": "HBoxView",
            "_dom_classes": [],
            "_model_name": "HBoxModel",
            "_view_module": "@jupyter-widgets/controls",
            "_model_module_version": "1.5.0",
            "_view_count": null,
            "_view_module_version": "1.5.0",
            "box_style": "",
            "layout": "IPY_MODEL_d5fbc9e76be247f9a577a6336d950002",
            "_model_module": "@jupyter-widgets/controls",
            "children": [
              "IPY_MODEL_ab903c1e0897401db796a178abe30f29",
              "IPY_MODEL_d88b0da41e5746379a0dc20eda42df79"
            ]
          }
        },
        "d5fbc9e76be247f9a577a6336d950002": {
          "model_module": "@jupyter-widgets/base",
          "model_name": "LayoutModel",
          "state": {
            "_view_name": "LayoutView",
            "grid_template_rows": null,
            "right": null,
            "justify_content": null,
            "_view_module": "@jupyter-widgets/base",
            "overflow": null,
            "_model_module_version": "1.2.0",
            "_view_count": null,
            "flex_flow": null,
            "width": null,
            "min_width": null,
            "border": null,
            "align_items": null,
            "bottom": null,
            "_model_module": "@jupyter-widgets/base",
            "top": null,
            "grid_column": null,
            "overflow_y": null,
            "overflow_x": null,
            "grid_auto_flow": null,
            "grid_area": null,
            "grid_template_columns": null,
            "flex": null,
            "_model_name": "LayoutModel",
            "justify_items": null,
            "grid_row": null,
            "max_height": null,
            "align_content": null,
            "visibility": null,
            "align_self": null,
            "height": null,
            "min_height": null,
            "padding": null,
            "grid_auto_rows": null,
            "grid_gap": null,
            "max_width": null,
            "order": null,
            "_view_module_version": "1.2.0",
            "grid_template_areas": null,
            "object_position": null,
            "object_fit": null,
            "grid_auto_columns": null,
            "margin": null,
            "display": null,
            "left": null
          }
        },
        "ab903c1e0897401db796a178abe30f29": {
          "model_module": "@jupyter-widgets/controls",
          "model_name": "FloatProgressModel",
          "state": {
            "_view_name": "ProgressView",
            "style": "IPY_MODEL_7eff9fa829974497aaba06217e8712b7",
            "_dom_classes": [],
            "description": "Downloading http://nlp.stanford.edu/software/stanza/1.2.2/en/depparse/craft.pt: 100%",
            "_model_name": "FloatProgressModel",
            "bar_style": "success",
            "max": 110169393,
            "_view_module": "@jupyter-widgets/controls",
            "_model_module_version": "1.5.0",
            "value": 110169393,
            "_view_count": null,
            "_view_module_version": "1.5.0",
            "orientation": "horizontal",
            "min": 0,
            "description_tooltip": null,
            "_model_module": "@jupyter-widgets/controls",
            "layout": "IPY_MODEL_b2bda5d92f7c45309ebda31519854350"
          }
        },
        "d88b0da41e5746379a0dc20eda42df79": {
          "model_module": "@jupyter-widgets/controls",
          "model_name": "HTMLModel",
          "state": {
            "_view_name": "HTMLView",
            "style": "IPY_MODEL_457b8d275dc4473fa9e5447cde8a2824",
            "_dom_classes": [],
            "description": "",
            "_model_name": "HTMLModel",
            "placeholder": "​",
            "_view_module": "@jupyter-widgets/controls",
            "_model_module_version": "1.5.0",
            "value": " 110M/110M [00:54&lt;00:00, 2.02MB/s]",
            "_view_count": null,
            "_view_module_version": "1.5.0",
            "description_tooltip": null,
            "_model_module": "@jupyter-widgets/controls",
            "layout": "IPY_MODEL_35556837af6542e7988e954e14a48ada"
          }
        },
        "7eff9fa829974497aaba06217e8712b7": {
          "model_module": "@jupyter-widgets/controls",
          "model_name": "ProgressStyleModel",
          "state": {
            "_view_name": "StyleView",
            "_model_name": "ProgressStyleModel",
            "description_width": "initial",
            "_view_module": "@jupyter-widgets/base",
            "_model_module_version": "1.5.0",
            "_view_count": null,
            "_view_module_version": "1.2.0",
            "bar_color": null,
            "_model_module": "@jupyter-widgets/controls"
          }
        },
        "b2bda5d92f7c45309ebda31519854350": {
          "model_module": "@jupyter-widgets/base",
          "model_name": "LayoutModel",
          "state": {
            "_view_name": "LayoutView",
            "grid_template_rows": null,
            "right": null,
            "justify_content": null,
            "_view_module": "@jupyter-widgets/base",
            "overflow": null,
            "_model_module_version": "1.2.0",
            "_view_count": null,
            "flex_flow": null,
            "width": null,
            "min_width": null,
            "border": null,
            "align_items": null,
            "bottom": null,
            "_model_module": "@jupyter-widgets/base",
            "top": null,
            "grid_column": null,
            "overflow_y": null,
            "overflow_x": null,
            "grid_auto_flow": null,
            "grid_area": null,
            "grid_template_columns": null,
            "flex": null,
            "_model_name": "LayoutModel",
            "justify_items": null,
            "grid_row": null,
            "max_height": null,
            "align_content": null,
            "visibility": null,
            "align_self": null,
            "height": null,
            "min_height": null,
            "padding": null,
            "grid_auto_rows": null,
            "grid_gap": null,
            "max_width": null,
            "order": null,
            "_view_module_version": "1.2.0",
            "grid_template_areas": null,
            "object_position": null,
            "object_fit": null,
            "grid_auto_columns": null,
            "margin": null,
            "display": null,
            "left": null
          }
        },
        "457b8d275dc4473fa9e5447cde8a2824": {
          "model_module": "@jupyter-widgets/controls",
          "model_name": "DescriptionStyleModel",
          "state": {
            "_view_name": "StyleView",
            "_model_name": "DescriptionStyleModel",
            "description_width": "",
            "_view_module": "@jupyter-widgets/base",
            "_model_module_version": "1.5.0",
            "_view_count": null,
            "_view_module_version": "1.2.0",
            "_model_module": "@jupyter-widgets/controls"
          }
        },
        "35556837af6542e7988e954e14a48ada": {
          "model_module": "@jupyter-widgets/base",
          "model_name": "LayoutModel",
          "state": {
            "_view_name": "LayoutView",
            "grid_template_rows": null,
            "right": null,
            "justify_content": null,
            "_view_module": "@jupyter-widgets/base",
            "overflow": null,
            "_model_module_version": "1.2.0",
            "_view_count": null,
            "flex_flow": null,
            "width": null,
            "min_width": null,
            "border": null,
            "align_items": null,
            "bottom": null,
            "_model_module": "@jupyter-widgets/base",
            "top": null,
            "grid_column": null,
            "overflow_y": null,
            "overflow_x": null,
            "grid_auto_flow": null,
            "grid_area": null,
            "grid_template_columns": null,
            "flex": null,
            "_model_name": "LayoutModel",
            "justify_items": null,
            "grid_row": null,
            "max_height": null,
            "align_content": null,
            "visibility": null,
            "align_self": null,
            "height": null,
            "min_height": null,
            "padding": null,
            "grid_auto_rows": null,
            "grid_gap": null,
            "max_width": null,
            "order": null,
            "_view_module_version": "1.2.0",
            "grid_template_areas": null,
            "object_position": null,
            "object_fit": null,
            "grid_auto_columns": null,
            "margin": null,
            "display": null,
            "left": null
          }
        },
        "e005eb33dd8c4d11a8af18a85929a482": {
          "model_module": "@jupyter-widgets/controls",
          "model_name": "HBoxModel",
          "state": {
            "_view_name": "HBoxView",
            "_dom_classes": [],
            "_model_name": "HBoxModel",
            "_view_module": "@jupyter-widgets/controls",
            "_model_module_version": "1.5.0",
            "_view_count": null,
            "_view_module_version": "1.5.0",
            "box_style": "",
            "layout": "IPY_MODEL_1bb01e8aba894b6fa4cce29959b35d26",
            "_model_module": "@jupyter-widgets/controls",
            "children": [
              "IPY_MODEL_2720e4f50be1425abac0646b0540c9bd",
              "IPY_MODEL_4b58540718504cea8f1d48dd26ccb11d"
            ]
          }
        },
        "1bb01e8aba894b6fa4cce29959b35d26": {
          "model_module": "@jupyter-widgets/base",
          "model_name": "LayoutModel",
          "state": {
            "_view_name": "LayoutView",
            "grid_template_rows": null,
            "right": null,
            "justify_content": null,
            "_view_module": "@jupyter-widgets/base",
            "overflow": null,
            "_model_module_version": "1.2.0",
            "_view_count": null,
            "flex_flow": null,
            "width": null,
            "min_width": null,
            "border": null,
            "align_items": null,
            "bottom": null,
            "_model_module": "@jupyter-widgets/base",
            "top": null,
            "grid_column": null,
            "overflow_y": null,
            "overflow_x": null,
            "grid_auto_flow": null,
            "grid_area": null,
            "grid_template_columns": null,
            "flex": null,
            "_model_name": "LayoutModel",
            "justify_items": null,
            "grid_row": null,
            "max_height": null,
            "align_content": null,
            "visibility": null,
            "align_self": null,
            "height": null,
            "min_height": null,
            "padding": null,
            "grid_auto_rows": null,
            "grid_gap": null,
            "max_width": null,
            "order": null,
            "_view_module_version": "1.2.0",
            "grid_template_areas": null,
            "object_position": null,
            "object_fit": null,
            "grid_auto_columns": null,
            "margin": null,
            "display": null,
            "left": null
          }
        },
        "2720e4f50be1425abac0646b0540c9bd": {
          "model_module": "@jupyter-widgets/controls",
          "model_name": "FloatProgressModel",
          "state": {
            "_view_name": "ProgressView",
            "style": "IPY_MODEL_146eea291d8f428c80b9fa1c08633542",
            "_dom_classes": [],
            "description": "Downloading http://nlp.stanford.edu/software/stanza/1.2.2/en/pretrain/craft.pt: 100%",
            "_model_name": "FloatProgressModel",
            "bar_style": "success",
            "max": 82635089,
            "_view_module": "@jupyter-widgets/controls",
            "_model_module_version": "1.5.0",
            "value": 82635089,
            "_view_count": null,
            "_view_module_version": "1.5.0",
            "orientation": "horizontal",
            "min": 0,
            "description_tooltip": null,
            "_model_module": "@jupyter-widgets/controls",
            "layout": "IPY_MODEL_112265ed60e34902ac6f6affa80a2e49"
          }
        },
        "4b58540718504cea8f1d48dd26ccb11d": {
          "model_module": "@jupyter-widgets/controls",
          "model_name": "HTMLModel",
          "state": {
            "_view_name": "HTMLView",
            "style": "IPY_MODEL_a29e3223a4114fa9a2d61568c46995fd",
            "_dom_classes": [],
            "description": "",
            "_model_name": "HTMLModel",
            "placeholder": "​",
            "_view_module": "@jupyter-widgets/controls",
            "_model_module_version": "1.5.0",
            "value": " 82.6M/82.6M [00:37&lt;00:00, 2.22MB/s]",
            "_view_count": null,
            "_view_module_version": "1.5.0",
            "description_tooltip": null,
            "_model_module": "@jupyter-widgets/controls",
            "layout": "IPY_MODEL_a2afc0cdfd764ae79253481fb779769f"
          }
        },
        "146eea291d8f428c80b9fa1c08633542": {
          "model_module": "@jupyter-widgets/controls",
          "model_name": "ProgressStyleModel",
          "state": {
            "_view_name": "StyleView",
            "_model_name": "ProgressStyleModel",
            "description_width": "initial",
            "_view_module": "@jupyter-widgets/base",
            "_model_module_version": "1.5.0",
            "_view_count": null,
            "_view_module_version": "1.2.0",
            "bar_color": null,
            "_model_module": "@jupyter-widgets/controls"
          }
        },
        "112265ed60e34902ac6f6affa80a2e49": {
          "model_module": "@jupyter-widgets/base",
          "model_name": "LayoutModel",
          "state": {
            "_view_name": "LayoutView",
            "grid_template_rows": null,
            "right": null,
            "justify_content": null,
            "_view_module": "@jupyter-widgets/base",
            "overflow": null,
            "_model_module_version": "1.2.0",
            "_view_count": null,
            "flex_flow": null,
            "width": null,
            "min_width": null,
            "border": null,
            "align_items": null,
            "bottom": null,
            "_model_module": "@jupyter-widgets/base",
            "top": null,
            "grid_column": null,
            "overflow_y": null,
            "overflow_x": null,
            "grid_auto_flow": null,
            "grid_area": null,
            "grid_template_columns": null,
            "flex": null,
            "_model_name": "LayoutModel",
            "justify_items": null,
            "grid_row": null,
            "max_height": null,
            "align_content": null,
            "visibility": null,
            "align_self": null,
            "height": null,
            "min_height": null,
            "padding": null,
            "grid_auto_rows": null,
            "grid_gap": null,
            "max_width": null,
            "order": null,
            "_view_module_version": "1.2.0",
            "grid_template_areas": null,
            "object_position": null,
            "object_fit": null,
            "grid_auto_columns": null,
            "margin": null,
            "display": null,
            "left": null
          }
        },
        "a29e3223a4114fa9a2d61568c46995fd": {
          "model_module": "@jupyter-widgets/controls",
          "model_name": "DescriptionStyleModel",
          "state": {
            "_view_name": "StyleView",
            "_model_name": "DescriptionStyleModel",
            "description_width": "",
            "_view_module": "@jupyter-widgets/base",
            "_model_module_version": "1.5.0",
            "_view_count": null,
            "_view_module_version": "1.2.0",
            "_model_module": "@jupyter-widgets/controls"
          }
        },
        "a2afc0cdfd764ae79253481fb779769f": {
          "model_module": "@jupyter-widgets/base",
          "model_name": "LayoutModel",
          "state": {
            "_view_name": "LayoutView",
            "grid_template_rows": null,
            "right": null,
            "justify_content": null,
            "_view_module": "@jupyter-widgets/base",
            "overflow": null,
            "_model_module_version": "1.2.0",
            "_view_count": null,
            "flex_flow": null,
            "width": null,
            "min_width": null,
            "border": null,
            "align_items": null,
            "bottom": null,
            "_model_module": "@jupyter-widgets/base",
            "top": null,
            "grid_column": null,
            "overflow_y": null,
            "overflow_x": null,
            "grid_auto_flow": null,
            "grid_area": null,
            "grid_template_columns": null,
            "flex": null,
            "_model_name": "LayoutModel",
            "justify_items": null,
            "grid_row": null,
            "max_height": null,
            "align_content": null,
            "visibility": null,
            "align_self": null,
            "height": null,
            "min_height": null,
            "padding": null,
            "grid_auto_rows": null,
            "grid_gap": null,
            "max_width": null,
            "order": null,
            "_view_module_version": "1.2.0",
            "grid_template_areas": null,
            "object_position": null,
            "object_fit": null,
            "grid_auto_columns": null,
            "margin": null,
            "display": null,
            "left": null
          }
        }
      }
    },
    "accelerator": "GPU"
  },
  "cells": [
    {
      "cell_type": "code",
      "metadata": {
        "colab": {
          "base_uri": "https://localhost:8080/"
        },
        "id": "8YNayeOSSYX7",
        "outputId": "6167d9a3-46db-4802-e0e4-79082c923bb2"
      },
      "source": [
        "pip install pyquery"
      ],
      "execution_count": null,
      "outputs": [
        {
          "output_type": "stream",
          "text": [
            "Requirement already satisfied: pyquery in /usr/local/lib/python3.7/dist-packages (1.4.3)\n",
            "Requirement already satisfied: lxml>=2.1 in /usr/local/lib/python3.7/dist-packages (from pyquery) (4.2.6)\n",
            "Requirement already satisfied: cssselect>0.7.9 in /usr/local/lib/python3.7/dist-packages (from pyquery) (1.1.0)\n"
          ],
          "name": "stdout"
        }
      ]
    },
    {
      "cell_type": "code",
      "metadata": {
        "colab": {
          "base_uri": "https://localhost:8080/"
        },
        "id": "33WyjyJWSnCJ",
        "outputId": "de732307-4d89-4504-c8d3-c5d5951cdab4"
      },
      "source": [
        "pip install tenacity"
      ],
      "execution_count": null,
      "outputs": [
        {
          "output_type": "stream",
          "text": [
            "Requirement already satisfied: tenacity in /usr/local/lib/python3.7/dist-packages (8.0.1)\n"
          ],
          "name": "stdout"
        }
      ]
    },
    {
      "cell_type": "code",
      "metadata": {
        "colab": {
          "base_uri": "https://localhost:8080/"
        },
        "id": "2_iterSiSo-4",
        "outputId": "14d2a605-2406-4b78-a283-cf2190b86a4d"
      },
      "source": [
        "pip install umls-api"
      ],
      "execution_count": null,
      "outputs": [
        {
          "output_type": "stream",
          "text": [
            "Requirement already satisfied: umls-api in /usr/local/lib/python3.7/dist-packages (0.1.0)\n",
            "Requirement already satisfied: requests in /usr/local/lib/python3.7/dist-packages (from umls-api) (2.23.0)\n",
            "Requirement already satisfied: lxml in /usr/local/lib/python3.7/dist-packages (from umls-api) (4.2.6)\n",
            "Requirement already satisfied: cachetools<5.0.0,>=4.0.0 in /usr/local/lib/python3.7/dist-packages (from umls-api) (4.2.2)\n",
            "Requirement already satisfied: certifi>=2017.4.17 in /usr/local/lib/python3.7/dist-packages (from requests->umls-api) (2021.5.30)\n",
            "Requirement already satisfied: chardet<4,>=3.0.2 in /usr/local/lib/python3.7/dist-packages (from requests->umls-api) (3.0.4)\n",
            "Requirement already satisfied: urllib3!=1.25.0,!=1.25.1,<1.26,>=1.21.1 in /usr/local/lib/python3.7/dist-packages (from requests->umls-api) (1.24.3)\n",
            "Requirement already satisfied: idna<3,>=2.5 in /usr/local/lib/python3.7/dist-packages (from requests->umls-api) (2.10)\n"
          ],
          "name": "stdout"
        }
      ]
    },
    {
      "cell_type": "code",
      "metadata": {
        "id": "GSQwY-zdeWl3"
      },
      "source": [
        "!pip install pyldavis --q"
      ],
      "execution_count": null,
      "outputs": []
    },
    {
      "cell_type": "code",
      "metadata": {
        "colab": {
          "base_uri": "https://localhost:8080/"
        },
        "id": "izLDFux7fuIs",
        "outputId": "fc5736ab-0e60-4ba2-be35-f6c0b3fac8de"
      },
      "source": [
        "pip install stanza"
      ],
      "execution_count": null,
      "outputs": [
        {
          "output_type": "stream",
          "text": [
            "Requirement already satisfied: stanza in /usr/local/lib/python3.7/dist-packages (1.2.2)\n",
            "Requirement already satisfied: torch>=1.3.0 in /usr/local/lib/python3.7/dist-packages (from stanza) (1.9.0+cu102)\n",
            "Requirement already satisfied: tqdm in /usr/local/lib/python3.7/dist-packages (from stanza) (4.41.1)\n",
            "Requirement already satisfied: requests in /usr/local/lib/python3.7/dist-packages (from stanza) (2.23.0)\n",
            "Requirement already satisfied: protobuf in /usr/local/lib/python3.7/dist-packages (from stanza) (3.17.3)\n",
            "Requirement already satisfied: numpy in /usr/local/lib/python3.7/dist-packages (from stanza) (1.21.1)\n",
            "Requirement already satisfied: typing-extensions in /usr/local/lib/python3.7/dist-packages (from torch>=1.3.0->stanza) (3.7.4.3)\n",
            "Requirement already satisfied: six>=1.9 in /usr/local/lib/python3.7/dist-packages (from protobuf->stanza) (1.15.0)\n",
            "Requirement already satisfied: chardet<4,>=3.0.2 in /usr/local/lib/python3.7/dist-packages (from requests->stanza) (3.0.4)\n",
            "Requirement already satisfied: urllib3!=1.25.0,!=1.25.1,<1.26,>=1.21.1 in /usr/local/lib/python3.7/dist-packages (from requests->stanza) (1.24.3)\n",
            "Requirement already satisfied: idna<3,>=2.5 in /usr/local/lib/python3.7/dist-packages (from requests->stanza) (2.10)\n",
            "Requirement already satisfied: certifi>=2017.4.17 in /usr/local/lib/python3.7/dist-packages (from requests->stanza) (2021.5.30)\n"
          ],
          "name": "stdout"
        }
      ]
    },
    {
      "cell_type": "code",
      "metadata": {
        "colab": {
          "base_uri": "https://localhost:8080/",
          "height": 483,
          "referenced_widgets": [
            "c75458a9558340c38b214fe8f8cff6c4",
            "caa22c8726134c3a8f567117a0eb8245",
            "1222bd75e3a54d93a49de5dc81853ae2",
            "875e4e5f5341496dbd6f05f3a13b2293",
            "7247cc60f5e44e87b6765f10a9b53049",
            "1e2838bca26a43d7b48e72ada92f4b57",
            "5b43264eb5304e078953ffcb4a8880bb",
            "e5c30bdd73494e92b34690699ac9e095",
            "a6a461f4ab9a44918fa9b95a96df115e",
            "67bc04660f6d489f902b1eceae0b63ae",
            "b1d64b1ae9284f1087d6738b7c6569ed",
            "ea20ad697ff241ca9bb3b24994e5aa99",
            "38d00ccf2ceb41aaa5b0dbecefc40d69",
            "37f59a143dad45ee9c5e7d64374b8832",
            "23ce42dc7cae45de871aa741f076cd76",
            "c838aafc1b034aa280ed1e8b459c1ba8",
            "2b0e6d5778774251be429d5f473c71dc",
            "d8c6b50826ff4aa1a91a23fb78f7815c",
            "a8f121d39ccc4d8cac0fabfea56c5223",
            "29afd5d47e9b4e939d14663a0d08cd56",
            "2a843f04f4304646b4069849ad887952",
            "485a199dad8a445282852bcd07aa7fcf",
            "3cae08531c50459fb9925b9f4243dcca",
            "9d690c86cce643d4a3198074a1d55dfc",
            "1d876a7c3f984524b49bc9558b37f7e0",
            "d5fbc9e76be247f9a577a6336d950002",
            "ab903c1e0897401db796a178abe30f29",
            "d88b0da41e5746379a0dc20eda42df79",
            "7eff9fa829974497aaba06217e8712b7",
            "b2bda5d92f7c45309ebda31519854350",
            "457b8d275dc4473fa9e5447cde8a2824",
            "35556837af6542e7988e954e14a48ada",
            "e005eb33dd8c4d11a8af18a85929a482",
            "1bb01e8aba894b6fa4cce29959b35d26",
            "2720e4f50be1425abac0646b0540c9bd",
            "4b58540718504cea8f1d48dd26ccb11d",
            "146eea291d8f428c80b9fa1c08633542",
            "112265ed60e34902ac6f6affa80a2e49",
            "a29e3223a4114fa9a2d61568c46995fd",
            "a2afc0cdfd764ae79253481fb779769f"
          ]
        },
        "id": "TcXrGjEqf0Kk",
        "outputId": "40d6a7e3-33fe-48fb-cd75-d4f4c5ce8290"
      },
      "source": [
        "import stanza\n",
        "stanza.download('en',package = 'craft')"
      ],
      "execution_count": null,
      "outputs": [
        {
          "output_type": "display_data",
          "data": {
            "application/vnd.jupyter.widget-view+json": {
              "model_id": "c75458a9558340c38b214fe8f8cff6c4",
              "version_minor": 0,
              "version_major": 2
            },
            "text/plain": [
              "HBox(children=(FloatProgress(value=0.0, description='Downloading https://raw.githubusercontent.com/stanfordnlp…"
            ]
          },
          "metadata": {
            "tags": []
          }
        },
        {
          "output_type": "stream",
          "text": [
            "2021-07-31 23:16:43 INFO: Downloading these customized packages for language: en (English)...\n",
            "=======================\n",
            "| Processor | Package |\n",
            "-----------------------\n",
            "| tokenize  | craft   |\n",
            "| pos       | craft   |\n",
            "| lemma     | craft   |\n",
            "| depparse  | craft   |\n",
            "| pretrain  | craft   |\n",
            "=======================\n",
            "\n",
            "2021-07-31 23:16:43 INFO: File exists: /root/stanza_resources/en/tokenize/craft.pt.\n"
          ],
          "name": "stderr"
        },
        {
          "output_type": "stream",
          "text": [
            "\n"
          ],
          "name": "stdout"
        },
        {
          "output_type": "display_data",
          "data": {
            "application/vnd.jupyter.widget-view+json": {
              "model_id": "a6a461f4ab9a44918fa9b95a96df115e",
              "version_minor": 0,
              "version_major": 2
            },
            "text/plain": [
              "HBox(children=(FloatProgress(value=0.0, description='Downloading http://nlp.stanford.edu/software/stanza/1.2.2…"
            ]
          },
          "metadata": {
            "tags": []
          }
        },
        {
          "output_type": "stream",
          "text": [
            "\n"
          ],
          "name": "stdout"
        },
        {
          "output_type": "display_data",
          "data": {
            "application/vnd.jupyter.widget-view+json": {
              "model_id": "2b0e6d5778774251be429d5f473c71dc",
              "version_minor": 0,
              "version_major": 2
            },
            "text/plain": [
              "HBox(children=(FloatProgress(value=0.0, description='Downloading http://nlp.stanford.edu/software/stanza/1.2.2…"
            ]
          },
          "metadata": {
            "tags": []
          }
        },
        {
          "output_type": "stream",
          "text": [
            "\n"
          ],
          "name": "stdout"
        },
        {
          "output_type": "display_data",
          "data": {
            "application/vnd.jupyter.widget-view+json": {
              "model_id": "1d876a7c3f984524b49bc9558b37f7e0",
              "version_minor": 0,
              "version_major": 2
            },
            "text/plain": [
              "HBox(children=(FloatProgress(value=0.0, description='Downloading http://nlp.stanford.edu/software/stanza/1.2.2…"
            ]
          },
          "metadata": {
            "tags": []
          }
        },
        {
          "output_type": "stream",
          "text": [
            "\n"
          ],
          "name": "stdout"
        },
        {
          "output_type": "display_data",
          "data": {
            "application/vnd.jupyter.widget-view+json": {
              "model_id": "e005eb33dd8c4d11a8af18a85929a482",
              "version_minor": 0,
              "version_major": 2
            },
            "text/plain": [
              "HBox(children=(FloatProgress(value=0.0, description='Downloading http://nlp.stanford.edu/software/stanza/1.2.2…"
            ]
          },
          "metadata": {
            "tags": []
          }
        },
        {
          "output_type": "stream",
          "text": [
            "2021-07-31 23:17:13 INFO: Finished downloading models and saved to /root/stanza_resources.\n"
          ],
          "name": "stderr"
        },
        {
          "output_type": "stream",
          "text": [
            "\n"
          ],
          "name": "stdout"
        }
      ]
    },
    {
      "cell_type": "code",
      "metadata": {
        "id": "gC1ZoMx_SqKh"
      },
      "source": [
        "import requests\n",
        "import json\n",
        "from lxml.html import fromstring\n",
        "import pyquery\n",
        "from __future__ import print_function\n",
        "import pandas as pd\n",
        "import umls_api\n",
        "import gensim\n",
        "from gensim.models import Phrases\n",
        "from gensim.corpora import Dictionary \n",
        "\n",
        "from gensim.utils import simple_preprocess\n",
        "from gensim.parsing.preprocessing import remove_stopwords, STOPWORDS\n",
        "from gensim.parsing.preprocessing import strip_numeric,strip_multiple_whitespaces, strip_punctuation, strip_short, strip_tags"
      ],
      "execution_count": null,
      "outputs": []
    },
    {
      "cell_type": "code",
      "metadata": {
        "id": "tbWEKkgXWTJQ"
      },
      "source": [
        "import re\n",
        "import numpy as np"
      ],
      "execution_count": null,
      "outputs": []
    },
    {
      "cell_type": "code",
      "metadata": {
        "colab": {
          "base_uri": "https://localhost:8080/"
        },
        "id": "1iP3OpRxebtC",
        "outputId": "0b0aafdb-c576-410a-ba4c-eb6b9be1d99e"
      },
      "source": [
        "import pyLDAvis\n",
        "import pyLDAvis.gensim_models\n",
        "import matplotlib.pyplot as plt\n",
        "%matplotlib inline"
      ],
      "execution_count": null,
      "outputs": [
        {
          "output_type": "stream",
          "text": [
            "/usr/local/lib/python3.7/dist-packages/past/types/oldstr.py:5: DeprecationWarning: Using or importing the ABCs from 'collections' instead of from 'collections.abc' is deprecated since Python 3.3,and in 3.9 it will stop working\n",
            "  from collections import Iterable\n",
            "/usr/local/lib/python3.7/dist-packages/sklearn/linear_model/_least_angle.py:30: DeprecationWarning: `np.float` is a deprecated alias for the builtin `float`. To silence this warning, use `float` by itself. Doing this will not modify any behavior and is safe. If you specifically wanted the numpy scalar type, use `np.float64` here.\n",
            "Deprecated in NumPy 1.20; for more details and guidance: https://numpy.org/devdocs/release/1.20.0-notes.html#deprecations\n",
            "  method='lar', copy_X=True, eps=np.finfo(np.float).eps,\n",
            "/usr/local/lib/python3.7/dist-packages/sklearn/linear_model/_least_angle.py:169: DeprecationWarning: `np.float` is a deprecated alias for the builtin `float`. To silence this warning, use `float` by itself. Doing this will not modify any behavior and is safe. If you specifically wanted the numpy scalar type, use `np.float64` here.\n",
            "Deprecated in NumPy 1.20; for more details and guidance: https://numpy.org/devdocs/release/1.20.0-notes.html#deprecations\n",
            "  method='lar', copy_X=True, eps=np.finfo(np.float).eps,\n",
            "/usr/local/lib/python3.7/dist-packages/sklearn/linear_model/_least_angle.py:286: DeprecationWarning: `np.float` is a deprecated alias for the builtin `float`. To silence this warning, use `float` by itself. Doing this will not modify any behavior and is safe. If you specifically wanted the numpy scalar type, use `np.float64` here.\n",
            "Deprecated in NumPy 1.20; for more details and guidance: https://numpy.org/devdocs/release/1.20.0-notes.html#deprecations\n",
            "  eps=np.finfo(np.float).eps, copy_Gram=True, verbose=0,\n",
            "/usr/local/lib/python3.7/dist-packages/sklearn/linear_model/_least_angle.py:858: DeprecationWarning: `np.float` is a deprecated alias for the builtin `float`. To silence this warning, use `float` by itself. Doing this will not modify any behavior and is safe. If you specifically wanted the numpy scalar type, use `np.float64` here.\n",
            "Deprecated in NumPy 1.20; for more details and guidance: https://numpy.org/devdocs/release/1.20.0-notes.html#deprecations\n",
            "  eps=np.finfo(np.float).eps, copy_X=True, fit_path=True):\n",
            "/usr/local/lib/python3.7/dist-packages/sklearn/linear_model/_least_angle.py:1094: DeprecationWarning: `np.float` is a deprecated alias for the builtin `float`. To silence this warning, use `float` by itself. Doing this will not modify any behavior and is safe. If you specifically wanted the numpy scalar type, use `np.float64` here.\n",
            "Deprecated in NumPy 1.20; for more details and guidance: https://numpy.org/devdocs/release/1.20.0-notes.html#deprecations\n",
            "  eps=np.finfo(np.float).eps, copy_X=True, fit_path=True,\n",
            "/usr/local/lib/python3.7/dist-packages/sklearn/linear_model/_least_angle.py:1120: DeprecationWarning: `np.float` is a deprecated alias for the builtin `float`. To silence this warning, use `float` by itself. Doing this will not modify any behavior and is safe. If you specifically wanted the numpy scalar type, use `np.float64` here.\n",
            "Deprecated in NumPy 1.20; for more details and guidance: https://numpy.org/devdocs/release/1.20.0-notes.html#deprecations\n",
            "  eps=np.finfo(np.float).eps, positive=False):\n",
            "/usr/local/lib/python3.7/dist-packages/sklearn/linear_model/_least_angle.py:1349: DeprecationWarning: `np.float` is a deprecated alias for the builtin `float`. To silence this warning, use `float` by itself. Doing this will not modify any behavior and is safe. If you specifically wanted the numpy scalar type, use `np.float64` here.\n",
            "Deprecated in NumPy 1.20; for more details and guidance: https://numpy.org/devdocs/release/1.20.0-notes.html#deprecations\n",
            "  max_n_alphas=1000, n_jobs=None, eps=np.finfo(np.float).eps,\n",
            "/usr/local/lib/python3.7/dist-packages/sklearn/linear_model/_least_angle.py:1590: DeprecationWarning: `np.float` is a deprecated alias for the builtin `float`. To silence this warning, use `float` by itself. Doing this will not modify any behavior and is safe. If you specifically wanted the numpy scalar type, use `np.float64` here.\n",
            "Deprecated in NumPy 1.20; for more details and guidance: https://numpy.org/devdocs/release/1.20.0-notes.html#deprecations\n",
            "  max_n_alphas=1000, n_jobs=None, eps=np.finfo(np.float).eps,\n",
            "/usr/local/lib/python3.7/dist-packages/sklearn/linear_model/_least_angle.py:1723: DeprecationWarning: `np.float` is a deprecated alias for the builtin `float`. To silence this warning, use `float` by itself. Doing this will not modify any behavior and is safe. If you specifically wanted the numpy scalar type, use `np.float64` here.\n",
            "Deprecated in NumPy 1.20; for more details and guidance: https://numpy.org/devdocs/release/1.20.0-notes.html#deprecations\n",
            "  eps=np.finfo(np.float).eps, copy_X=True, positive=False):\n",
            "/usr/local/lib/python3.7/dist-packages/sklearn/decomposition/_lda.py:29: DeprecationWarning: `np.float` is a deprecated alias for the builtin `float`. To silence this warning, use `float` by itself. Doing this will not modify any behavior and is safe. If you specifically wanted the numpy scalar type, use `np.float64` here.\n",
            "Deprecated in NumPy 1.20; for more details and guidance: https://numpy.org/devdocs/release/1.20.0-notes.html#deprecations\n",
            "  EPS = np.finfo(np.float).eps\n"
          ],
          "name": "stderr"
        }
      ]
    },
    {
      "cell_type": "code",
      "metadata": {
        "colab": {
          "base_uri": "https://localhost:8080/"
        },
        "id": "YMOryzwoTEnB",
        "outputId": "ceed131b-bb78-4004-aac0-e8f92dd42aba"
      },
      "source": [
        "from google.colab import drive\n",
        "drive.mount('/content/drive')\n",
        "\n",
        "df = pd.read_csv('drive/MyDrive/bbc_1807_1906_novideos.csv',encoding = 'utf-8')\n",
        "df.head"
      ],
      "execution_count": null,
      "outputs": [
        {
          "output_type": "stream",
          "text": [
            "Mounted at /content/drive\n"
          ],
          "name": "stdout"
        },
        {
          "output_type": "execute_result",
          "data": {
            "text/plain": [
              "<bound method NDFrame.head of      Month  ... Unnamed: 6\n",
              "0     1901  ...        NaN\n",
              "1     1901  ...        NaN\n",
              "2     1901  ...        NaN\n",
              "3     1901  ...        NaN\n",
              "4     1901  ...        NaN\n",
              "..     ...  ...        ...\n",
              "707   1812  ...        NaN\n",
              "708   1812  ...        NaN\n",
              "709   1812  ...        NaN\n",
              "710   1812  ...        NaN\n",
              "711   1812  ...        NaN\n",
              "\n",
              "[712 rows x 7 columns]>"
            ]
          },
          "metadata": {
            "tags": []
          },
          "execution_count": 11
        }
      ]
    },
    {
      "cell_type": "code",
      "metadata": {
        "id": "AvcANCp1TIco"
      },
      "source": [
        "texts = list(df.loc[:, \"text\"].values)"
      ],
      "execution_count": null,
      "outputs": []
    },
    {
      "cell_type": "code",
      "metadata": {
        "id": "sgDY_xAaTK5o"
      },
      "source": [
        "new_sw = ['people','say','says','said','could','one','would','take','want','have','she','he','give','told','know','but','health','month','day','year', 'minute','second','hundred','thousand','however']\n",
        "stop_words = STOPWORDS.union(set(new_sw))"
      ],
      "execution_count": null,
      "outputs": []
    },
    {
      "cell_type": "code",
      "metadata": {
        "id": "BWOymtfRe_nT"
      },
      "source": [
        "pubmed_stoplist = ['a','about','again','all','almost', 'also','although','always',\\\n",
        "                   'among','an','and','another','any','are','as','at','be','because',\\\n",
        "                   'been','before','being','between','both','but','by','can','could',\\\n",
        "                   'did','do','does','done','due','during','each','either','enough', \\\n",
        "                   'especially','etc','for','found', 'from','further','had','is','it',\\\n",
        "                   'has','have','having','here','how','however','i','if','in','into',\\\n",
        "                   'its','itself','just','kg','km', 'made','mainly','make','may','mg',\\\n",
        "                   'might','ml','mm','most','mostly','must','nearly','neither','no',\\\n",
        "                   'nor','obtained','of','often','on','our','overall','perhaps','pmid',\\\n",
        "                   'quite','rather','really','regarding','seem','seen','several',\\\n",
        "                   'should','show','showed','shown','shows','significantly','since',\\\n",
        "                   'so','some','such','than','that','the','their','theirs','them',\\\n",
        "                   'then','there','therefore','these','they','this','those','through',\\\n",
        "                   'thus','to','upon','use','used','using','various','very', 'was','we',\\\n",
        "                   'were','what','when', 'which','while','with','within','without','would']"
      ],
      "execution_count": null,
      "outputs": []
    },
    {
      "cell_type": "code",
      "metadata": {
        "id": "GwRJ4I-jfBN7"
      },
      "source": [
        "stop_words = STOPWORDS.union(set(pubmed_stoplist))"
      ],
      "execution_count": null,
      "outputs": []
    },
    {
      "cell_type": "code",
      "metadata": {
        "id": "b0jJslmMWclH"
      },
      "source": [
        "clean_article = []\n",
        "\n",
        "for text in texts:\n",
        "  #remove new line character and punctuations \n",
        "  clean = []\n",
        "  text = strip_multiple_whitespaces(text)\n",
        "  text = strip_numeric(text)\n",
        "  text = strip_punctuation(text)\n",
        "  text = strip_tags(text)\n",
        "  text = strip_short(text,minsize=3)\n",
        "  text = remove_stopwords(text)\n",
        "  # lower case, de-accents.  Convert the texts into a list of tokens\n",
        "  for token in gensim.utils.simple_preprocess(text, deacc=True):\n",
        "      clean.append(token)\n",
        "  clean_article.append(clean)"
      ],
      "execution_count": null,
      "outputs": []
    },
    {
      "cell_type": "code",
      "metadata": {
        "colab": {
          "base_uri": "https://localhost:8080/"
        },
        "id": "TAv2GU8Jfr2Z",
        "outputId": "3577d0ef-ec6c-44b2-ec33-9d408f37b1cc"
      },
      "source": [
        "nlp_craft = stanza.Pipeline('en',package = 'craft',processor = 'pos,tokenize,lemma',tokenize_pretokenized = True)"
      ],
      "execution_count": null,
      "outputs": [
        {
          "output_type": "stream",
          "text": [
            "2021-07-31 23:18:17 INFO: Loading these models for language: en (English):\n",
            "=======================\n",
            "| Processor | Package |\n",
            "-----------------------\n",
            "| tokenize  | craft   |\n",
            "| pos       | craft   |\n",
            "| lemma     | craft   |\n",
            "| depparse  | craft   |\n",
            "=======================\n",
            "\n",
            "2021-07-31 23:18:17 INFO: Use device: gpu\n",
            "2021-07-31 23:18:17 INFO: Loading: tokenize\n",
            "2021-07-31 23:18:17 INFO: Loading: pos\n",
            "2021-07-31 23:18:29 INFO: Loading: lemma\n",
            "2021-07-31 23:18:29 INFO: Loading: depparse\n",
            "2021-07-31 23:18:30 INFO: Done loading processors!\n"
          ],
          "name": "stderr"
        }
      ]
    },
    {
      "cell_type": "code",
      "metadata": {
        "id": "2_5B9tEbf7ov"
      },
      "source": [
        "doc_craft = nlp_craft (clean_article)\n",
        "#4 min with GPU"
      ],
      "execution_count": null,
      "outputs": []
    },
    {
      "cell_type": "code",
      "metadata": {
        "id": "xolUZpozgNpr"
      },
      "source": [
        "token_list = []\n",
        "for i in range(len(doc_craft.sentences)):\n",
        "  article_token_list = []\n",
        "  for m in range(len(doc_craft.sentences[i].tokens)):\n",
        "    article_token_list.append(doc_craft.sentences[i].words[m].lemma)\n",
        "  token_list.append(article_token_list)\n"
      ],
      "execution_count": null,
      "outputs": []
    },
    {
      "cell_type": "code",
      "metadata": {
        "colab": {
          "base_uri": "https://localhost:8080/"
        },
        "id": "sY5aKI0EnpoW",
        "outputId": "a54122c5-c4d8-4e49-ad59-81ee18dc864f"
      },
      "source": [
        "print(token_list[0])"
      ],
      "execution_count": null,
      "outputs": [
        {
          "output_type": "stream",
          "text": [
            "['the', 'cheese', 'addict', 'but', 'discover', 'recently', 'shake', 'core', 'barely', 'look', 'babybel', 'face', 'half', 'eat', 'halloumi', 'squeaklessly', 'lie', 'yellow', 'fridge', 'cheese', 'dream', 'shatter', 'for', 'lifetime', 'unfettered', 'devotion', 'possibly', 'cheese', 'foe', 'friend', 'that', 'addict', 'good', 'body', 'that', 'cheese', 'toast', 'these', 'question', 'begin', 'surface', 'couple', 'month', 'ago', 'begin', 'make', 'episode', 'new', 'podcast', 'bbc', 'all', 'hail', 'kale', 'look', 'dairy', 'scary', 'for', 'time', 'increasingly', 'question', 'logic', 'adult', 'drink', 'milk', 'while', 'milk', 'dairy', 'product', 'cheese', 'yoghurt', 'good', 'source', 'protein', 'calcium', 'form', 'healthy', 'balance', 'diet', 'michael', 'greger', 'nutritionfact', 'org', 'there', 'animal', 'planet', 'drink', 'milk', 'weaning', 'drink', 'milk', 'species', 'sense', 'reel', 'series', 'study', 'show', 'life', 'shortening', 'potential', 'drink', 'hormonal', 'stew', 'blithely', 'assume', 'cheese', 'mature', 'benign', 'beneficial', 'form', 'dairy', 'fit', 'mental', 'picture', 'spritely', 'long', 'live', 'greek', 'italian', 'liberally', 'sprinkle', 'feta', 'pecorino', 'reality', 'low', 'moderate', 'cheese', 'figure', 'hallow', 'mediterranean', 'diet', 'unilaterally', 'decide', 'childhood', 'diagnosis', 'lactose', 'intolerance', 'way', 'impede', 'mainlining', 'paneer', 'india', 'ski', 'spending', 'time', 'fork', 'bread', 'fondue', 'bother', 'slope', 'perhaps', 'sense', 'denial', 'cum', 'delusion', 'stem', 'actual', 'addiction', 'one', 'doctor', 'controversially', 'support', 'professor', 'speak', 'refer', 'cheese', 'dairy', 'crack', 'apparently', 'contain', 'addictive', 'opiate', 'like', 'chemical', 'suggest', 'step', 'programme', 'cheese', 'step', 'one', 'know', 'want', 'break', 'away', 'well', 'know', 'want', 'break', 'away', 'but', 'journalistic', 'pursuit', 'see', 'cheese', 'scary', 'form', 'dairy', 'milk', 'take', 'head', 'sand', 'special', 'turkish', 'cheese', 'apparently', 'ferment', 'contact', 'heavy', 'hitter', 'nutrition', 'they', 'agree', 'milk', 'secretion', 'species', 'strange', 'thing', 'latch', 'adult', 'human', 'need', 'drink', 'but', 'cheese', 'consensus', 'reach', 'michael', 'greger', 'take', 'hard', 'line', 'cheese', 'combination', 'sodium', 'concentrate', 'butterfat', 'daily', 'diet', 'make', 'special', 'occasion', 'day', 'day', 'walter', 'willett', 'professor', 'nutrition', 'harvard', 'school', 'public', 'health', 'take', 'semi', 'hard', 'view', 'cheese', 'growth', 'promote', 'effect', 'milk', 'have', 'brie', 'moderation', 'enjoy', 'say', 'portion', 'dairy', 'day', 'over', 'cornell', 'university', 'nutrition', 'professor', 'david', 'levitsky', 'take', 'distinctly', 'softer', 'stance', 'peril', 'dairy', 'confess', 'have', 'small', 'cheese', 'plate', 'dinner', 'night', 'enjoy', 'eat', 'mass', 'cheese', 'the', 'consensus', 'sort', 'cheese', 'certainly', 'high', 'end', 'spectrum', 'spirit', 'ostriching', 'go', 'enam', 'abood', 'harley', 'street', 'health', 'centre', 'lactose', 'intolerance', 'retest', 'year', 'she', 'confirm', 'intolerance', 'force', 'ignore', 'inflame', 'gut', 'accord', 'abood', 'ropey', 'gut', 'means', 'probably', 'absorb', 'vitamin', 'mineral', 'isn', 'great', 'immune', 'energy', 'level', 'maybe', 'mood', 'the', 'damage', 'likely', 'result', 'overdo', 'dairy', 'year', 'abood', 'recommend', 'consume', 'cheese', 'pop', 'lactase', 'pill', 'give', 'enzyme', 'people', 'like', 'lack', 'able', 'digest', 'dairy', 'properly', 'the', 'silver', 'gut', 'line', 'medical', 'travels', 'intestinal', 'expert', 'tell', 'nice', 'piece', 'bacterium', 'rich', 'non', 'process', 'unpasteurised', 'cheese', 'treat', 'gut', 'microbiome', 'have', 'make', 'all', 'hail', 'kale', 'episode', 'role', 'gut', 'mood', 'like', 'excellent', 'rationale', 'cheese', 'table', 'get', 'far', 'step', 'two', 'think', 'change', 'recipe', 'step', 'three', 'think', 'non', 'dairy', 'cheese', 'consider', 'stomach', 'instead', 'think', 'bewilder', 'definitive', 'answer', 'nutrition', 'think', 'remember', 'carry', 'lactase', 'enzyme', 'pill', 'and', 'think', 'gut', 'want', 'little', 'slice', 'roquefort', 'tomorrow', 'download', 'bbc', 'sound', 'listen', 'all', 'hail', 'kale']\n"
          ],
          "name": "stdout"
        }
      ]
    },
    {
      "cell_type": "code",
      "metadata": {
        "id": "iitR0RdOTaLe"
      },
      "source": [
        "bigram = gensim.models.Phrases(token_list, min_count=5, threshold=100) \n",
        "bigram_2 = gensim.models.phrases.Phraser(bigram)\n",
        "bigram_words = [bigram_2[text] for text in token_list]"
      ],
      "execution_count": null,
      "outputs": []
    },
    {
      "cell_type": "code",
      "metadata": {
        "colab": {
          "base_uri": "https://localhost:8080/"
        },
        "id": "gKbfTyfZWxRF",
        "outputId": "4e6184a4-6019-4b4b-8183-25c697b9b142"
      },
      "source": [
        "print(bigram_words[0])"
      ],
      "execution_count": null,
      "outputs": [
        {
          "output_type": "stream",
          "text": [
            "['the', 'cheese', 'addict', 'but', 'discover', 'recently', 'shake', 'core', 'barely', 'look', 'babybel', 'face', 'half', 'eat', 'halloumi', 'squeaklessly', 'lie', 'yellow', 'fridge', 'cheese', 'dream', 'shatter', 'for', 'lifetime', 'unfettered', 'devotion', 'possibly', 'cheese', 'foe', 'friend', 'that', 'addict', 'good', 'body', 'that', 'cheese', 'toast', 'these', 'question', 'begin', 'surface', 'couple', 'month', 'ago', 'begin', 'make', 'episode', 'new', 'podcast', 'bbc', 'all', 'hail', 'kale', 'look', 'dairy', 'scary', 'for', 'time', 'increasingly', 'question', 'logic', 'adult', 'drink', 'milk', 'while', 'milk', 'dairy', 'product', 'cheese', 'yoghurt', 'good', 'source', 'protein', 'calcium', 'form', 'healthy', 'balance', 'diet', 'michael', 'greger', 'nutritionfact', 'org', 'there', 'animal', 'planet', 'drink', 'milk', 'weaning', 'drink', 'milk', 'species', 'sense', 'reel', 'series', 'study', 'show', 'life', 'shortening', 'potential', 'drink', 'hormonal', 'stew', 'blithely', 'assume', 'cheese', 'mature', 'benign', 'beneficial', 'form', 'dairy', 'fit', 'mental', 'picture', 'spritely', 'long', 'live', 'greek', 'italian', 'liberally', 'sprinkle', 'feta', 'pecorino', 'reality', 'low', 'moderate', 'cheese', 'figure', 'hallow', 'mediterranean_diet', 'unilaterally', 'decide', 'childhood', 'diagnosis', 'lactose', 'intolerance', 'way', 'impede', 'mainlining', 'paneer', 'india', 'ski', 'spending', 'time', 'fork', 'bread', 'fondue', 'bother', 'slope', 'perhaps', 'sense', 'denial', 'cum', 'delusion', 'stem', 'actual', 'addiction', 'one', 'doctor', 'controversially', 'support', 'professor', 'speak', 'refer', 'cheese', 'dairy', 'crack', 'apparently', 'contain', 'addictive', 'opiate', 'like', 'chemical', 'suggest', 'step', 'programme', 'cheese', 'step', 'one', 'know', 'want', 'break', 'away', 'well', 'know', 'want', 'break', 'away', 'but', 'journalistic', 'pursuit', 'see', 'cheese', 'scary', 'form', 'dairy', 'milk', 'take', 'head', 'sand', 'special', 'turkish', 'cheese', 'apparently', 'ferment', 'contact', 'heavy', 'hitter', 'nutrition', 'they', 'agree', 'milk', 'secretion', 'species', 'strange', 'thing', 'latch', 'adult', 'human', 'need', 'drink', 'but', 'cheese', 'consensus', 'reach', 'michael', 'greger', 'take', 'hard', 'line', 'cheese', 'combination', 'sodium', 'concentrate', 'butterfat', 'daily', 'diet', 'make', 'special', 'occasion', 'day', 'day', 'walter', 'willett', 'professor', 'nutrition', 'harvard', 'school', 'public', 'health', 'take', 'semi', 'hard', 'view', 'cheese', 'growth', 'promote', 'effect', 'milk', 'have', 'brie', 'moderation', 'enjoy', 'say', 'portion', 'dairy', 'day', 'over', 'cornell', 'university', 'nutrition', 'professor', 'david', 'levitsky', 'take', 'distinctly', 'softer', 'stance', 'peril', 'dairy', 'confess', 'have', 'small', 'cheese', 'plate', 'dinner', 'night', 'enjoy', 'eat', 'mass', 'cheese', 'the', 'consensus', 'sort', 'cheese', 'certainly', 'high', 'end', 'spectrum', 'spirit', 'ostriching', 'go', 'enam', 'abood', 'harley', 'street', 'health', 'centre', 'lactose', 'intolerance', 'retest', 'year', 'she', 'confirm', 'intolerance', 'force', 'ignore', 'inflame', 'gut', 'accord', 'abood', 'ropey', 'gut', 'means', 'probably', 'absorb', 'vitamin_mineral', 'isn', 'great', 'immune', 'energy', 'level', 'maybe', 'mood', 'the', 'damage', 'likely', 'result', 'overdo', 'dairy', 'year', 'abood', 'recommend', 'consume', 'cheese', 'pop', 'lactase', 'pill', 'give', 'enzyme', 'people', 'like', 'lack', 'able', 'digest', 'dairy', 'properly', 'the', 'silver', 'gut', 'line', 'medical', 'travels', 'intestinal', 'expert', 'tell', 'nice', 'piece', 'bacterium', 'rich', 'non', 'process', 'unpasteurised', 'cheese', 'treat', 'gut', 'microbiome', 'have', 'make', 'all', 'hail', 'kale', 'episode', 'role', 'gut', 'mood', 'like', 'excellent', 'rationale', 'cheese', 'table', 'get', 'far', 'step', 'two', 'think', 'change', 'recipe', 'step', 'three', 'think', 'non', 'dairy', 'cheese', 'consider', 'stomach', 'instead', 'think', 'bewilder', 'definitive', 'answer', 'nutrition', 'think', 'remember', 'carry', 'lactase', 'enzyme', 'pill', 'and', 'think', 'gut', 'want', 'little', 'slice', 'roquefort', 'tomorrow', 'download', 'bbc', 'sound', 'listen', 'all', 'hail', 'kale']\n"
          ],
          "name": "stdout"
        }
      ]
    },
    {
      "cell_type": "code",
      "metadata": {
        "id": "ZG0l5Se1Srob"
      },
      "source": [
        "apikey = \"e22b627f-226b-420b-9de2-935e10ff3350\"\n",
        "service=\"http://umlsks.nlm.nih.gov\""
      ],
      "execution_count": null,
      "outputs": []
    },
    {
      "cell_type": "code",
      "metadata": {
        "id": "dRFTMgKPSs7t"
      },
      "source": [
        "def get_granting_ticket():\n",
        "     params = {'apikey': apikey}\n",
        "     h = {\"Content-type\": \"application/x-www-form-urlencoded\", \"Accept\": \"text/plain\", \"User-Agent\":\"python\" }\n",
        "     r = requests.post(\"https://utslogin.nlm.nih.gov/cas/v1/api-key\",data=params,headers=h)\n",
        "     response = fromstring(r.text)\n",
        "     tgt = response.xpath('//form/@action')[0]\n",
        "     return tgt"
      ],
      "execution_count": null,
      "outputs": []
    },
    {
      "cell_type": "code",
      "metadata": {
        "id": "SSDOLkF3Suc8"
      },
      "source": [
        "def get_single_ticket(tgt):\n",
        "     params = {'service': service}\n",
        "     h = {\"Content-type\": \"application/x-www-form-urlencoded\", \"Accept\": \"text/plain\", \"User-Agent\":\"python\" }\n",
        "     r = requests.post(tgt,data=params,headers=h)\n",
        "     st = r.text\n",
        "     return st"
      ],
      "execution_count": null,
      "outputs": []
    },
    {
      "cell_type": "code",
      "metadata": {
        "id": "TUfuRNAsK6CM"
      },
      "source": [
        "cache = {} \n",
        "\n",
        "def umls_cache(keyword,query):\n",
        "  if keyword in cache.keys():\n",
        "    print(\"Fetching from cache ....\")\n",
        "    return cache[keyword]\n",
        "  else:\n",
        "    return get_umls(keyword, query)\n",
        "\n",
        "\n",
        "def get_umls(keyword, query):\n",
        "  version = \"2021AA\"\n",
        "  print(\"Making a Query....\")\n",
        "  r = requests.get(\"https://uts-ws.nlm.nih.gov/rest/search/\"+version,params=query)\n",
        "  r.encoding = 'utf-8'\n",
        "  items  = json.loads(r.text)\n",
        "  umls = False\n",
        "\n",
        "   try:\n",
        "    cui = items[\"result\"][\"results\"][0][\"ui\"]\n",
        "    response = umls_api.API(api_key = 'e22b627f-226b-420b-9de2-935e10ff3350').get_cui(cui = cui)\n",
        "    if response == 'Temporal Concept'or response == 'Qualitative Concept' or response == 'Quantitative Concept':\n",
        "      umls = False \n",
        "    else:\n",
        "      umls = True \n",
        "  except:\n",
        "    umls = False\n",
        "\n",
        "  cache[keyword] = umls\n",
        "  return umls"
      ],
      "execution_count": null,
      "outputs": []
    },
    {
      "cell_type": "code",
      "metadata": {
        "id": "weqxh3wvSxBK"
      },
      "source": [
        "def term_type(string,tgt):\n",
        "  ##generate a new service ticket for each page if needed\n",
        "  ticket = get_single_ticket(tgt)\n",
        "  query = {'string':string,'ticket':ticket}\n",
        "  return umls_cache(string, query)  "
      ],
      "execution_count": null,
      "outputs": []
    },
    {
      "cell_type": "code",
      "metadata": {
        "id": "T7p10_JaLucc"
      },
      "source": [
        "tgt = get_granting_ticket()"
      ],
      "execution_count": null,
      "outputs": []
    },
    {
      "cell_type": "code",
      "metadata": {
        "id": "Ib2GroBSUPpq",
        "colab": {
          "base_uri": "https://localhost:8080/",
          "height": 351
        },
        "outputId": "09f2c4ef-5ba2-41d5-b707-65ca3526e616"
      },
      "source": [
        "umls_list = []\n",
        "\n",
        "for article in bigram_words:\n",
        "  article_umls_list =[]\n",
        "  for word in article:\n",
        "    umls = term_type(word,tgt)\n",
        "    if umls is True:\n",
        "      article_umls_list.append(word)\n",
        "  umls_list.append(article_umls_list)\n",
        "\n",
        "print(umls_list[0])"
      ],
      "execution_count": null,
      "outputs": [
        {
          "output_type": "error",
          "ename": "KeyError",
          "evalue": "ignored",
          "traceback": [
            "\u001b[0;31m---------------------------------------------------------------------------\u001b[0m",
            "\u001b[0;31mKeyError\u001b[0m                                  Traceback (most recent call last)",
            "\u001b[0;32m<ipython-input-27-ac799662c241>\u001b[0m in \u001b[0;36m<module>\u001b[0;34m()\u001b[0m\n\u001b[1;32m      3\u001b[0m   \u001b[0marticle_umls_list\u001b[0m \u001b[0;34m=\u001b[0m\u001b[0;34m[\u001b[0m\u001b[0;34m]\u001b[0m\u001b[0;34m\u001b[0m\u001b[0;34m\u001b[0m\u001b[0m\n\u001b[1;32m      4\u001b[0m   \u001b[0;32mfor\u001b[0m \u001b[0mword\u001b[0m \u001b[0;32min\u001b[0m \u001b[0marticle\u001b[0m\u001b[0;34m:\u001b[0m\u001b[0;34m\u001b[0m\u001b[0;34m\u001b[0m\u001b[0m\n\u001b[0;32m----> 5\u001b[0;31m     \u001b[0mumls\u001b[0m \u001b[0;34m=\u001b[0m \u001b[0msearch_by_term\u001b[0m\u001b[0;34m(\u001b[0m\u001b[0mword\u001b[0m\u001b[0;34m)\u001b[0m\u001b[0;34m\u001b[0m\u001b[0;34m\u001b[0m\u001b[0m\n\u001b[0m\u001b[1;32m      6\u001b[0m     \u001b[0;32mif\u001b[0m \u001b[0mumls\u001b[0m \u001b[0;32mis\u001b[0m \u001b[0;32mTrue\u001b[0m\u001b[0;34m:\u001b[0m\u001b[0;34m\u001b[0m\u001b[0;34m\u001b[0m\u001b[0m\n\u001b[1;32m      7\u001b[0m       \u001b[0marticle_umls_list\u001b[0m\u001b[0;34m.\u001b[0m\u001b[0mappend\u001b[0m\u001b[0;34m(\u001b[0m\u001b[0mword\u001b[0m\u001b[0;34m)\u001b[0m\u001b[0;34m\u001b[0m\u001b[0;34m\u001b[0m\u001b[0m\n",
            "\u001b[0;32m<ipython-input-26-21a85fbada83>\u001b[0m in \u001b[0;36msearch_by_term\u001b[0;34m(string)\u001b[0m\n\u001b[1;32m     12\u001b[0m       \u001b[0mr\u001b[0m\u001b[0;34m.\u001b[0m\u001b[0mencoding\u001b[0m \u001b[0;34m=\u001b[0m \u001b[0;34m'utf-8'\u001b[0m\u001b[0;34m\u001b[0m\u001b[0;34m\u001b[0m\u001b[0m\n\u001b[1;32m     13\u001b[0m       \u001b[0mitems\u001b[0m  \u001b[0;34m=\u001b[0m \u001b[0mjson\u001b[0m\u001b[0;34m.\u001b[0m\u001b[0mloads\u001b[0m\u001b[0;34m(\u001b[0m\u001b[0mr\u001b[0m\u001b[0;34m.\u001b[0m\u001b[0mtext\u001b[0m\u001b[0;34m)\u001b[0m\u001b[0;34m\u001b[0m\u001b[0;34m\u001b[0m\u001b[0m\n\u001b[0;32m---> 14\u001b[0;31m       \u001b[0mjsonData\u001b[0m \u001b[0;34m=\u001b[0m \u001b[0mitems\u001b[0m\u001b[0;34m[\u001b[0m\u001b[0;34m\"result\"\u001b[0m\u001b[0;34m]\u001b[0m\u001b[0;34m\u001b[0m\u001b[0;34m\u001b[0m\u001b[0m\n\u001b[0m\u001b[1;32m     15\u001b[0m       \u001b[0;32mif\u001b[0m \u001b[0mjsonData\u001b[0m\u001b[0;34m[\u001b[0m\u001b[0;34m\"results\"\u001b[0m\u001b[0;34m]\u001b[0m\u001b[0;34m[\u001b[0m\u001b[0;36m0\u001b[0m\u001b[0;34m]\u001b[0m\u001b[0;34m[\u001b[0m\u001b[0;34m\"ui\"\u001b[0m\u001b[0;34m]\u001b[0m \u001b[0;34m!=\u001b[0m \u001b[0;34m\"NONE\"\u001b[0m\u001b[0;34m:\u001b[0m\u001b[0;34m\u001b[0m\u001b[0;34m\u001b[0m\u001b[0m\n\u001b[1;32m     16\u001b[0m         \u001b[0;32mreturn\u001b[0m \u001b[0;32mTrue\u001b[0m\u001b[0;34m\u001b[0m\u001b[0;34m\u001b[0m\u001b[0m\n",
            "\u001b[0;31mKeyError\u001b[0m: 'result'"
          ]
        }
      ]
    }
  ]
}