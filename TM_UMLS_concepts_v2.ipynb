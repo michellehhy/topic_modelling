{
  "nbformat": 4,
  "nbformat_minor": 0,
  "metadata": {
    "accelerator": "GPU",
    "colab": {
      "name": "TM_UMLS_concepts v2.ipynb",
      "provenance": [],
      "collapsed_sections": []
    },
    "kernelspec": {
      "display_name": "Python 3",
      "name": "python3"
    },
    "language_info": {
      "name": "python"
    },
    "widgets": {
      "application/vnd.jupyter.widget-state+json": {
        "5c0473904fa742c3a2e3ed5a639b6994": {
          "model_module": "@jupyter-widgets/controls",
          "model_name": "HBoxModel",
          "state": {
            "_view_name": "HBoxView",
            "_dom_classes": [],
            "_model_name": "HBoxModel",
            "_view_module": "@jupyter-widgets/controls",
            "_model_module_version": "1.5.0",
            "_view_count": null,
            "_view_module_version": "1.5.0",
            "box_style": "",
            "layout": "IPY_MODEL_364b824992ff4be7b9b05d342ed74e0b",
            "_model_module": "@jupyter-widgets/controls",
            "children": [
              "IPY_MODEL_0b5d83fb187a411aa59b2ba2268d10e7",
              "IPY_MODEL_8ab9144e90bf4c43ab15683d346ab21b"
            ]
          }
        },
        "364b824992ff4be7b9b05d342ed74e0b": {
          "model_module": "@jupyter-widgets/base",
          "model_name": "LayoutModel",
          "state": {
            "_view_name": "LayoutView",
            "grid_template_rows": null,
            "right": null,
            "justify_content": null,
            "_view_module": "@jupyter-widgets/base",
            "overflow": null,
            "_model_module_version": "1.2.0",
            "_view_count": null,
            "flex_flow": null,
            "width": null,
            "min_width": null,
            "border": null,
            "align_items": null,
            "bottom": null,
            "_model_module": "@jupyter-widgets/base",
            "top": null,
            "grid_column": null,
            "overflow_y": null,
            "overflow_x": null,
            "grid_auto_flow": null,
            "grid_area": null,
            "grid_template_columns": null,
            "flex": null,
            "_model_name": "LayoutModel",
            "justify_items": null,
            "grid_row": null,
            "max_height": null,
            "align_content": null,
            "visibility": null,
            "align_self": null,
            "height": null,
            "min_height": null,
            "padding": null,
            "grid_auto_rows": null,
            "grid_gap": null,
            "max_width": null,
            "order": null,
            "_view_module_version": "1.2.0",
            "grid_template_areas": null,
            "object_position": null,
            "object_fit": null,
            "grid_auto_columns": null,
            "margin": null,
            "display": null,
            "left": null
          }
        },
        "0b5d83fb187a411aa59b2ba2268d10e7": {
          "model_module": "@jupyter-widgets/controls",
          "model_name": "FloatProgressModel",
          "state": {
            "_view_name": "ProgressView",
            "style": "IPY_MODEL_3f9a5719b2744f8a8a022b6308e9b87f",
            "_dom_classes": [],
            "description": "Downloading https://raw.githubusercontent.com/stanfordnlp/stanza-resources/main/resources_1.2.2.json: ",
            "_model_name": "FloatProgressModel",
            "bar_style": "success",
            "max": 24144,
            "_view_module": "@jupyter-widgets/controls",
            "_model_module_version": "1.5.0",
            "value": 24144,
            "_view_count": null,
            "_view_module_version": "1.5.0",
            "orientation": "horizontal",
            "min": 0,
            "description_tooltip": null,
            "_model_module": "@jupyter-widgets/controls",
            "layout": "IPY_MODEL_8c8c72ed983640f4b581d0d70f1a8c85"
          }
        },
        "8ab9144e90bf4c43ab15683d346ab21b": {
          "model_module": "@jupyter-widgets/controls",
          "model_name": "HTMLModel",
          "state": {
            "_view_name": "HTMLView",
            "style": "IPY_MODEL_0566e49fc2e7435696440b87ff10163c",
            "_dom_classes": [],
            "description": "",
            "_model_name": "HTMLModel",
            "placeholder": "​",
            "_view_module": "@jupyter-widgets/controls",
            "_model_module_version": "1.5.0",
            "value": " 140k/? [00:00&lt;00:00, 2.19MB/s]",
            "_view_count": null,
            "_view_module_version": "1.5.0",
            "description_tooltip": null,
            "_model_module": "@jupyter-widgets/controls",
            "layout": "IPY_MODEL_857a6be5753f48358210157bc551e0e2"
          }
        },
        "3f9a5719b2744f8a8a022b6308e9b87f": {
          "model_module": "@jupyter-widgets/controls",
          "model_name": "ProgressStyleModel",
          "state": {
            "_view_name": "StyleView",
            "_model_name": "ProgressStyleModel",
            "description_width": "initial",
            "_view_module": "@jupyter-widgets/base",
            "_model_module_version": "1.5.0",
            "_view_count": null,
            "_view_module_version": "1.2.0",
            "bar_color": null,
            "_model_module": "@jupyter-widgets/controls"
          }
        },
        "8c8c72ed983640f4b581d0d70f1a8c85": {
          "model_module": "@jupyter-widgets/base",
          "model_name": "LayoutModel",
          "state": {
            "_view_name": "LayoutView",
            "grid_template_rows": null,
            "right": null,
            "justify_content": null,
            "_view_module": "@jupyter-widgets/base",
            "overflow": null,
            "_model_module_version": "1.2.0",
            "_view_count": null,
            "flex_flow": null,
            "width": null,
            "min_width": null,
            "border": null,
            "align_items": null,
            "bottom": null,
            "_model_module": "@jupyter-widgets/base",
            "top": null,
            "grid_column": null,
            "overflow_y": null,
            "overflow_x": null,
            "grid_auto_flow": null,
            "grid_area": null,
            "grid_template_columns": null,
            "flex": null,
            "_model_name": "LayoutModel",
            "justify_items": null,
            "grid_row": null,
            "max_height": null,
            "align_content": null,
            "visibility": null,
            "align_self": null,
            "height": null,
            "min_height": null,
            "padding": null,
            "grid_auto_rows": null,
            "grid_gap": null,
            "max_width": null,
            "order": null,
            "_view_module_version": "1.2.0",
            "grid_template_areas": null,
            "object_position": null,
            "object_fit": null,
            "grid_auto_columns": null,
            "margin": null,
            "display": null,
            "left": null
          }
        },
        "0566e49fc2e7435696440b87ff10163c": {
          "model_module": "@jupyter-widgets/controls",
          "model_name": "DescriptionStyleModel",
          "state": {
            "_view_name": "StyleView",
            "_model_name": "DescriptionStyleModel",
            "description_width": "",
            "_view_module": "@jupyter-widgets/base",
            "_model_module_version": "1.5.0",
            "_view_count": null,
            "_view_module_version": "1.2.0",
            "_model_module": "@jupyter-widgets/controls"
          }
        },
        "857a6be5753f48358210157bc551e0e2": {
          "model_module": "@jupyter-widgets/base",
          "model_name": "LayoutModel",
          "state": {
            "_view_name": "LayoutView",
            "grid_template_rows": null,
            "right": null,
            "justify_content": null,
            "_view_module": "@jupyter-widgets/base",
            "overflow": null,
            "_model_module_version": "1.2.0",
            "_view_count": null,
            "flex_flow": null,
            "width": null,
            "min_width": null,
            "border": null,
            "align_items": null,
            "bottom": null,
            "_model_module": "@jupyter-widgets/base",
            "top": null,
            "grid_column": null,
            "overflow_y": null,
            "overflow_x": null,
            "grid_auto_flow": null,
            "grid_area": null,
            "grid_template_columns": null,
            "flex": null,
            "_model_name": "LayoutModel",
            "justify_items": null,
            "grid_row": null,
            "max_height": null,
            "align_content": null,
            "visibility": null,
            "align_self": null,
            "height": null,
            "min_height": null,
            "padding": null,
            "grid_auto_rows": null,
            "grid_gap": null,
            "max_width": null,
            "order": null,
            "_view_module_version": "1.2.0",
            "grid_template_areas": null,
            "object_position": null,
            "object_fit": null,
            "grid_auto_columns": null,
            "margin": null,
            "display": null,
            "left": null
          }
        }
      }
    }
  },
  "cells": [
    {
      "cell_type": "code",
      "metadata": {
        "colab": {
          "base_uri": "https://localhost:8080/"
        },
        "id": "8YNayeOSSYX7",
        "outputId": "55ccd8a4-ae18-481e-dcc8-cc77eabdab92"
      },
      "source": [
        "pip install pyquery"
      ],
      "execution_count": null,
      "outputs": [
        {
          "output_type": "stream",
          "text": [
            "Collecting pyquery\n",
            "  Downloading pyquery-1.4.3-py3-none-any.whl (22 kB)\n",
            "Requirement already satisfied: lxml>=2.1 in /usr/local/lib/python3.7/dist-packages (from pyquery) (4.2.6)\n",
            "Collecting cssselect>0.7.9\n",
            "  Downloading cssselect-1.1.0-py2.py3-none-any.whl (16 kB)\n",
            "Installing collected packages: cssselect, pyquery\n",
            "Successfully installed cssselect-1.1.0 pyquery-1.4.3\n"
          ],
          "name": "stdout"
        }
      ]
    },
    {
      "cell_type": "code",
      "metadata": {
        "colab": {
          "base_uri": "https://localhost:8080/"
        },
        "id": "33WyjyJWSnCJ",
        "outputId": "cf8549f1-8801-448c-8d32-28c6ab79cbce"
      },
      "source": [
        "pip install tenacity"
      ],
      "execution_count": null,
      "outputs": [
        {
          "output_type": "stream",
          "text": [
            "Collecting tenacity\n",
            "  Downloading tenacity-8.0.1-py3-none-any.whl (24 kB)\n",
            "Installing collected packages: tenacity\n",
            "Successfully installed tenacity-8.0.1\n"
          ],
          "name": "stdout"
        }
      ]
    },
    {
      "cell_type": "code",
      "metadata": {
        "colab": {
          "base_uri": "https://localhost:8080/"
        },
        "id": "2_iterSiSo-4",
        "outputId": "63ac5fd4-70e4-4e74-c32c-18436566d547"
      },
      "source": [
        "pip install umls-api"
      ],
      "execution_count": null,
      "outputs": [
        {
          "output_type": "stream",
          "text": [
            "Collecting umls-api\n",
            "  Downloading umls-api-0.1.0.tar.gz (4.6 kB)\n",
            "Requirement already satisfied: requests in /usr/local/lib/python3.7/dist-packages (from umls-api) (2.23.0)\n",
            "Requirement already satisfied: lxml in /usr/local/lib/python3.7/dist-packages (from umls-api) (4.2.6)\n",
            "Requirement already satisfied: cachetools<5.0.0,>=4.0.0 in /usr/local/lib/python3.7/dist-packages (from umls-api) (4.2.2)\n",
            "Requirement already satisfied: chardet<4,>=3.0.2 in /usr/local/lib/python3.7/dist-packages (from requests->umls-api) (3.0.4)\n",
            "Requirement already satisfied: urllib3!=1.25.0,!=1.25.1,<1.26,>=1.21.1 in /usr/local/lib/python3.7/dist-packages (from requests->umls-api) (1.24.3)\n",
            "Requirement already satisfied: certifi>=2017.4.17 in /usr/local/lib/python3.7/dist-packages (from requests->umls-api) (2021.5.30)\n",
            "Requirement already satisfied: idna<3,>=2.5 in /usr/local/lib/python3.7/dist-packages (from requests->umls-api) (2.10)\n",
            "Building wheels for collected packages: umls-api\n",
            "  Building wheel for umls-api (setup.py) ... \u001b[?25l\u001b[?25hdone\n",
            "  Created wheel for umls-api: filename=umls_api-0.1.0-py3-none-any.whl size=3408 sha256=965b26e95a8052ab5ef581660003344843dffa75e7cb907e41dfb2d3b19a5234\n",
            "  Stored in directory: /root/.cache/pip/wheels/b1/0c/16/429473df1665cab9602747448f46d5fb701bf2e9634915ea71\n",
            "Successfully built umls-api\n",
            "Installing collected packages: umls-api\n",
            "Successfully installed umls-api-0.1.0\n"
          ],
          "name": "stdout"
        }
      ]
    },
    {
      "cell_type": "code",
      "metadata": {
        "id": "GSQwY-zdeWl3",
        "colab": {
          "base_uri": "https://localhost:8080/"
        },
        "outputId": "6bf4fed5-ac59-4e9c-f703-087f1db2e14d"
      },
      "source": [
        "!pip install pyldavis --q"
      ],
      "execution_count": null,
      "outputs": [
        {
          "output_type": "stream",
          "text": [
            "\u001b[?25l\r\u001b[K     |▏                               | 10 kB 23.9 MB/s eta 0:00:01\r\u001b[K     |▍                               | 20 kB 29.9 MB/s eta 0:00:01\r\u001b[K     |▋                               | 30 kB 35.1 MB/s eta 0:00:01\r\u001b[K     |▉                               | 40 kB 27.9 MB/s eta 0:00:01\r\u001b[K     |█                               | 51 kB 16.4 MB/s eta 0:00:01\r\u001b[K     |█▏                              | 61 kB 17.5 MB/s eta 0:00:01\r\u001b[K     |█▍                              | 71 kB 13.0 MB/s eta 0:00:01\r\u001b[K     |█▋                              | 81 kB 14.4 MB/s eta 0:00:01\r\u001b[K     |█▉                              | 92 kB 12.9 MB/s eta 0:00:01\r\u001b[K     |██                              | 102 kB 14.1 MB/s eta 0:00:01\r\u001b[K     |██▏                             | 112 kB 14.1 MB/s eta 0:00:01\r\u001b[K     |██▍                             | 122 kB 14.1 MB/s eta 0:00:01\r\u001b[K     |██▋                             | 133 kB 14.1 MB/s eta 0:00:01\r\u001b[K     |██▊                             | 143 kB 14.1 MB/s eta 0:00:01\r\u001b[K     |███                             | 153 kB 14.1 MB/s eta 0:00:01\r\u001b[K     |███▏                            | 163 kB 14.1 MB/s eta 0:00:01\r\u001b[K     |███▍                            | 174 kB 14.1 MB/s eta 0:00:01\r\u001b[K     |███▋                            | 184 kB 14.1 MB/s eta 0:00:01\r\u001b[K     |███▊                            | 194 kB 14.1 MB/s eta 0:00:01\r\u001b[K     |████                            | 204 kB 14.1 MB/s eta 0:00:01\r\u001b[K     |████▏                           | 215 kB 14.1 MB/s eta 0:00:01\r\u001b[K     |████▍                           | 225 kB 14.1 MB/s eta 0:00:01\r\u001b[K     |████▋                           | 235 kB 14.1 MB/s eta 0:00:01\r\u001b[K     |████▊                           | 245 kB 14.1 MB/s eta 0:00:01\r\u001b[K     |█████                           | 256 kB 14.1 MB/s eta 0:00:01\r\u001b[K     |█████▏                          | 266 kB 14.1 MB/s eta 0:00:01\r\u001b[K     |█████▍                          | 276 kB 14.1 MB/s eta 0:00:01\r\u001b[K     |█████▌                          | 286 kB 14.1 MB/s eta 0:00:01\r\u001b[K     |█████▊                          | 296 kB 14.1 MB/s eta 0:00:01\r\u001b[K     |██████                          | 307 kB 14.1 MB/s eta 0:00:01\r\u001b[K     |██████▏                         | 317 kB 14.1 MB/s eta 0:00:01\r\u001b[K     |██████▍                         | 327 kB 14.1 MB/s eta 0:00:01\r\u001b[K     |██████▌                         | 337 kB 14.1 MB/s eta 0:00:01\r\u001b[K     |██████▊                         | 348 kB 14.1 MB/s eta 0:00:01\r\u001b[K     |███████                         | 358 kB 14.1 MB/s eta 0:00:01\r\u001b[K     |███████▏                        | 368 kB 14.1 MB/s eta 0:00:01\r\u001b[K     |███████▎                        | 378 kB 14.1 MB/s eta 0:00:01\r\u001b[K     |███████▌                        | 389 kB 14.1 MB/s eta 0:00:01\r\u001b[K     |███████▊                        | 399 kB 14.1 MB/s eta 0:00:01\r\u001b[K     |████████                        | 409 kB 14.1 MB/s eta 0:00:01\r\u001b[K     |████████▏                       | 419 kB 14.1 MB/s eta 0:00:01\r\u001b[K     |████████▎                       | 430 kB 14.1 MB/s eta 0:00:01\r\u001b[K     |████████▌                       | 440 kB 14.1 MB/s eta 0:00:01\r\u001b[K     |████████▊                       | 450 kB 14.1 MB/s eta 0:00:01\r\u001b[K     |█████████                       | 460 kB 14.1 MB/s eta 0:00:01\r\u001b[K     |█████████▏                      | 471 kB 14.1 MB/s eta 0:00:01\r\u001b[K     |█████████▎                      | 481 kB 14.1 MB/s eta 0:00:01\r\u001b[K     |█████████▌                      | 491 kB 14.1 MB/s eta 0:00:01\r\u001b[K     |█████████▊                      | 501 kB 14.1 MB/s eta 0:00:01\r\u001b[K     |██████████                      | 512 kB 14.1 MB/s eta 0:00:01\r\u001b[K     |██████████                      | 522 kB 14.1 MB/s eta 0:00:01\r\u001b[K     |██████████▎                     | 532 kB 14.1 MB/s eta 0:00:01\r\u001b[K     |██████████▌                     | 542 kB 14.1 MB/s eta 0:00:01\r\u001b[K     |██████████▊                     | 552 kB 14.1 MB/s eta 0:00:01\r\u001b[K     |███████████                     | 563 kB 14.1 MB/s eta 0:00:01\r\u001b[K     |███████████                     | 573 kB 14.1 MB/s eta 0:00:01\r\u001b[K     |███████████▎                    | 583 kB 14.1 MB/s eta 0:00:01\r\u001b[K     |███████████▌                    | 593 kB 14.1 MB/s eta 0:00:01\r\u001b[K     |███████████▊                    | 604 kB 14.1 MB/s eta 0:00:01\r\u001b[K     |███████████▉                    | 614 kB 14.1 MB/s eta 0:00:01\r\u001b[K     |████████████                    | 624 kB 14.1 MB/s eta 0:00:01\r\u001b[K     |████████████▎                   | 634 kB 14.1 MB/s eta 0:00:01\r\u001b[K     |████████████▌                   | 645 kB 14.1 MB/s eta 0:00:01\r\u001b[K     |████████████▊                   | 655 kB 14.1 MB/s eta 0:00:01\r\u001b[K     |████████████▉                   | 665 kB 14.1 MB/s eta 0:00:01\r\u001b[K     |█████████████                   | 675 kB 14.1 MB/s eta 0:00:01\r\u001b[K     |█████████████▎                  | 686 kB 14.1 MB/s eta 0:00:01\r\u001b[K     |█████████████▌                  | 696 kB 14.1 MB/s eta 0:00:01\r\u001b[K     |█████████████▊                  | 706 kB 14.1 MB/s eta 0:00:01\r\u001b[K     |█████████████▉                  | 716 kB 14.1 MB/s eta 0:00:01\r\u001b[K     |██████████████                  | 727 kB 14.1 MB/s eta 0:00:01\r\u001b[K     |██████████████▎                 | 737 kB 14.1 MB/s eta 0:00:01\r\u001b[K     |██████████████▌                 | 747 kB 14.1 MB/s eta 0:00:01\r\u001b[K     |██████████████▋                 | 757 kB 14.1 MB/s eta 0:00:01\r\u001b[K     |██████████████▉                 | 768 kB 14.1 MB/s eta 0:00:01\r\u001b[K     |███████████████                 | 778 kB 14.1 MB/s eta 0:00:01\r\u001b[K     |███████████████▎                | 788 kB 14.1 MB/s eta 0:00:01\r\u001b[K     |███████████████▌                | 798 kB 14.1 MB/s eta 0:00:01\r\u001b[K     |███████████████▋                | 808 kB 14.1 MB/s eta 0:00:01\r\u001b[K     |███████████████▉                | 819 kB 14.1 MB/s eta 0:00:01\r\u001b[K     |████████████████                | 829 kB 14.1 MB/s eta 0:00:01\r\u001b[K     |████████████████▎               | 839 kB 14.1 MB/s eta 0:00:01\r\u001b[K     |████████████████▍               | 849 kB 14.1 MB/s eta 0:00:01\r\u001b[K     |████████████████▋               | 860 kB 14.1 MB/s eta 0:00:01\r\u001b[K     |████████████████▉               | 870 kB 14.1 MB/s eta 0:00:01\r\u001b[K     |█████████████████               | 880 kB 14.1 MB/s eta 0:00:01\r\u001b[K     |█████████████████▎              | 890 kB 14.1 MB/s eta 0:00:01\r\u001b[K     |█████████████████▍              | 901 kB 14.1 MB/s eta 0:00:01\r\u001b[K     |█████████████████▋              | 911 kB 14.1 MB/s eta 0:00:01\r\u001b[K     |█████████████████▉              | 921 kB 14.1 MB/s eta 0:00:01\r\u001b[K     |██████████████████              | 931 kB 14.1 MB/s eta 0:00:01\r\u001b[K     |██████████████████▎             | 942 kB 14.1 MB/s eta 0:00:01\r\u001b[K     |██████████████████▍             | 952 kB 14.1 MB/s eta 0:00:01\r\u001b[K     |██████████████████▋             | 962 kB 14.1 MB/s eta 0:00:01\r\u001b[K     |██████████████████▉             | 972 kB 14.1 MB/s eta 0:00:01\r\u001b[K     |███████████████████             | 983 kB 14.1 MB/s eta 0:00:01\r\u001b[K     |███████████████████▏            | 993 kB 14.1 MB/s eta 0:00:01\r\u001b[K     |███████████████████▍            | 1.0 MB 14.1 MB/s eta 0:00:01\r\u001b[K     |███████████████████▋            | 1.0 MB 14.1 MB/s eta 0:00:01\r\u001b[K     |███████████████████▉            | 1.0 MB 14.1 MB/s eta 0:00:01\r\u001b[K     |████████████████████            | 1.0 MB 14.1 MB/s eta 0:00:01\r\u001b[K     |████████████████████▏           | 1.0 MB 14.1 MB/s eta 0:00:01\r\u001b[K     |████████████████████▍           | 1.1 MB 14.1 MB/s eta 0:00:01\r\u001b[K     |████████████████████▋           | 1.1 MB 14.1 MB/s eta 0:00:01\r\u001b[K     |████████████████████▉           | 1.1 MB 14.1 MB/s eta 0:00:01\r\u001b[K     |█████████████████████           | 1.1 MB 14.1 MB/s eta 0:00:01\r\u001b[K     |█████████████████████▏          | 1.1 MB 14.1 MB/s eta 0:00:01\r\u001b[K     |█████████████████████▍          | 1.1 MB 14.1 MB/s eta 0:00:01\r\u001b[K     |█████████████████████▋          | 1.1 MB 14.1 MB/s eta 0:00:01\r\u001b[K     |█████████████████████▉          | 1.1 MB 14.1 MB/s eta 0:00:01\r\u001b[K     |██████████████████████          | 1.1 MB 14.1 MB/s eta 0:00:01\r\u001b[K     |██████████████████████▏         | 1.1 MB 14.1 MB/s eta 0:00:01\r\u001b[K     |██████████████████████▍         | 1.2 MB 14.1 MB/s eta 0:00:01\r\u001b[K     |██████████████████████▋         | 1.2 MB 14.1 MB/s eta 0:00:01\r\u001b[K     |██████████████████████▉         | 1.2 MB 14.1 MB/s eta 0:00:01\r\u001b[K     |███████████████████████         | 1.2 MB 14.1 MB/s eta 0:00:01\r\u001b[K     |███████████████████████▏        | 1.2 MB 14.1 MB/s eta 0:00:01\r\u001b[K     |███████████████████████▍        | 1.2 MB 14.1 MB/s eta 0:00:01\r\u001b[K     |███████████████████████▋        | 1.2 MB 14.1 MB/s eta 0:00:01\r\u001b[K     |███████████████████████▊        | 1.2 MB 14.1 MB/s eta 0:00:01\r\u001b[K     |████████████████████████        | 1.2 MB 14.1 MB/s eta 0:00:01\r\u001b[K     |████████████████████████▏       | 1.2 MB 14.1 MB/s eta 0:00:01\r\u001b[K     |████████████████████████▍       | 1.3 MB 14.1 MB/s eta 0:00:01\r\u001b[K     |████████████████████████▋       | 1.3 MB 14.1 MB/s eta 0:00:01\r\u001b[K     |████████████████████████▊       | 1.3 MB 14.1 MB/s eta 0:00:01\r\u001b[K     |█████████████████████████       | 1.3 MB 14.1 MB/s eta 0:00:01\r\u001b[K     |█████████████████████████▏      | 1.3 MB 14.1 MB/s eta 0:00:01\r\u001b[K     |█████████████████████████▍      | 1.3 MB 14.1 MB/s eta 0:00:01\r\u001b[K     |█████████████████████████▌      | 1.3 MB 14.1 MB/s eta 0:00:01\r\u001b[K     |█████████████████████████▊      | 1.3 MB 14.1 MB/s eta 0:00:01\r\u001b[K     |██████████████████████████      | 1.3 MB 14.1 MB/s eta 0:00:01\r\u001b[K     |██████████████████████████▏     | 1.4 MB 14.1 MB/s eta 0:00:01\r\u001b[K     |██████████████████████████▍     | 1.4 MB 14.1 MB/s eta 0:00:01\r\u001b[K     |██████████████████████████▌     | 1.4 MB 14.1 MB/s eta 0:00:01\r\u001b[K     |██████████████████████████▊     | 1.4 MB 14.1 MB/s eta 0:00:01\r\u001b[K     |███████████████████████████     | 1.4 MB 14.1 MB/s eta 0:00:01\r\u001b[K     |███████████████████████████▏    | 1.4 MB 14.1 MB/s eta 0:00:01\r\u001b[K     |███████████████████████████▍    | 1.4 MB 14.1 MB/s eta 0:00:01\r\u001b[K     |███████████████████████████▌    | 1.4 MB 14.1 MB/s eta 0:00:01\r\u001b[K     |███████████████████████████▊    | 1.4 MB 14.1 MB/s eta 0:00:01\r\u001b[K     |████████████████████████████    | 1.4 MB 14.1 MB/s eta 0:00:01\r\u001b[K     |████████████████████████████▏   | 1.5 MB 14.1 MB/s eta 0:00:01\r\u001b[K     |████████████████████████████▎   | 1.5 MB 14.1 MB/s eta 0:00:01\r\u001b[K     |████████████████████████████▌   | 1.5 MB 14.1 MB/s eta 0:00:01\r\u001b[K     |████████████████████████████▊   | 1.5 MB 14.1 MB/s eta 0:00:01\r\u001b[K     |█████████████████████████████   | 1.5 MB 14.1 MB/s eta 0:00:01\r\u001b[K     |█████████████████████████████▏  | 1.5 MB 14.1 MB/s eta 0:00:01\r\u001b[K     |█████████████████████████████▎  | 1.5 MB 14.1 MB/s eta 0:00:01\r\u001b[K     |█████████████████████████████▌  | 1.5 MB 14.1 MB/s eta 0:00:01\r\u001b[K     |█████████████████████████████▊  | 1.5 MB 14.1 MB/s eta 0:00:01\r\u001b[K     |██████████████████████████████  | 1.5 MB 14.1 MB/s eta 0:00:01\r\u001b[K     |██████████████████████████████▏ | 1.6 MB 14.1 MB/s eta 0:00:01\r\u001b[K     |██████████████████████████████▎ | 1.6 MB 14.1 MB/s eta 0:00:01\r\u001b[K     |██████████████████████████████▌ | 1.6 MB 14.1 MB/s eta 0:00:01\r\u001b[K     |██████████████████████████████▊ | 1.6 MB 14.1 MB/s eta 0:00:01\r\u001b[K     |███████████████████████████████ | 1.6 MB 14.1 MB/s eta 0:00:01\r\u001b[K     |███████████████████████████████ | 1.6 MB 14.1 MB/s eta 0:00:01\r\u001b[K     |███████████████████████████████▎| 1.6 MB 14.1 MB/s eta 0:00:01\r\u001b[K     |███████████████████████████████▌| 1.6 MB 14.1 MB/s eta 0:00:01\r\u001b[K     |███████████████████████████████▊| 1.6 MB 14.1 MB/s eta 0:00:01\r\u001b[K     |████████████████████████████████| 1.6 MB 14.1 MB/s eta 0:00:01\r\u001b[K     |████████████████████████████████| 1.7 MB 14.1 MB/s \n",
            "\u001b[?25h  Installing build dependencies ... \u001b[?25l\u001b[?25hdone\n",
            "  Getting requirements to build wheel ... \u001b[?25l\u001b[?25hdone\n",
            "  Installing backend dependencies ... \u001b[?25l\u001b[?25hdone\n",
            "    Preparing wheel metadata ... \u001b[?25l\u001b[?25hdone\n",
            "\u001b[K     |████████████████████████████████| 11.5 MB 63.6 MB/s \n",
            "\u001b[K     |████████████████████████████████| 15.7 MB 128 kB/s \n",
            "\u001b[?25h  Building wheel for pyldavis (PEP 517) ... \u001b[?25l\u001b[?25hdone\n",
            "\u001b[31mERROR: pip's dependency resolver does not currently take into account all the packages that are installed. This behaviour is the source of the following dependency conflicts.\n",
            "tensorflow 2.5.0 requires numpy~=1.19.2, but you have numpy 1.21.1 which is incompatible.\n",
            "google-colab 1.0.0 requires pandas~=1.1.0; python_version >= \"3.0\", but you have pandas 1.3.1 which is incompatible.\n",
            "datascience 0.10.6 requires folium==0.2.1, but you have folium 0.8.3 which is incompatible.\n",
            "albumentations 0.1.12 requires imgaug<0.2.7,>=0.2.5, but you have imgaug 0.2.9 which is incompatible.\u001b[0m\n"
          ],
          "name": "stdout"
        }
      ]
    },
    {
      "cell_type": "code",
      "metadata": {
        "colab": {
          "base_uri": "https://localhost:8080/"
        },
        "id": "izLDFux7fuIs",
        "outputId": "3e5fa457-fbe1-4a9f-dce2-f66f5ccf637e"
      },
      "source": [
        "pip install stanza"
      ],
      "execution_count": null,
      "outputs": [
        {
          "output_type": "stream",
          "text": [
            "Collecting stanza\n",
            "  Downloading stanza-1.2.2-py3-none-any.whl (337 kB)\n",
            "\u001b[?25l\r\u001b[K     |█                               | 10 kB 28.2 MB/s eta 0:00:01\r\u001b[K     |██                              | 20 kB 31.7 MB/s eta 0:00:01\r\u001b[K     |███                             | 30 kB 37.2 MB/s eta 0:00:01\r\u001b[K     |███▉                            | 40 kB 30.4 MB/s eta 0:00:01\r\u001b[K     |████▉                           | 51 kB 17.9 MB/s eta 0:00:01\r\u001b[K     |█████▉                          | 61 kB 14.9 MB/s eta 0:00:01\r\u001b[K     |██████▉                         | 71 kB 13.9 MB/s eta 0:00:01\r\u001b[K     |███████▊                        | 81 kB 15.4 MB/s eta 0:00:01\r\u001b[K     |████████▊                       | 92 kB 13.9 MB/s eta 0:00:01\r\u001b[K     |█████████▊                      | 102 kB 13.0 MB/s eta 0:00:01\r\u001b[K     |██████████▊                     | 112 kB 13.0 MB/s eta 0:00:01\r\u001b[K     |███████████▋                    | 122 kB 13.0 MB/s eta 0:00:01\r\u001b[K     |████████████▋                   | 133 kB 13.0 MB/s eta 0:00:01\r\u001b[K     |█████████████▋                  | 143 kB 13.0 MB/s eta 0:00:01\r\u001b[K     |██████████████▌                 | 153 kB 13.0 MB/s eta 0:00:01\r\u001b[K     |███████████████▌                | 163 kB 13.0 MB/s eta 0:00:01\r\u001b[K     |████████████████▌               | 174 kB 13.0 MB/s eta 0:00:01\r\u001b[K     |█████████████████▌              | 184 kB 13.0 MB/s eta 0:00:01\r\u001b[K     |██████████████████▍             | 194 kB 13.0 MB/s eta 0:00:01\r\u001b[K     |███████████████████▍            | 204 kB 13.0 MB/s eta 0:00:01\r\u001b[K     |████████████████████▍           | 215 kB 13.0 MB/s eta 0:00:01\r\u001b[K     |█████████████████████▍          | 225 kB 13.0 MB/s eta 0:00:01\r\u001b[K     |██████████████████████▎         | 235 kB 13.0 MB/s eta 0:00:01\r\u001b[K     |███████████████████████▎        | 245 kB 13.0 MB/s eta 0:00:01\r\u001b[K     |████████████████████████▎       | 256 kB 13.0 MB/s eta 0:00:01\r\u001b[K     |█████████████████████████▏      | 266 kB 13.0 MB/s eta 0:00:01\r\u001b[K     |██████████████████████████▏     | 276 kB 13.0 MB/s eta 0:00:01\r\u001b[K     |███████████████████████████▏    | 286 kB 13.0 MB/s eta 0:00:01\r\u001b[K     |████████████████████████████▏   | 296 kB 13.0 MB/s eta 0:00:01\r\u001b[K     |█████████████████████████████   | 307 kB 13.0 MB/s eta 0:00:01\r\u001b[K     |██████████████████████████████  | 317 kB 13.0 MB/s eta 0:00:01\r\u001b[K     |███████████████████████████████ | 327 kB 13.0 MB/s eta 0:00:01\r\u001b[K     |████████████████████████████████| 337 kB 13.0 MB/s \n",
            "\u001b[?25hRequirement already satisfied: tqdm in /usr/local/lib/python3.7/dist-packages (from stanza) (4.41.1)\n",
            "Requirement already satisfied: protobuf in /usr/local/lib/python3.7/dist-packages (from stanza) (3.17.3)\n",
            "Requirement already satisfied: requests in /usr/local/lib/python3.7/dist-packages (from stanza) (2.23.0)\n",
            "Requirement already satisfied: numpy in /usr/local/lib/python3.7/dist-packages (from stanza) (1.21.1)\n",
            "Requirement already satisfied: torch>=1.3.0 in /usr/local/lib/python3.7/dist-packages (from stanza) (1.9.0+cu102)\n",
            "Requirement already satisfied: typing-extensions in /usr/local/lib/python3.7/dist-packages (from torch>=1.3.0->stanza) (3.7.4.3)\n",
            "Requirement already satisfied: six>=1.9 in /usr/local/lib/python3.7/dist-packages (from protobuf->stanza) (1.15.0)\n",
            "Requirement already satisfied: certifi>=2017.4.17 in /usr/local/lib/python3.7/dist-packages (from requests->stanza) (2021.5.30)\n",
            "Requirement already satisfied: idna<3,>=2.5 in /usr/local/lib/python3.7/dist-packages (from requests->stanza) (2.10)\n",
            "Requirement already satisfied: urllib3!=1.25.0,!=1.25.1,<1.26,>=1.21.1 in /usr/local/lib/python3.7/dist-packages (from requests->stanza) (1.24.3)\n",
            "Requirement already satisfied: chardet<4,>=3.0.2 in /usr/local/lib/python3.7/dist-packages (from requests->stanza) (3.0.4)\n",
            "Installing collected packages: stanza\n",
            "Successfully installed stanza-1.2.2\n"
          ],
          "name": "stdout"
        }
      ]
    },
    {
      "cell_type": "code",
      "metadata": {
        "colab": {
          "base_uri": "https://localhost:8080/",
          "height": 597,
          "referenced_widgets": [
            "5c0473904fa742c3a2e3ed5a639b6994",
            "364b824992ff4be7b9b05d342ed74e0b",
            "0b5d83fb187a411aa59b2ba2268d10e7",
            "8ab9144e90bf4c43ab15683d346ab21b",
            "3f9a5719b2744f8a8a022b6308e9b87f",
            "8c8c72ed983640f4b581d0d70f1a8c85",
            "0566e49fc2e7435696440b87ff10163c",
            "857a6be5753f48358210157bc551e0e2"
          ]
        },
        "id": "TcXrGjEqf0Kk",
        "outputId": "5807fb54-eca6-4cd4-bdbf-d852863ed294"
      },
      "source": [
        "import stanza\n",
        "\n",
        "stanza.download('en',package = 'craft')"
      ],
      "execution_count": null,
      "outputs": [
        {
          "output_type": "display_data",
          "data": {
            "application/vnd.jupyter.widget-view+json": {
              "model_id": "5c0473904fa742c3a2e3ed5a639b6994",
              "version_minor": 0,
              "version_major": 2
            },
            "text/plain": [
              "HBox(children=(FloatProgress(value=0.0, description='Downloading https://raw.githubusercontent.com/stanfordnlp…"
            ]
          },
          "metadata": {
            "tags": []
          }
        },
        {
          "output_type": "stream",
          "text": [
            "2021-08-05 21:06:10 INFO: Downloading these customized packages for language: en (English)...\n",
            "=======================\n",
            "| Processor | Package |\n",
            "-----------------------\n",
            "| tokenize  | craft   |\n",
            "| pos       | craft   |\n",
            "| lemma     | craft   |\n",
            "| depparse  | craft   |\n",
            "| pretrain  | craft   |\n",
            "=======================\n",
            "\n"
          ],
          "name": "stderr"
        },
        {
          "output_type": "stream",
          "text": [
            "\n"
          ],
          "name": "stdout"
        },
        {
          "output_type": "error",
          "ename": "TypeError",
          "evalue": "ignored",
          "traceback": [
            "\u001b[0;31m---------------------------------------------------------------------------\u001b[0m",
            "\u001b[0;31mTypeError\u001b[0m                                 Traceback (most recent call last)",
            "\u001b[0;32m<ipython-input-1-cf13aa3f6f46>\u001b[0m in \u001b[0;36m<module>\u001b[0;34m()\u001b[0m\n\u001b[1;32m      1\u001b[0m \u001b[0;32mimport\u001b[0m \u001b[0mstanza\u001b[0m\u001b[0;34m\u001b[0m\u001b[0;34m\u001b[0m\u001b[0m\n\u001b[1;32m      2\u001b[0m \u001b[0;34m\u001b[0m\u001b[0m\n\u001b[0;32m----> 3\u001b[0;31m \u001b[0mstanza\u001b[0m\u001b[0;34m.\u001b[0m\u001b[0mdownload\u001b[0m\u001b[0;34m(\u001b[0m\u001b[0;34m'en'\u001b[0m\u001b[0;34m,\u001b[0m\u001b[0mpackage\u001b[0m \u001b[0;34m=\u001b[0m \u001b[0;34m'craft'\u001b[0m\u001b[0;34m)\u001b[0m\u001b[0;34m\u001b[0m\u001b[0;34m\u001b[0m\u001b[0m\n\u001b[0m",
            "\u001b[0;32m/usr/local/lib/python3.7/dist-packages/stanza/resources/common.py\u001b[0m in \u001b[0;36mdownload\u001b[0;34m(lang, model_dir, package, processors, logging_level, verbose, resources_url, resources_branch, resources_version, model_url, proxies)\u001b[0m\n\u001b[1;32m    433\u001b[0m                     \u001b[0mos\u001b[0m\u001b[0;34m.\u001b[0m\u001b[0mpath\u001b[0m\u001b[0;34m.\u001b[0m\u001b[0mjoin\u001b[0m\u001b[0;34m(\u001b[0m\u001b[0mmodel_dir\u001b[0m\u001b[0;34m,\u001b[0m \u001b[0mlang\u001b[0m\u001b[0;34m,\u001b[0m \u001b[0mkey\u001b[0m\u001b[0;34m,\u001b[0m \u001b[0;34mf'{value}.pt'\u001b[0m\u001b[0;34m)\u001b[0m\u001b[0;34m,\u001b[0m\u001b[0;34m\u001b[0m\u001b[0;34m\u001b[0m\u001b[0m\n\u001b[1;32m    434\u001b[0m                     \u001b[0mproxies\u001b[0m\u001b[0;34m,\u001b[0m\u001b[0;34m\u001b[0m\u001b[0;34m\u001b[0m\u001b[0m\n\u001b[0;32m--> 435\u001b[0;31m                     \u001b[0mmd5\u001b[0m\u001b[0;34m=\u001b[0m\u001b[0mresources\u001b[0m\u001b[0;34m[\u001b[0m\u001b[0mlang\u001b[0m\u001b[0;34m]\u001b[0m\u001b[0;34m[\u001b[0m\u001b[0mkey\u001b[0m\u001b[0;34m]\u001b[0m\u001b[0;34m[\u001b[0m\u001b[0mvalue\u001b[0m\u001b[0;34m]\u001b[0m\u001b[0;34m[\u001b[0m\u001b[0;34m'md5'\u001b[0m\u001b[0;34m]\u001b[0m\u001b[0;34m\u001b[0m\u001b[0;34m\u001b[0m\u001b[0m\n\u001b[0m\u001b[1;32m    436\u001b[0m                 )\n\u001b[1;32m    437\u001b[0m             \u001b[0;32mexcept\u001b[0m \u001b[0mKeyError\u001b[0m \u001b[0;32mas\u001b[0m \u001b[0me\u001b[0m\u001b[0;34m:\u001b[0m\u001b[0;34m\u001b[0m\u001b[0;34m\u001b[0m\u001b[0m\n",
            "\u001b[0;32m/usr/local/lib/python3.7/dist-packages/stanza/resources/common.py\u001b[0m in \u001b[0;36mrequest_file\u001b[0;34m(url, path, proxies, md5, raise_for_status)\u001b[0m\n\u001b[1;32m    140\u001b[0m         \u001b[0mlogger\u001b[0m\u001b[0;34m.\u001b[0m\u001b[0minfo\u001b[0m\u001b[0;34m(\u001b[0m\u001b[0;34mf'File exists: {path}.'\u001b[0m\u001b[0;34m)\u001b[0m\u001b[0;34m\u001b[0m\u001b[0;34m\u001b[0m\u001b[0m\n\u001b[1;32m    141\u001b[0m         \u001b[0;32mreturn\u001b[0m\u001b[0;34m\u001b[0m\u001b[0;34m\u001b[0m\u001b[0m\n\u001b[0;32m--> 142\u001b[0;31m     \u001b[0mdownload_file\u001b[0m\u001b[0;34m(\u001b[0m\u001b[0murl\u001b[0m\u001b[0;34m,\u001b[0m \u001b[0mpath\u001b[0m\u001b[0;34m,\u001b[0m \u001b[0mproxies\u001b[0m\u001b[0;34m,\u001b[0m \u001b[0mraise_for_status\u001b[0m\u001b[0;34m)\u001b[0m\u001b[0;34m\u001b[0m\u001b[0;34m\u001b[0m\u001b[0m\n\u001b[0m\u001b[1;32m    143\u001b[0m     \u001b[0massert_file_exists\u001b[0m\u001b[0;34m(\u001b[0m\u001b[0mpath\u001b[0m\u001b[0;34m,\u001b[0m \u001b[0mmd5\u001b[0m\u001b[0;34m)\u001b[0m\u001b[0;34m\u001b[0m\u001b[0;34m\u001b[0m\u001b[0m\n\u001b[1;32m    144\u001b[0m \u001b[0;34m\u001b[0m\u001b[0m\n",
            "\u001b[0;32m/usr/local/lib/python3.7/dist-packages/stanza/resources/common.py\u001b[0m in \u001b[0;36mdownload_file\u001b[0;34m(url, path, proxies, raise_for_status)\u001b[0m\n\u001b[1;32m    117\u001b[0m     \u001b[0mr\u001b[0m \u001b[0;34m=\u001b[0m \u001b[0mrequests\u001b[0m\u001b[0;34m.\u001b[0m\u001b[0mget\u001b[0m\u001b[0;34m(\u001b[0m\u001b[0murl\u001b[0m\u001b[0;34m,\u001b[0m \u001b[0mstream\u001b[0m\u001b[0;34m=\u001b[0m\u001b[0;32mTrue\u001b[0m\u001b[0;34m,\u001b[0m \u001b[0mproxies\u001b[0m\u001b[0;34m=\u001b[0m\u001b[0mproxies\u001b[0m\u001b[0;34m)\u001b[0m\u001b[0;34m\u001b[0m\u001b[0;34m\u001b[0m\u001b[0m\n\u001b[1;32m    118\u001b[0m     \u001b[0;32mwith\u001b[0m \u001b[0mopen\u001b[0m\u001b[0;34m(\u001b[0m\u001b[0mpath\u001b[0m\u001b[0;34m,\u001b[0m \u001b[0;34m'wb'\u001b[0m\u001b[0;34m)\u001b[0m \u001b[0;32mas\u001b[0m \u001b[0mf\u001b[0m\u001b[0;34m:\u001b[0m\u001b[0;34m\u001b[0m\u001b[0;34m\u001b[0m\u001b[0m\n\u001b[0;32m--> 119\u001b[0;31m         \u001b[0mfile_size\u001b[0m \u001b[0;34m=\u001b[0m \u001b[0mint\u001b[0m\u001b[0;34m(\u001b[0m\u001b[0mr\u001b[0m\u001b[0;34m.\u001b[0m\u001b[0mheaders\u001b[0m\u001b[0;34m.\u001b[0m\u001b[0mget\u001b[0m\u001b[0;34m(\u001b[0m\u001b[0;34m'content-length'\u001b[0m\u001b[0;34m)\u001b[0m\u001b[0;34m)\u001b[0m\u001b[0;34m\u001b[0m\u001b[0;34m\u001b[0m\u001b[0m\n\u001b[0m\u001b[1;32m    120\u001b[0m         \u001b[0mdefault_chunk_size\u001b[0m \u001b[0;34m=\u001b[0m \u001b[0;36m131072\u001b[0m\u001b[0;34m\u001b[0m\u001b[0;34m\u001b[0m\u001b[0m\n\u001b[1;32m    121\u001b[0m         \u001b[0mdesc\u001b[0m \u001b[0;34m=\u001b[0m \u001b[0;34m'Downloading '\u001b[0m \u001b[0;34m+\u001b[0m \u001b[0murl\u001b[0m\u001b[0;34m\u001b[0m\u001b[0;34m\u001b[0m\u001b[0m\n",
            "\u001b[0;31mTypeError\u001b[0m: int() argument must be a string, a bytes-like object or a number, not 'NoneType'"
          ]
        }
      ]
    },
    {
      "cell_type": "code",
      "metadata": {
        "id": "yyOOtoYjRj6l"
      },
      "source": [
        "from gensim.models.coherencemodel import CoherenceModel"
      ],
      "execution_count": null,
      "outputs": []
    },
    {
      "cell_type": "code",
      "metadata": {
        "id": "gC1ZoMx_SqKh"
      },
      "source": [
        "import requests\n",
        "from cachecontrol import CacheControl\n",
        "import json\n",
        "from lxml.html import fromstring\n",
        "import pyquery\n",
        "import pandas as pd\n",
        "import umls_api\n",
        "import gensim\n",
        "from gensim.models import Phrases\n",
        "from gensim.corpora import Dictionary \n",
        "\n",
        "from gensim.utils import simple_preprocess\n",
        "from gensim.parsing.preprocessing import remove_stopwords, STOPWORDS\n",
        "from gensim.parsing.preprocessing import strip_numeric,strip_multiple_whitespaces, strip_punctuation, strip_short, strip_tags"
      ],
      "execution_count": null,
      "outputs": []
    },
    {
      "cell_type": "code",
      "metadata": {
        "id": "tbWEKkgXWTJQ"
      },
      "source": [
        "import re\n",
        "import numpy as np"
      ],
      "execution_count": null,
      "outputs": []
    },
    {
      "cell_type": "code",
      "metadata": {
        "colab": {
          "base_uri": "https://localhost:8080/"
        },
        "id": "1iP3OpRxebtC",
        "outputId": "8dd7e78d-d3c4-40b2-b799-42a544cf5596"
      },
      "source": [
        "import pyLDAvis\n",
        "import pyLDAvis.gensim_models\n",
        "import matplotlib.pyplot as plt\n",
        "%matplotlib inline"
      ],
      "execution_count": null,
      "outputs": [
        {
          "output_type": "stream",
          "text": [
            "/usr/local/lib/python3.7/dist-packages/past/types/oldstr.py:5: DeprecationWarning: Using or importing the ABCs from 'collections' instead of from 'collections.abc' is deprecated since Python 3.3,and in 3.9 it will stop working\n",
            "  from collections import Iterable\n",
            "/usr/local/lib/python3.7/dist-packages/sklearn/linear_model/_least_angle.py:30: DeprecationWarning: `np.float` is a deprecated alias for the builtin `float`. To silence this warning, use `float` by itself. Doing this will not modify any behavior and is safe. If you specifically wanted the numpy scalar type, use `np.float64` here.\n",
            "Deprecated in NumPy 1.20; for more details and guidance: https://numpy.org/devdocs/release/1.20.0-notes.html#deprecations\n",
            "  method='lar', copy_X=True, eps=np.finfo(np.float).eps,\n",
            "/usr/local/lib/python3.7/dist-packages/sklearn/linear_model/_least_angle.py:169: DeprecationWarning: `np.float` is a deprecated alias for the builtin `float`. To silence this warning, use `float` by itself. Doing this will not modify any behavior and is safe. If you specifically wanted the numpy scalar type, use `np.float64` here.\n",
            "Deprecated in NumPy 1.20; for more details and guidance: https://numpy.org/devdocs/release/1.20.0-notes.html#deprecations\n",
            "  method='lar', copy_X=True, eps=np.finfo(np.float).eps,\n",
            "/usr/local/lib/python3.7/dist-packages/sklearn/linear_model/_least_angle.py:286: DeprecationWarning: `np.float` is a deprecated alias for the builtin `float`. To silence this warning, use `float` by itself. Doing this will not modify any behavior and is safe. If you specifically wanted the numpy scalar type, use `np.float64` here.\n",
            "Deprecated in NumPy 1.20; for more details and guidance: https://numpy.org/devdocs/release/1.20.0-notes.html#deprecations\n",
            "  eps=np.finfo(np.float).eps, copy_Gram=True, verbose=0,\n",
            "/usr/local/lib/python3.7/dist-packages/sklearn/linear_model/_least_angle.py:858: DeprecationWarning: `np.float` is a deprecated alias for the builtin `float`. To silence this warning, use `float` by itself. Doing this will not modify any behavior and is safe. If you specifically wanted the numpy scalar type, use `np.float64` here.\n",
            "Deprecated in NumPy 1.20; for more details and guidance: https://numpy.org/devdocs/release/1.20.0-notes.html#deprecations\n",
            "  eps=np.finfo(np.float).eps, copy_X=True, fit_path=True):\n",
            "/usr/local/lib/python3.7/dist-packages/sklearn/linear_model/_least_angle.py:1094: DeprecationWarning: `np.float` is a deprecated alias for the builtin `float`. To silence this warning, use `float` by itself. Doing this will not modify any behavior and is safe. If you specifically wanted the numpy scalar type, use `np.float64` here.\n",
            "Deprecated in NumPy 1.20; for more details and guidance: https://numpy.org/devdocs/release/1.20.0-notes.html#deprecations\n",
            "  eps=np.finfo(np.float).eps, copy_X=True, fit_path=True,\n",
            "/usr/local/lib/python3.7/dist-packages/sklearn/linear_model/_least_angle.py:1120: DeprecationWarning: `np.float` is a deprecated alias for the builtin `float`. To silence this warning, use `float` by itself. Doing this will not modify any behavior and is safe. If you specifically wanted the numpy scalar type, use `np.float64` here.\n",
            "Deprecated in NumPy 1.20; for more details and guidance: https://numpy.org/devdocs/release/1.20.0-notes.html#deprecations\n",
            "  eps=np.finfo(np.float).eps, positive=False):\n",
            "/usr/local/lib/python3.7/dist-packages/sklearn/linear_model/_least_angle.py:1349: DeprecationWarning: `np.float` is a deprecated alias for the builtin `float`. To silence this warning, use `float` by itself. Doing this will not modify any behavior and is safe. If you specifically wanted the numpy scalar type, use `np.float64` here.\n",
            "Deprecated in NumPy 1.20; for more details and guidance: https://numpy.org/devdocs/release/1.20.0-notes.html#deprecations\n",
            "  max_n_alphas=1000, n_jobs=None, eps=np.finfo(np.float).eps,\n",
            "/usr/local/lib/python3.7/dist-packages/sklearn/linear_model/_least_angle.py:1590: DeprecationWarning: `np.float` is a deprecated alias for the builtin `float`. To silence this warning, use `float` by itself. Doing this will not modify any behavior and is safe. If you specifically wanted the numpy scalar type, use `np.float64` here.\n",
            "Deprecated in NumPy 1.20; for more details and guidance: https://numpy.org/devdocs/release/1.20.0-notes.html#deprecations\n",
            "  max_n_alphas=1000, n_jobs=None, eps=np.finfo(np.float).eps,\n",
            "/usr/local/lib/python3.7/dist-packages/sklearn/linear_model/_least_angle.py:1723: DeprecationWarning: `np.float` is a deprecated alias for the builtin `float`. To silence this warning, use `float` by itself. Doing this will not modify any behavior and is safe. If you specifically wanted the numpy scalar type, use `np.float64` here.\n",
            "Deprecated in NumPy 1.20; for more details and guidance: https://numpy.org/devdocs/release/1.20.0-notes.html#deprecations\n",
            "  eps=np.finfo(np.float).eps, copy_X=True, positive=False):\n",
            "/usr/local/lib/python3.7/dist-packages/sklearn/decomposition/_lda.py:29: DeprecationWarning: `np.float` is a deprecated alias for the builtin `float`. To silence this warning, use `float` by itself. Doing this will not modify any behavior and is safe. If you specifically wanted the numpy scalar type, use `np.float64` here.\n",
            "Deprecated in NumPy 1.20; for more details and guidance: https://numpy.org/devdocs/release/1.20.0-notes.html#deprecations\n",
            "  EPS = np.finfo(np.float).eps\n"
          ],
          "name": "stderr"
        }
      ]
    },
    {
      "cell_type": "code",
      "metadata": {
        "colab": {
          "base_uri": "https://localhost:8080/"
        },
        "id": "YMOryzwoTEnB",
        "outputId": "0f4b8eda-339d-4b11-88b4-70c256b01d8a"
      },
      "source": [
        "from google.colab import drive\n",
        "drive.mount('/content/drive')\n",
        "\n",
        "df = pd.read_csv('drive/MyDrive/bbc_1807_1906_novideos.csv',encoding = 'utf-8')\n",
        "df.head"
      ],
      "execution_count": null,
      "outputs": [
        {
          "output_type": "stream",
          "text": [
            "Mounted at /content/drive\n"
          ],
          "name": "stdout"
        },
        {
          "output_type": "execute_result",
          "data": {
            "text/plain": [
              "<bound method NDFrame.head of      Month  ... Unnamed: 6\n",
              "0     1901  ...        NaN\n",
              "1     1901  ...        NaN\n",
              "2     1901  ...        NaN\n",
              "3     1901  ...        NaN\n",
              "4     1901  ...        NaN\n",
              "..     ...  ...        ...\n",
              "707   1812  ...        NaN\n",
              "708   1812  ...        NaN\n",
              "709   1812  ...        NaN\n",
              "710   1812  ...        NaN\n",
              "711   1812  ...        NaN\n",
              "\n",
              "[712 rows x 7 columns]>"
            ]
          },
          "metadata": {
            "tags": []
          },
          "execution_count": 5
        }
      ]
    },
    {
      "cell_type": "code",
      "metadata": {
        "id": "AvcANCp1TIco"
      },
      "source": [
        "texts = list(df.loc[:, \"text\"].values)"
      ],
      "execution_count": null,
      "outputs": []
    },
    {
      "cell_type": "code",
      "metadata": {
        "id": "sgDY_xAaTK5o"
      },
      "source": [
        "new_sw = ['people','say','says','said','could','one','would','take','want','have','she','he','give','told','know','but','health','month','day','year', 'minute','second','hundred','thousand','however']\n",
        "stop_words = STOPWORDS.union(set(new_sw))"
      ],
      "execution_count": null,
      "outputs": []
    },
    {
      "cell_type": "code",
      "metadata": {
        "id": "BWOymtfRe_nT"
      },
      "source": [
        "pubmed_stoplist = ['a','about','again','all','almost', 'also','although','always',\\\n",
        "                   'among','an','and','another','any','are','as','at','be','because',\\\n",
        "                   'been','before','being','between','both','but','by','can','could',\\\n",
        "                   'did','do','does','done','due','during','each','either','enough', \\\n",
        "                   'especially','etc','for','found', 'from','further','had','is','it',\\\n",
        "                   'has','have','having','here','how','however','i','if','in','into',\\\n",
        "                   'its','itself','just','kg','km', 'made','mainly','make','may','mg',\\\n",
        "                   'might','ml','mm','most','mostly','must','nearly','neither','no',\\\n",
        "                   'nor','obtained','of','often','on','our','overall','perhaps','pmid',\\\n",
        "                   'quite','rather','really','regarding','seem','seen','several',\\\n",
        "                   'should','show','showed','shown','shows','significantly','since',\\\n",
        "                   'so','some','such','than','that','the','their','theirs','them',\\\n",
        "                   'then','there','therefore','these','they','this','those','through',\\\n",
        "                   'thus','to','upon','use','used','using','various','very', 'was','we',\\\n",
        "                   'were','what','when', 'which','while','with','within','without','would']"
      ],
      "execution_count": null,
      "outputs": []
    },
    {
      "cell_type": "code",
      "metadata": {
        "id": "GwRJ4I-jfBN7"
      },
      "source": [
        "stop_words = STOPWORDS.union(set(pubmed_stoplist))"
      ],
      "execution_count": null,
      "outputs": []
    },
    {
      "cell_type": "code",
      "metadata": {
        "id": "b0jJslmMWclH"
      },
      "source": [
        "clean_article = []\n",
        "\n",
        "for text in texts:\n",
        "  #remove new line character and punctuations \n",
        "  clean = []\n",
        "  text = strip_multiple_whitespaces(text)\n",
        "  text = strip_numeric(text)\n",
        "  text = strip_punctuation(text)\n",
        "  text = strip_tags(text)\n",
        "  text = strip_short(text,minsize=3)\n",
        "  text = remove_stopwords(text)\n",
        "  # lower case, de-accents.  Convert the texts into a list of tokens\n",
        "  for token in gensim.utils.simple_preprocess(text, deacc=True):\n",
        "      clean.append(token)\n",
        "  clean_article.append(clean)"
      ],
      "execution_count": null,
      "outputs": []
    },
    {
      "cell_type": "code",
      "metadata": {
        "colab": {
          "base_uri": "https://localhost:8080/"
        },
        "id": "TAv2GU8Jfr2Z",
        "outputId": "33a06015-4796-4183-a94c-34defc88c63d"
      },
      "source": [
        "nlp_craft = stanza.Pipeline('en',package = 'craft',processor = 'pos,tokenize,lemma',tokenize_pretokenized = True)"
      ],
      "execution_count": null,
      "outputs": [
        {
          "output_type": "stream",
          "text": [
            "2021-08-03 22:20:50 INFO: Loading these models for language: en (English):\n",
            "=======================\n",
            "| Processor | Package |\n",
            "-----------------------\n",
            "| tokenize  | craft   |\n",
            "| pos       | craft   |\n",
            "| lemma     | craft   |\n",
            "| depparse  | craft   |\n",
            "=======================\n",
            "\n",
            "2021-08-03 22:20:50 INFO: Use device: gpu\n",
            "2021-08-03 22:20:50 INFO: Loading: tokenize\n",
            "2021-08-03 22:20:50 INFO: Loading: pos\n",
            "2021-08-03 22:21:02 INFO: Loading: lemma\n",
            "2021-08-03 22:21:02 INFO: Loading: depparse\n",
            "2021-08-03 22:21:02 INFO: Done loading processors!\n"
          ],
          "name": "stderr"
        }
      ]
    },
    {
      "cell_type": "code",
      "metadata": {
        "id": "2_5B9tEbf7ov"
      },
      "source": [
        "doc_craft = nlp_craft (clean_article)"
      ],
      "execution_count": null,
      "outputs": []
    },
    {
      "cell_type": "code",
      "metadata": {
        "id": "xolUZpozgNpr"
      },
      "source": [
        "token_list = []\n",
        "for i in range(len(doc_craft.sentences)):\n",
        "  article_token_list = []\n",
        "  for m in range(len(doc_craft.sentences[i].tokens)):\n",
        "    article_token_list.append(doc_craft.sentences[i].words[m].lemma)\n",
        "  token_list.append(article_token_list)\n"
      ],
      "execution_count": null,
      "outputs": []
    },
    {
      "cell_type": "code",
      "metadata": {
        "colab": {
          "base_uri": "https://localhost:8080/"
        },
        "id": "sY5aKI0EnpoW",
        "outputId": "d2574d3e-96c2-4ae0-f526-2a6287622334"
      },
      "source": [
        "print(token_list[0])"
      ],
      "execution_count": null,
      "outputs": [
        {
          "output_type": "stream",
          "text": [
            "['the', 'cheese', 'addict', 'but', 'discover', 'recently', 'shake', 'core', 'barely', 'look', 'babybel', 'face', 'half', 'eat', 'halloumi', 'squeaklessly', 'lie', 'yellow', 'fridge', 'cheese', 'dream', 'shatter', 'for', 'lifetime', 'unfettered', 'devotion', 'possibly', 'cheese', 'foe', 'friend', 'that', 'addict', 'good', 'body', 'that', 'cheese', 'toast', 'these', 'question', 'begin', 'surface', 'couple', 'month', 'ago', 'begin', 'make', 'episode', 'new', 'podcast', 'bbc', 'all', 'hail', 'kale', 'look', 'dairy', 'scary', 'for', 'time', 'increasingly', 'question', 'logic', 'adult', 'drink', 'milk', 'while', 'milk', 'dairy', 'product', 'cheese', 'yoghurt', 'good', 'source', 'protein', 'calcium', 'form', 'healthy', 'balance', 'diet', 'michael', 'greger', 'nutritionfact', 'org', 'there', 'animal', 'planet', 'drink', 'milk', 'weaning', 'drink', 'milk', 'species', 'sense', 'reel', 'series', 'study', 'show', 'life', 'shortening', 'potential', 'drink', 'hormonal', 'stew', 'blithely', 'assume', 'cheese', 'mature', 'benign', 'beneficial', 'form', 'dairy', 'fit', 'mental', 'picture', 'spritely', 'long', 'live', 'greek', 'italian', 'liberally', 'sprinkle', 'feta', 'pecorino', 'reality', 'low', 'moderate', 'cheese', 'figure', 'hallow', 'mediterranean', 'diet', 'unilaterally', 'decide', 'childhood', 'diagnosis', 'lactose', 'intolerance', 'way', 'impede', 'mainlining', 'paneer', 'india', 'ski', 'spending', 'time', 'fork', 'bread', 'fondue', 'bother', 'slope', 'perhaps', 'sense', 'denial', 'cum', 'delusion', 'stem', 'actual', 'addiction', 'one', 'doctor', 'controversially', 'support', 'professor', 'speak', 'refer', 'cheese', 'dairy', 'crack', 'apparently', 'contain', 'addictive', 'opiate', 'like', 'chemical', 'suggest', 'step', 'programme', 'cheese', 'step', 'one', 'know', 'want', 'break', 'away', 'well', 'know', 'want', 'break', 'away', 'but', 'journalistic', 'pursuit', 'see', 'cheese', 'scary', 'form', 'dairy', 'milk', 'take', 'head', 'sand', 'special', 'turkish', 'cheese', 'apparently', 'ferment', 'contact', 'heavy', 'hitter', 'nutrition', 'they', 'agree', 'milk', 'secretion', 'species', 'strange', 'thing', 'latch', 'adult', 'human', 'need', 'drink', 'but', 'cheese', 'consensus', 'reach', 'michael', 'greger', 'take', 'hard', 'line', 'cheese', 'combination', 'sodium', 'concentrate', 'butterfat', 'daily', 'diet', 'make', 'special', 'occasion', 'day', 'day', 'walter', 'willett', 'professor', 'nutrition', 'harvard', 'school', 'public', 'health', 'take', 'semi', 'hard', 'view', 'cheese', 'growth', 'promote', 'effect', 'milk', 'have', 'brie', 'moderation', 'enjoy', 'say', 'portion', 'dairy', 'day', 'over', 'cornell', 'university', 'nutrition', 'professor', 'david', 'levitsky', 'take', 'distinctly', 'softer', 'stance', 'peril', 'dairy', 'confess', 'have', 'small', 'cheese', 'plate', 'dinner', 'night', 'enjoy', 'eat', 'mass', 'cheese', 'the', 'consensus', 'sort', 'cheese', 'certainly', 'high', 'end', 'spectrum', 'spirit', 'ostriching', 'go', 'enam', 'abood', 'harley', 'street', 'health', 'centre', 'lactose', 'intolerance', 'retest', 'year', 'she', 'confirm', 'intolerance', 'force', 'ignore', 'inflame', 'gut', 'accord', 'abood', 'ropey', 'gut', 'means', 'probably', 'absorb', 'vitamin', 'mineral', 'isn', 'great', 'immune', 'energy', 'level', 'maybe', 'mood', 'the', 'damage', 'likely', 'result', 'overdo', 'dairy', 'year', 'abood', 'recommend', 'consume', 'cheese', 'pop', 'lactase', 'pill', 'give', 'enzyme', 'people', 'like', 'lack', 'able', 'digest', 'dairy', 'properly', 'the', 'silver', 'gut', 'line', 'medical', 'travels', 'intestinal', 'expert', 'tell', 'nice', 'piece', 'bacterium', 'rich', 'non', 'process', 'unpasteurised', 'cheese', 'treat', 'gut', 'microbiome', 'have', 'make', 'all', 'hail', 'kale', 'episode', 'role', 'gut', 'mood', 'like', 'excellent', 'rationale', 'cheese', 'table', 'get', 'far', 'step', 'two', 'think', 'change', 'recipe', 'step', 'three', 'think', 'non', 'dairy', 'cheese', 'consider', 'stomach', 'instead', 'think', 'bewilder', 'definitive', 'answer', 'nutrition', 'think', 'remember', 'carry', 'lactase', 'enzyme', 'pill', 'and', 'think', 'gut', 'want', 'little', 'slice', 'roquefort', 'tomorrow', 'download', 'bbc', 'sound', 'listen', 'all', 'hail', 'kale']\n"
          ],
          "name": "stdout"
        }
      ]
    },
    {
      "cell_type": "code",
      "metadata": {
        "id": "iitR0RdOTaLe"
      },
      "source": [
        "bigram = gensim.models.Phrases(token_list, min_count=5, threshold=100) \n",
        "bigram_2 = gensim.models.phrases.Phraser(bigram)\n",
        "bigram_words = [bigram_2[text] for text in token_list]"
      ],
      "execution_count": null,
      "outputs": []
    },
    {
      "cell_type": "code",
      "metadata": {
        "colab": {
          "base_uri": "https://localhost:8080/"
        },
        "id": "gKbfTyfZWxRF",
        "outputId": "e7d2d6a1-09a1-4719-e258-4012ec2f8ef9"
      },
      "source": [
        "print(bigram_words[0])"
      ],
      "execution_count": null,
      "outputs": [
        {
          "output_type": "stream",
          "text": [
            "['the', 'cheese', 'addict', 'but', 'discover', 'recently', 'shake', 'core', 'barely', 'look', 'babybel', 'face', 'half', 'eat', 'halloumi', 'squeaklessly', 'lie', 'yellow', 'fridge', 'cheese', 'dream', 'shatter', 'for', 'lifetime', 'unfettered', 'devotion', 'possibly', 'cheese', 'foe', 'friend', 'that', 'addict', 'good', 'body', 'that', 'cheese', 'toast', 'these', 'question', 'begin', 'surface', 'couple', 'month', 'ago', 'begin', 'make', 'episode', 'new', 'podcast', 'bbc', 'all', 'hail', 'kale', 'look', 'dairy', 'scary', 'for', 'time', 'increasingly', 'question', 'logic', 'adult', 'drink', 'milk', 'while', 'milk', 'dairy', 'product', 'cheese', 'yoghurt', 'good', 'source', 'protein', 'calcium', 'form', 'healthy', 'balance', 'diet', 'michael', 'greger', 'nutritionfact', 'org', 'there', 'animal', 'planet', 'drink', 'milk', 'weaning', 'drink', 'milk', 'species', 'sense', 'reel', 'series', 'study', 'show', 'life', 'shortening', 'potential', 'drink', 'hormonal', 'stew', 'blithely', 'assume', 'cheese', 'mature', 'benign', 'beneficial', 'form', 'dairy', 'fit', 'mental', 'picture', 'spritely', 'long', 'live', 'greek', 'italian', 'liberally', 'sprinkle', 'feta', 'pecorino', 'reality', 'low', 'moderate', 'cheese', 'figure', 'hallow', 'mediterranean_diet', 'unilaterally', 'decide', 'childhood', 'diagnosis', 'lactose', 'intolerance', 'way', 'impede', 'mainlining', 'paneer', 'india', 'ski', 'spending', 'time', 'fork', 'bread', 'fondue', 'bother', 'slope', 'perhaps', 'sense', 'denial', 'cum', 'delusion', 'stem', 'actual', 'addiction', 'one', 'doctor', 'controversially', 'support', 'professor', 'speak', 'refer', 'cheese', 'dairy', 'crack', 'apparently', 'contain', 'addictive', 'opiate', 'like', 'chemical', 'suggest', 'step', 'programme', 'cheese', 'step', 'one', 'know', 'want', 'break', 'away', 'well', 'know', 'want', 'break', 'away', 'but', 'journalistic', 'pursuit', 'see', 'cheese', 'scary', 'form', 'dairy', 'milk', 'take', 'head', 'sand', 'special', 'turkish', 'cheese', 'apparently', 'ferment', 'contact', 'heavy', 'hitter', 'nutrition', 'they', 'agree', 'milk', 'secretion', 'species', 'strange', 'thing', 'latch', 'adult', 'human', 'need', 'drink', 'but', 'cheese', 'consensus', 'reach', 'michael', 'greger', 'take', 'hard', 'line', 'cheese', 'combination', 'sodium', 'concentrate', 'butterfat', 'daily', 'diet', 'make', 'special', 'occasion', 'day', 'day', 'walter', 'willett', 'professor', 'nutrition', 'harvard', 'school', 'public', 'health', 'take', 'semi', 'hard', 'view', 'cheese', 'growth', 'promote', 'effect', 'milk', 'have', 'brie', 'moderation', 'enjoy', 'say', 'portion', 'dairy', 'day', 'over', 'cornell', 'university', 'nutrition', 'professor', 'david', 'levitsky', 'take', 'distinctly', 'softer', 'stance', 'peril', 'dairy', 'confess', 'have', 'small', 'cheese', 'plate', 'dinner', 'night', 'enjoy', 'eat', 'mass', 'cheese', 'the', 'consensus', 'sort', 'cheese', 'certainly', 'high', 'end', 'spectrum', 'spirit', 'ostriching', 'go', 'enam', 'abood', 'harley', 'street', 'health', 'centre', 'lactose', 'intolerance', 'retest', 'year', 'she', 'confirm', 'intolerance', 'force', 'ignore', 'inflame', 'gut', 'accord', 'abood', 'ropey', 'gut', 'means', 'probably', 'absorb', 'vitamin_mineral', 'isn', 'great', 'immune', 'energy', 'level', 'maybe', 'mood', 'the', 'damage', 'likely', 'result', 'overdo', 'dairy', 'year', 'abood', 'recommend', 'consume', 'cheese', 'pop', 'lactase', 'pill', 'give', 'enzyme', 'people', 'like', 'lack', 'able', 'digest', 'dairy', 'properly', 'the', 'silver', 'gut', 'line', 'medical', 'travels', 'intestinal', 'expert', 'tell', 'nice', 'piece', 'bacterium', 'rich', 'non', 'process', 'unpasteurised', 'cheese', 'treat', 'gut', 'microbiome', 'have', 'make', 'all', 'hail', 'kale', 'episode', 'role', 'gut', 'mood', 'like', 'excellent', 'rationale', 'cheese', 'table', 'get', 'far', 'step', 'two', 'think', 'change', 'recipe', 'step', 'three', 'think', 'non', 'dairy', 'cheese', 'consider', 'stomach', 'instead', 'think', 'bewilder', 'definitive', 'answer', 'nutrition', 'think', 'remember', 'carry', 'lactase', 'enzyme', 'pill', 'and', 'think', 'gut', 'want', 'little', 'slice', 'roquefort', 'tomorrow', 'download', 'bbc', 'sound', 'listen', 'all', 'hail', 'kale']\n"
          ],
          "name": "stdout"
        }
      ]
    },
    {
      "cell_type": "code",
      "metadata": {
        "id": "ZG0l5Se1Srob"
      },
      "source": [
        "apikey = \"e22b627f-226b-420b-9de2-935e10ff3350\"\n",
        "service=\"http://umlsks.nlm.nih.gov\""
      ],
      "execution_count": null,
      "outputs": []
    },
    {
      "cell_type": "code",
      "metadata": {
        "id": "dRFTMgKPSs7t"
      },
      "source": [
        "def get_granting_ticket():\n",
        "     params = {'apikey': apikey}\n",
        "     h = {\"Content-type\": \"application/x-www-form-urlencoded\", \"Accept\": \"text/plain\", \"User-Agent\":\"python\" }\n",
        "     r = requests.post(\"https://utslogin.nlm.nih.gov/cas/v1/api-key\",data=params,headers=h)\n",
        "     response = fromstring(r.text)\n",
        "     tgt = response.xpath('//form/@action')[0]\n",
        "     return tgt"
      ],
      "execution_count": null,
      "outputs": []
    },
    {
      "cell_type": "code",
      "metadata": {
        "id": "SSDOLkF3Suc8"
      },
      "source": [
        "def get_single_ticket(tgt):\n",
        "     params = {'service': service}\n",
        "     h = {\"Content-type\": \"application/x-www-form-urlencoded\", \"Accept\": \"text/plain\", \"User-Agent\":\"python\" }\n",
        "     r = requests.post(tgt,data=params,headers=h)\n",
        "     st = r.text\n",
        "     return st"
      ],
      "execution_count": null,
      "outputs": []
    },
    {
      "cell_type": "code",
      "metadata": {
        "id": "JF8pVM-yJj9g"
      },
      "source": [
        "cache = {} \n",
        "\n",
        "def umls_cache(keyword,query):\n",
        "  if keyword in cache.keys():\n",
        "    print(\"Fetching from cache ....\")\n",
        "    return cache[keyword]\n",
        "  else:\n",
        "    return get_umls(keyword, query)\n",
        "\n",
        "\n",
        "def get_umls(keyword, query):\n",
        "  version = \"2021AA\"\n",
        "  print(\"Making a Query....\")\n",
        "  r = requests.get(\"https://uts-ws.nlm.nih.gov/rest/search/\"+version,params=query)\n",
        "  r.encoding = 'utf-8'\n",
        "  items  = json.loads(r.text)\n",
        "  umls = False\n",
        "  try:\n",
        "    if items[\"result\"][\"results\"][0][\"ui\"] != \"NONE\":\n",
        "      umls = True\n",
        "    else:\n",
        "      umls = False \n",
        "  except:\n",
        "    umls = False\n",
        "\n",
        "  cache[keyword] = umls\n",
        "  return umls\n",
        "\n"
      ],
      "execution_count": null,
      "outputs": []
    },
    {
      "cell_type": "code",
      "metadata": {
        "id": "weqxh3wvSxBK"
      },
      "source": [
        "tgt = get_granting_ticket()\n",
        "\n",
        "def term_type(string,tgt):\n",
        "  ##generate a new service ticket for each page if needed\n",
        "  ticket = get_single_ticket(tgt)\n",
        "  query = {'string':string,'ticket':ticket}\n",
        "  return umls_cache(string,query)"
      ],
      "execution_count": null,
      "outputs": []
    },
    {
      "cell_type": "code",
      "metadata": {
        "colab": {
          "base_uri": "https://localhost:8080/"
        },
        "id": "Ib2GroBSUPpq",
        "outputId": "81bb8ee8-0f38-4e42-9b01-465a9b9320ea"
      },
      "source": [
        "umls_list = []\n",
        "for article in bigram_words[:10]:\n",
        "  print (\"-----------\")\n",
        "  article_umls_list =[]\n",
        "  for word in article:\n",
        "    umls = term_type(word,tgt)\n",
        "    if umls is True:\n",
        "      article_umls_list.append(word)\n",
        "  umls_list.append(article_umls_list)\n",
        "\n",
        "print(umls_list[0])\n",
        "#40mins for 10 articles"
      ],
      "execution_count": null,
      "outputs": [
        {
          "output_type": "stream",
          "text": [
            "-----------\n",
            "-----------\n",
            "-----------\n",
            "-----------\n",
            "-----------\n",
            "-----------\n",
            "-----------\n",
            "-----------\n",
            "-----------\n",
            "-----------\n",
            "['cheese', 'addict', 'discover', 'recently', 'shake', 'core', 'barely', 'look', 'face', 'half', 'eat', 'lie', 'yellow', 'cheese', 'dream', 'lifetime', 'devotion', 'possibly', 'cheese', 'foe', 'friend', 'addict', 'good', 'body', 'cheese', 'toast', 'question', 'begin', 'surface', 'couple', 'month', 'ago', 'begin', 'make', 'episode', 'new', 'podcast', 'bbc', 'all', 'hail', 'kale', 'look', 'dairy', 'scary', 'time', 'increasingly', 'question', 'logic', 'adult', 'drink', 'milk', 'while', 'milk', 'dairy', 'product', 'cheese', 'yoghurt', 'good', 'source', 'protein', 'calcium', 'form', 'healthy', 'balance', 'diet', 'michael', 'org', 'animal', 'planet', 'drink', 'milk', 'weaning', 'drink', 'milk', 'species', 'sense', 'reel', 'series', 'study', 'show', 'life', 'shortening', 'potential', 'drink', 'hormonal', 'stew', 'assume', 'cheese', 'mature', 'benign', 'beneficial', 'form', 'dairy', 'fit', 'mental', 'picture', 'long', 'live', 'greek', 'italian', 'liberally', 'sprinkle', 'feta', 'reality', 'low', 'moderate', 'cheese', 'figure', 'unilaterally', 'decide', 'childhood', 'diagnosis', 'lactose', 'intolerance', 'way', 'impede', 'mainlining', 'india', 'ski', 'spending', 'time', 'fork', 'bread', 'fondue', 'bother', 'slope', 'perhaps', 'sense', 'denial', 'cum', 'delusion', 'stem', 'actual', 'addiction', 'one', 'doctor', 'support', 'professor', 'speak', 'refer', 'cheese', 'dairy', 'crack', 'apparently', 'contain', 'addictive', 'opiate', 'like', 'chemical', 'suggest', 'step', 'programme', 'cheese', 'step', 'one', 'know', 'want', 'break', 'away', 'well', 'know', 'want', 'break', 'away', 'pursuit', 'see', 'cheese', 'scary', 'form', 'dairy', 'milk', 'take', 'head', 'sand', 'special', 'turkish', 'cheese', 'apparently', 'ferment', 'contact', 'heavy', 'hitter', 'nutrition', 'agree', 'milk', 'secretion', 'species', 'strange', 'thing', 'latch', 'adult', 'human', 'need', 'drink', 'cheese', 'consensus', 'reach', 'michael', 'take', 'hard', 'line', 'cheese', 'combination', 'sodium', 'concentrate', 'butterfat', 'daily', 'diet', 'make', 'special', 'occasion', 'day', 'day', 'walter', 'professor', 'nutrition', 'harvard', 'school', 'public', 'health', 'take', 'semi', 'hard', 'view', 'cheese', 'growth', 'promote', 'effect', 'milk', 'have', 'brie', 'moderation', 'enjoy', 'say', 'portion', 'dairy', 'day', 'over', 'cornell', 'university', 'nutrition', 'professor', 'david', 'take', 'distinctly', 'softer', 'stance', 'dairy', 'have', 'small', 'cheese', 'plate', 'dinner', 'night', 'enjoy', 'eat', 'mass', 'cheese', 'consensus', 'sort', 'cheese', 'certainly', 'high', 'end', 'spectrum', 'spirit', 'go', 'enam', 'harley', 'street', 'health', 'centre', 'lactose', 'intolerance', 'retest', 'year', 'she', 'confirm', 'intolerance', 'force', 'ignore', 'gut', 'accord', 'ropey', 'gut', 'means', 'probably', 'absorb', 'isn', 'great', 'immune', 'energy', 'level', 'maybe', 'mood', 'damage', 'likely', 'result', 'dairy', 'year', 'recommend', 'consume', 'cheese', 'pop', 'lactase', 'pill', 'give', 'enzyme', 'people', 'like', 'lack', 'able', 'digest', 'dairy', 'properly', 'silver', 'gut', 'line', 'medical', 'travels', 'intestinal', 'expert', 'tell', 'nice', 'piece', 'bacterium', 'rich', 'non', 'process', 'cheese', 'treat', 'gut', 'microbiome', 'have', 'make', 'all', 'hail', 'kale', 'episode', 'role', 'gut', 'mood', 'like', 'excellent', 'rationale', 'cheese', 'table', 'get', 'far', 'step', 'two', 'think', 'change', 'recipe', 'step', 'three', 'think', 'non', 'dairy', 'cheese', 'consider', 'stomach', 'instead', 'think', 'definitive', 'answer', 'nutrition', 'think', 'remember', 'carry', 'lactase', 'enzyme', 'pill', 'think', 'gut', 'want', 'little', 'slice', 'roquefort', 'tomorrow', 'download', 'bbc', 'sound', 'listen', 'all', 'hail', 'kale']\n"
          ],
          "name": "stdout"
        }
      ]
    },
    {
      "cell_type": "markdown",
      "metadata": {
        "id": "h12i4rxC21--"
      },
      "source": [
        "Remove common and rare words"
      ]
    },
    {
      "cell_type": "code",
      "metadata": {
        "id": "muI9C5DN23m3"
      },
      "source": [
        "dictionary = Dictionary (umls_list)"
      ],
      "execution_count": null,
      "outputs": []
    },
    {
      "cell_type": "code",
      "metadata": {
        "id": "mhNuQDmw3g8H"
      },
      "source": [
        "dictionary.filter_extremes(no_below=5, no_above=0.7)"
      ],
      "execution_count": null,
      "outputs": []
    },
    {
      "cell_type": "markdown",
      "metadata": {
        "id": "qUSa110R4XbL"
      },
      "source": [
        "Build bag of words "
      ]
    },
    {
      "cell_type": "code",
      "metadata": {
        "id": "Ad8-zMUl4Y_W"
      },
      "source": [
        "corpus = [dictionary.doc2bow(text) for text in umls_list]"
      ],
      "execution_count": null,
      "outputs": []
    },
    {
      "cell_type": "code",
      "metadata": {
        "colab": {
          "base_uri": "https://localhost:8080/"
        },
        "id": "wkIVZvjH4iie",
        "outputId": "60aee383-c98a-4f49-e990-5018f5ff61f3"
      },
      "source": [
        "print('Number of unique tokens: %d' % len(dictionary))\n",
        "print('Number of documents: %d' % len(corpus))"
      ],
      "execution_count": null,
      "outputs": [
        {
          "output_type": "stream",
          "text": [
            "Number of unique tokens: 35\n",
            "Number of documents: 10\n"
          ],
          "name": "stdout"
        }
      ]
    },
    {
      "cell_type": "code",
      "metadata": {
        "colab": {
          "base_uri": "https://localhost:8080/"
        },
        "id": "kWqvBqa0aQn0",
        "outputId": "309fc94a-8784-40db-e52f-65e576d864a1"
      },
      "source": [
        "# Human readable format of corpus (term-frequency)\n",
        "[[(dictionary[id], freq) for id, freq in cp] for cp in corpus[:1]]"
      ],
      "execution_count": null,
      "outputs": [
        {
          "output_type": "execute_result",
          "data": {
            "text/plain": [
              "[[('bbc', 2),\n",
              "  ('body', 1),\n",
              "  ('carry', 1),\n",
              "  ('day', 3),\n",
              "  ('decide', 1),\n",
              "  ('get', 1),\n",
              "  ('give', 1),\n",
              "  ('go', 1),\n",
              "  ('have', 3),\n",
              "  ('health', 2),\n",
              "  ('know', 2),\n",
              "  ('like', 3),\n",
              "  ('long', 1),\n",
              "  ('look', 2),\n",
              "  ('new', 1),\n",
              "  ('programme', 1),\n",
              "  ('recommend', 1),\n",
              "  ('result', 1),\n",
              "  ('school', 1),\n",
              "  ('see', 1),\n",
              "  ('she', 1),\n",
              "  ('source', 1),\n",
              "  ('tell', 1),\n",
              "  ('think', 5),\n",
              "  ('time', 2),\n",
              "  ('way', 1)]]"
            ]
          },
          "metadata": {
            "tags": []
          },
          "execution_count": 26
        }
      ]
    },
    {
      "cell_type": "markdown",
      "metadata": {
        "id": "vvudJdzRdnKq"
      },
      "source": [
        "# TFIDF"
      ]
    },
    {
      "cell_type": "code",
      "metadata": {
        "colab": {
          "base_uri": "https://localhost:8080/"
        },
        "id": "_7caxXpndpuJ",
        "outputId": "e7853f25-e9a1-43a3-ed4c-494216a06f4d"
      },
      "source": [
        "tfidf =  gensim.models.TfidfModel(corpus)\n",
        "corpus_tfidf = tfidf[corpus]\n",
        "for i in corpus_tfidf[0]:\n",
        "  print(i)"
      ],
      "execution_count": null,
      "outputs": [
        {
          "output_type": "stream",
          "text": [
            "(0, 0.31442445919702755)\n",
            "(1, 0.15721222959851378)\n",
            "(2, 0.11586000419626274)\n",
            "(3, 0.34758001258878823)\n",
            "(4, 0.08089719579214767)\n",
            "(5, 0.15721222959851378)\n",
            "(6, 0.11586000419626274)\n",
            "(7, 0.15721222959851378)\n",
            "(8, 0.34758001258878823)\n",
            "(9, 0.16179439158429534)\n",
            "(10, 0.16179439158429534)\n",
            "(11, 0.242691587376443)\n",
            "(12, 0.08089719579214767)\n",
            "(13, 0.2317200083925255)\n",
            "(14, 0.15721222959851378)\n",
            "(15, 0.15721222959851378)\n",
            "(16, 0.11586000419626274)\n",
            "(17, 0.15721222959851378)\n",
            "(18, 0.11586000419626274)\n",
            "(19, 0.15721222959851378)\n",
            "(20, 0.11586000419626274)\n",
            "(21, 0.15721222959851378)\n",
            "(22, 0.11586000419626274)\n",
            "(23, 0.4044859789607383)\n",
            "(24, 0.16179439158429534)\n",
            "(25, 0.11586000419626274)\n"
          ],
          "name": "stdout"
        }
      ]
    },
    {
      "cell_type": "code",
      "metadata": {
        "colab": {
          "base_uri": "https://localhost:8080/"
        },
        "id": "FsjE-jt0CcVx",
        "outputId": "29ef0157-867a-438a-f25f-0bb63afdd9fd"
      },
      "source": [
        "lda_model_tfidf = gensim.models.LdaMulticore(corpus_tfidf, num_topics=2, id2word=dictionary, passes=2, workers=4)\n",
        "for idx, topic in lda_model_tfidf.print_topics(-1):\n",
        "    print('Topic: {} Word: {}'.format(idx, topic))"
      ],
      "execution_count": null,
      "outputs": [
        {
          "output_type": "stream",
          "text": [
            "Topic: 0 Word: 0.043*\"help\" + 0.042*\"know\" + 0.041*\"result\" + 0.035*\"give\" + 0.033*\"like\" + 0.033*\"new\" + 0.033*\"think\" + 0.031*\"world\" + 0.031*\"day\" + 0.030*\"carry\"\n",
            "Topic: 1 Word: 0.073*\"child\" + 0.045*\"family\" + 0.045*\"parent\" + 0.040*\"day\" + 0.039*\"tell\" + 0.038*\"feel\" + 0.035*\"use\" + 0.034*\"time\" + 0.033*\"when\" + 0.033*\"body\"\n"
          ],
          "name": "stdout"
        },
        {
          "output_type": "stream",
          "text": [
            "/usr/local/lib/python3.7/dist-packages/gensim/models/ldamodel.py:1077: DeprecationWarning: Calling np.sum(generator) is deprecated, and in the future will give a different result. Use np.sum(np.fromiter(generator)) or the python sum builtin instead.\n",
            "  score += np.sum(cnt * logsumexp(Elogthetad + Elogbeta[:, int(id)]) for id, cnt in doc)\n",
            "/usr/local/lib/python3.7/dist-packages/gensim/models/ldamodel.py:1077: DeprecationWarning: Calling np.sum(generator) is deprecated, and in the future will give a different result. Use np.sum(np.fromiter(generator)) or the python sum builtin instead.\n",
            "  score += np.sum(cnt * logsumexp(Elogthetad + Elogbeta[:, int(id)]) for id, cnt in doc)\n",
            "/usr/local/lib/python3.7/dist-packages/gensim/models/ldamodel.py:1077: DeprecationWarning: Calling np.sum(generator) is deprecated, and in the future will give a different result. Use np.sum(np.fromiter(generator)) or the python sum builtin instead.\n",
            "  score += np.sum(cnt * logsumexp(Elogthetad + Elogbeta[:, int(id)]) for id, cnt in doc)\n",
            "/usr/local/lib/python3.7/dist-packages/gensim/models/ldamodel.py:1077: DeprecationWarning: Calling np.sum(generator) is deprecated, and in the future will give a different result. Use np.sum(np.fromiter(generator)) or the python sum builtin instead.\n",
            "  score += np.sum(cnt * logsumexp(Elogthetad + Elogbeta[:, int(id)]) for id, cnt in doc)\n",
            "/usr/local/lib/python3.7/dist-packages/gensim/models/ldamodel.py:1077: DeprecationWarning: Calling np.sum(generator) is deprecated, and in the future will give a different result. Use np.sum(np.fromiter(generator)) or the python sum builtin instead.\n",
            "  score += np.sum(cnt * logsumexp(Elogthetad + Elogbeta[:, int(id)]) for id, cnt in doc)\n",
            "/usr/local/lib/python3.7/dist-packages/gensim/models/ldamodel.py:1077: DeprecationWarning: Calling np.sum(generator) is deprecated, and in the future will give a different result. Use np.sum(np.fromiter(generator)) or the python sum builtin instead.\n",
            "  score += np.sum(cnt * logsumexp(Elogthetad + Elogbeta[:, int(id)]) for id, cnt in doc)\n",
            "/usr/local/lib/python3.7/dist-packages/gensim/models/ldamodel.py:1077: DeprecationWarning: Calling np.sum(generator) is deprecated, and in the future will give a different result. Use np.sum(np.fromiter(generator)) or the python sum builtin instead.\n",
            "  score += np.sum(cnt * logsumexp(Elogthetad + Elogbeta[:, int(id)]) for id, cnt in doc)\n",
            "/usr/local/lib/python3.7/dist-packages/gensim/models/ldamodel.py:1077: DeprecationWarning: Calling np.sum(generator) is deprecated, and in the future will give a different result. Use np.sum(np.fromiter(generator)) or the python sum builtin instead.\n",
            "  score += np.sum(cnt * logsumexp(Elogthetad + Elogbeta[:, int(id)]) for id, cnt in doc)\n",
            "/usr/local/lib/python3.7/dist-packages/gensim/models/ldamodel.py:1077: DeprecationWarning: Calling np.sum(generator) is deprecated, and in the future will give a different result. Use np.sum(np.fromiter(generator)) or the python sum builtin instead.\n",
            "  score += np.sum(cnt * logsumexp(Elogthetad + Elogbeta[:, int(id)]) for id, cnt in doc)\n",
            "/usr/local/lib/python3.7/dist-packages/gensim/models/ldamodel.py:1077: DeprecationWarning: Calling np.sum(generator) is deprecated, and in the future will give a different result. Use np.sum(np.fromiter(generator)) or the python sum builtin instead.\n",
            "  score += np.sum(cnt * logsumexp(Elogthetad + Elogbeta[:, int(id)]) for id, cnt in doc)\n",
            "/usr/local/lib/python3.7/dist-packages/gensim/models/ldamodel.py:1077: DeprecationWarning: Calling np.sum(generator) is deprecated, and in the future will give a different result. Use np.sum(np.fromiter(generator)) or the python sum builtin instead.\n",
            "  score += np.sum(cnt * logsumexp(Elogthetad + Elogbeta[:, int(id)]) for id, cnt in doc)\n",
            "/usr/local/lib/python3.7/dist-packages/gensim/models/ldamodel.py:1077: DeprecationWarning: Calling np.sum(generator) is deprecated, and in the future will give a different result. Use np.sum(np.fromiter(generator)) or the python sum builtin instead.\n",
            "  score += np.sum(cnt * logsumexp(Elogthetad + Elogbeta[:, int(id)]) for id, cnt in doc)\n",
            "/usr/local/lib/python3.7/dist-packages/gensim/models/ldamodel.py:1077: DeprecationWarning: Calling np.sum(generator) is deprecated, and in the future will give a different result. Use np.sum(np.fromiter(generator)) or the python sum builtin instead.\n",
            "  score += np.sum(cnt * logsumexp(Elogthetad + Elogbeta[:, int(id)]) for id, cnt in doc)\n",
            "/usr/local/lib/python3.7/dist-packages/gensim/models/ldamodel.py:1077: DeprecationWarning: Calling np.sum(generator) is deprecated, and in the future will give a different result. Use np.sum(np.fromiter(generator)) or the python sum builtin instead.\n",
            "  score += np.sum(cnt * logsumexp(Elogthetad + Elogbeta[:, int(id)]) for id, cnt in doc)\n",
            "/usr/local/lib/python3.7/dist-packages/gensim/models/ldamodel.py:1077: DeprecationWarning: Calling np.sum(generator) is deprecated, and in the future will give a different result. Use np.sum(np.fromiter(generator)) or the python sum builtin instead.\n",
            "  score += np.sum(cnt * logsumexp(Elogthetad + Elogbeta[:, int(id)]) for id, cnt in doc)\n",
            "/usr/local/lib/python3.7/dist-packages/gensim/models/ldamodel.py:1077: DeprecationWarning: Calling np.sum(generator) is deprecated, and in the future will give a different result. Use np.sum(np.fromiter(generator)) or the python sum builtin instead.\n",
            "  score += np.sum(cnt * logsumexp(Elogthetad + Elogbeta[:, int(id)]) for id, cnt in doc)\n",
            "/usr/local/lib/python3.7/dist-packages/gensim/models/ldamodel.py:1077: DeprecationWarning: Calling np.sum(generator) is deprecated, and in the future will give a different result. Use np.sum(np.fromiter(generator)) or the python sum builtin instead.\n",
            "  score += np.sum(cnt * logsumexp(Elogthetad + Elogbeta[:, int(id)]) for id, cnt in doc)\n",
            "/usr/local/lib/python3.7/dist-packages/gensim/models/ldamodel.py:1077: DeprecationWarning: Calling np.sum(generator) is deprecated, and in the future will give a different result. Use np.sum(np.fromiter(generator)) or the python sum builtin instead.\n",
            "  score += np.sum(cnt * logsumexp(Elogthetad + Elogbeta[:, int(id)]) for id, cnt in doc)\n",
            "/usr/local/lib/python3.7/dist-packages/gensim/models/ldamodel.py:1077: DeprecationWarning: Calling np.sum(generator) is deprecated, and in the future will give a different result. Use np.sum(np.fromiter(generator)) or the python sum builtin instead.\n",
            "  score += np.sum(cnt * logsumexp(Elogthetad + Elogbeta[:, int(id)]) for id, cnt in doc)\n",
            "/usr/local/lib/python3.7/dist-packages/gensim/models/ldamodel.py:1077: DeprecationWarning: Calling np.sum(generator) is deprecated, and in the future will give a different result. Use np.sum(np.fromiter(generator)) or the python sum builtin instead.\n",
            "  score += np.sum(cnt * logsumexp(Elogthetad + Elogbeta[:, int(id)]) for id, cnt in doc)\n"
          ],
          "name": "stderr"
        }
      ]
    },
    {
      "cell_type": "code",
      "metadata": {
        "colab": {
          "base_uri": "https://localhost:8080/"
        },
        "id": "ZGKSWturClJT",
        "outputId": "9fa75c59-d6cf-4d36-f56a-10c0e5ec6786"
      },
      "source": [
        "# Compute Perplexity\n",
        "print('\\nPerplexity: ', lda_model_tfidf.log_perplexity(corpus))  # a measure of how good the model is. lower the better.\n",
        "\n",
        "# Compute Coherence Score\n",
        "coherence_model_ldatfidf = CoherenceModel(model=lda_model_tfidf, texts=umls_list, dictionary=dictionary, coherence='c_v')\n",
        "coherence_ldatfidf = coherence_model_ldatfidf.get_coherence()\n",
        "print('\\nCoherence Score: ', coherence_ldatfidf)"
      ],
      "execution_count": null,
      "outputs": [
        {
          "output_type": "stream",
          "text": [
            "\n",
            "Perplexity:  -3.9304395828283196\n",
            "\n",
            "Coherence Score:  0.2579875689898259\n"
          ],
          "name": "stdout"
        },
        {
          "output_type": "stream",
          "text": [
            "/usr/local/lib/python3.7/dist-packages/gensim/models/ldamodel.py:1077: DeprecationWarning: Calling np.sum(generator) is deprecated, and in the future will give a different result. Use np.sum(np.fromiter(generator)) or the python sum builtin instead.\n",
            "  score += np.sum(cnt * logsumexp(Elogthetad + Elogbeta[:, int(id)]) for id, cnt in doc)\n",
            "/usr/local/lib/python3.7/dist-packages/gensim/models/ldamodel.py:1077: DeprecationWarning: Calling np.sum(generator) is deprecated, and in the future will give a different result. Use np.sum(np.fromiter(generator)) or the python sum builtin instead.\n",
            "  score += np.sum(cnt * logsumexp(Elogthetad + Elogbeta[:, int(id)]) for id, cnt in doc)\n",
            "/usr/local/lib/python3.7/dist-packages/gensim/models/ldamodel.py:1077: DeprecationWarning: Calling np.sum(generator) is deprecated, and in the future will give a different result. Use np.sum(np.fromiter(generator)) or the python sum builtin instead.\n",
            "  score += np.sum(cnt * logsumexp(Elogthetad + Elogbeta[:, int(id)]) for id, cnt in doc)\n",
            "/usr/local/lib/python3.7/dist-packages/gensim/models/ldamodel.py:1077: DeprecationWarning: Calling np.sum(generator) is deprecated, and in the future will give a different result. Use np.sum(np.fromiter(generator)) or the python sum builtin instead.\n",
            "  score += np.sum(cnt * logsumexp(Elogthetad + Elogbeta[:, int(id)]) for id, cnt in doc)\n",
            "/usr/local/lib/python3.7/dist-packages/gensim/models/ldamodel.py:1077: DeprecationWarning: Calling np.sum(generator) is deprecated, and in the future will give a different result. Use np.sum(np.fromiter(generator)) or the python sum builtin instead.\n",
            "  score += np.sum(cnt * logsumexp(Elogthetad + Elogbeta[:, int(id)]) for id, cnt in doc)\n",
            "/usr/local/lib/python3.7/dist-packages/gensim/models/ldamodel.py:1077: DeprecationWarning: Calling np.sum(generator) is deprecated, and in the future will give a different result. Use np.sum(np.fromiter(generator)) or the python sum builtin instead.\n",
            "  score += np.sum(cnt * logsumexp(Elogthetad + Elogbeta[:, int(id)]) for id, cnt in doc)\n",
            "/usr/local/lib/python3.7/dist-packages/gensim/models/ldamodel.py:1077: DeprecationWarning: Calling np.sum(generator) is deprecated, and in the future will give a different result. Use np.sum(np.fromiter(generator)) or the python sum builtin instead.\n",
            "  score += np.sum(cnt * logsumexp(Elogthetad + Elogbeta[:, int(id)]) for id, cnt in doc)\n",
            "/usr/local/lib/python3.7/dist-packages/gensim/models/ldamodel.py:1077: DeprecationWarning: Calling np.sum(generator) is deprecated, and in the future will give a different result. Use np.sum(np.fromiter(generator)) or the python sum builtin instead.\n",
            "  score += np.sum(cnt * logsumexp(Elogthetad + Elogbeta[:, int(id)]) for id, cnt in doc)\n",
            "/usr/local/lib/python3.7/dist-packages/gensim/models/ldamodel.py:1077: DeprecationWarning: Calling np.sum(generator) is deprecated, and in the future will give a different result. Use np.sum(np.fromiter(generator)) or the python sum builtin instead.\n",
            "  score += np.sum(cnt * logsumexp(Elogthetad + Elogbeta[:, int(id)]) for id, cnt in doc)\n",
            "/usr/local/lib/python3.7/dist-packages/gensim/models/ldamodel.py:1077: DeprecationWarning: Calling np.sum(generator) is deprecated, and in the future will give a different result. Use np.sum(np.fromiter(generator)) or the python sum builtin instead.\n",
            "  score += np.sum(cnt * logsumexp(Elogthetad + Elogbeta[:, int(id)]) for id, cnt in doc)\n"
          ],
          "name": "stderr"
        }
      ]
    },
    {
      "cell_type": "code",
      "metadata": {
        "colab": {
          "base_uri": "https://localhost:8080/",
          "height": 915
        },
        "id": "8joSRkzhwsZq",
        "outputId": "45e1bc7a-ff58-4730-a79d-6385b1182750"
      },
      "source": [
        "pyLDAvis.enable_notebook()\n",
        "pyLDAvis.gensim_models.prepare(lda_model_tfidf, corpus, dictionary)"
      ],
      "execution_count": null,
      "outputs": [
        {
          "output_type": "stream",
          "text": [
            "/usr/local/lib/python3.7/dist-packages/pyLDAvis/_prepare.py:247: FutureWarning: In a future version of pandas all arguments of DataFrame.drop except for the argument 'labels' will be keyword-only\n",
            "  by='saliency', ascending=False).head(R).drop('saliency', 1)\n"
          ],
          "name": "stderr"
        },
        {
          "output_type": "execute_result",
          "data": {
            "text/html": [
              "\n",
              "<link rel=\"stylesheet\" type=\"text/css\" href=\"https://cdn.jsdelivr.net/gh/bmabey/pyLDAvis@3.3.1/pyLDAvis/js/ldavis.v1.0.0.css\">\n",
              "\n",
              "\n",
              "<div id=\"ldavis_el2021403404882308646727342797\"></div>\n",
              "<script type=\"text/javascript\">\n",
              "\n",
              "var ldavis_el2021403404882308646727342797_data = {\"mdsDat\": {\"x\": [0.010446980348997338, -0.010446980348997338], \"y\": [0.0, 0.0], \"topics\": [1, 2], \"cluster\": [1, 1], \"Freq\": [86.4703758496945, 13.529624150305498]}, \"tinfo\": {\"Term\": [\"help\", \"know\", \"result\", \"give\", \"new\", \"like\", \"think\", \"world\", \"carry\", \"way\", \"source\", \"have\", \"see\", \"health\", \"come\", \"bbc\", \"use\", \"body\", \"look\", \"day\", \"she\", \"time\", \"decide\", \"get\", \"programme\", \"long\", \"go\", \"school\", \"recommend\", \"parent\", \"child\", \"family\", \"feel\", \"tell\", \"parent\", \"when\", \"day\", \"recommend\", \"time\", \"school\", \"go\", \"use\", \"body\", \"get\", \"look\", \"long\", \"she\", \"programme\", \"see\", \"come\", \"bbc\", \"like\", \"decide\", \"have\", \"health\", \"think\", \"new\", \"give\", \"source\", \"world\", \"know\", \"help\", \"result\", \"help\", \"way\", \"know\", \"carry\", \"world\", \"source\", \"give\", \"new\", \"think\", \"health\", \"have\", \"decide\", \"like\", \"bbc\", \"come\", \"see\", \"programme\", \"she\", \"long\", \"look\", \"get\", \"body\", \"use\", \"go\", \"school\", \"time\", \"recommend\", \"day\", \"when\", \"parent\", \"child\", \"family\"], \"Freq\": [12.0, 15.0, 11.0, 14.0, 13.0, 14.0, 13.0, 11.0, 10.0, 10.0, 12.0, 12.0, 13.0, 11.0, 12.0, 11.0, 18.0, 17.0, 14.0, 20.0, 13.0, 17.0, 10.0, 13.0, 10.0, 11.0, 13.0, 14.0, 14.0, 22.0, 33.2414735820066, 20.576177842114095, 17.14388036646353, 17.873339953426594, 20.54493866267688, 15.17857931541407, 18.139924943170712, 12.72132964671229, 15.737530504784667, 12.450746851596191, 12.065271161060952, 16.054784977548007, 15.052743267574881, 11.640531766202303, 12.251604098615516, 10.236786728572444, 11.413749644492686, 9.121551254244467, 11.694103718852364, 10.895415171218916, 9.909478638470757, 12.246582392442033, 8.372415593490397, 10.295382938643835, 9.970922891552307, 11.363949286572414, 11.41939640638802, 11.966167088134092, 10.085843850697733, 9.614056043926835, 12.04792862863151, 9.32232170334979, 2.956921560957158, 3.103284863864622, 2.1377706604586115, 3.019797262542901, 2.161477152735613, 2.233951453544461, 2.1605076725251866, 2.46476332209971, 2.349129587915381, 2.3355238659175024, 2.015971559056314, 2.0633446254023666, 1.6436095920475895, 2.369029346821521, 1.90052198087133, 2.0304665256666383, 2.10575412871115, 1.638241790624474, 1.8812488047693208, 1.6670981309091808, 1.9428460592150993, 1.7459820983686543, 2.0960054370261507, 2.142135450376622, 1.6067903676408994, 1.6197339796295704, 2.029556390525365, 1.605477723902791, 2.190814640486818, 1.5318440652743652, 1.8091746174648313, 2.1359011577195925, 1.7135812873393215], \"Total\": [12.0, 15.0, 11.0, 14.0, 13.0, 14.0, 13.0, 11.0, 10.0, 10.0, 12.0, 12.0, 13.0, 11.0, 12.0, 11.0, 18.0, 17.0, 14.0, 20.0, 13.0, 17.0, 10.0, 13.0, 10.0, 11.0, 13.0, 14.0, 14.0, 22.0, 35.37737473972619, 22.289759129453415, 18.61795546649527, 19.427417662165276, 22.35411328014171, 16.710423380688436, 20.33073958365753, 14.32680737061508, 17.767086895310033, 14.070480831225762, 13.672061528701851, 18.196920427924628, 17.148748704601033, 13.386513864570958, 14.194450157830616, 11.903884859481625, 13.294998449262007, 10.75979304486894, 13.799857847563514, 12.925881696885554, 11.810000619342087, 14.615611739263553, 10.016025185537986, 12.358727564046202, 11.986894450608622, 13.699473152489915, 13.768525994303399, 14.430930410233803, 12.24635152322292, 11.848007497471297, 15.067725891174412, 12.425606567214412, 11.636374730010518, 12.425606567214412, 10.579313164705624, 15.067725891174412, 10.955145435697482, 11.848007497471297, 12.24635152322292, 14.430930410233803, 13.768525994303399, 13.699473152489915, 11.986894450608622, 12.358727564046202, 10.016025185537986, 14.615611739263553, 11.810000619342087, 12.925881696885554, 13.799857847563514, 10.75979304486894, 13.294998449262007, 11.903884859481625, 14.194450157830616, 13.386513864570958, 17.148748704601033, 18.196920427924628, 13.672061528701851, 14.070480831225762, 17.767086895310033, 14.32680737061508, 20.33073958365753, 16.710423380688436, 22.35411328014171, 35.37737473972619, 22.289759129453415], \"Category\": [\"Default\", \"Default\", \"Default\", \"Default\", \"Default\", \"Default\", \"Default\", \"Default\", \"Default\", \"Default\", \"Default\", \"Default\", \"Default\", \"Default\", \"Default\", \"Default\", \"Default\", \"Default\", \"Default\", \"Default\", \"Default\", \"Default\", \"Default\", \"Default\", \"Default\", \"Default\", \"Default\", \"Default\", \"Default\", \"Default\", \"Topic1\", \"Topic1\", \"Topic1\", \"Topic1\", \"Topic1\", \"Topic1\", \"Topic1\", \"Topic1\", \"Topic1\", \"Topic1\", \"Topic1\", \"Topic1\", \"Topic1\", \"Topic1\", \"Topic1\", \"Topic1\", \"Topic1\", \"Topic1\", \"Topic1\", \"Topic1\", \"Topic1\", \"Topic1\", \"Topic1\", \"Topic1\", \"Topic1\", \"Topic1\", \"Topic1\", \"Topic1\", \"Topic1\", \"Topic1\", \"Topic1\", \"Topic1\", \"Topic2\", \"Topic2\", \"Topic2\", \"Topic2\", \"Topic2\", \"Topic2\", \"Topic2\", \"Topic2\", \"Topic2\", \"Topic2\", \"Topic2\", \"Topic2\", \"Topic2\", \"Topic2\", \"Topic2\", \"Topic2\", \"Topic2\", \"Topic2\", \"Topic2\", \"Topic2\", \"Topic2\", \"Topic2\", \"Topic2\", \"Topic2\", \"Topic2\", \"Topic2\", \"Topic2\", \"Topic2\", \"Topic2\", \"Topic2\", \"Topic2\", \"Topic2\", \"Topic2\"], \"logprob\": [30.0, 29.0, 28.0, 27.0, 26.0, 25.0, 24.0, 23.0, 22.0, 21.0, 20.0, 19.0, 18.0, 17.0, 16.0, 15.0, 14.0, 13.0, 12.0, 11.0, 10.0, 9.0, 8.0, 7.0, 6.0, 5.0, 4.0, 3.0, 2.0, 1.0, -2.6199, -3.0996, -3.2821, -3.2404, -3.1011, -3.4038, -3.2256, -3.5804, -3.3677, -3.6019, -3.6334, -3.3477, -3.4122, -3.6692, -3.6181, -3.7977, -3.6889, -3.9131, -3.6646, -3.7354, -3.8302, -3.6185, -3.9988, -3.792, -3.8241, -3.6933, -3.6884, -3.6416, -3.8126, -3.8605, -3.6348, -3.8913, -3.1847, -3.1363, -3.509, -3.1636, -3.498, -3.465, -3.4985, -3.3667, -3.4148, -3.4206, -3.5677, -3.5445, -3.7719, -3.4063, -3.6267, -3.5605, -3.5241, -3.7752, -3.6369, -3.7577, -3.6047, -3.7115, -3.5288, -3.507, -3.7946, -3.7865, -3.561, -3.7954, -3.4845, -3.8423, -3.6759, -3.5099, -3.7302], \"loglift\": [30.0, 29.0, 28.0, 27.0, 26.0, 25.0, 24.0, 23.0, 22.0, 21.0, 20.0, 19.0, 18.0, 17.0, 16.0, 15.0, 14.0, 13.0, 12.0, 11.0, 10.0, 9.0, 8.0, 7.0, 6.0, 5.0, 4.0, 3.0, 2.0, 1.0, 0.0831, 0.0654, 0.0629, 0.062, 0.061, 0.0492, 0.0313, 0.0265, 0.0241, 0.0231, 0.0203, 0.0201, 0.015, 0.0056, -0.0018, -0.0055, -0.0072, -0.0198, -0.0202, -0.0255, -0.0301, -0.0315, -0.0339, -0.0373, -0.0388, -0.0415, -0.0417, -0.0419, -0.0487, -0.0636, -0.0783, -0.142, 0.6303, 0.613, 0.4012, 0.3929, 0.3773, 0.3319, 0.2654, 0.233, 0.2319, 0.2312, 0.2176, 0.2103, 0.193, 0.1807, 0.1735, 0.1493, 0.1203, 0.1181, 0.0448, 0.0345, 0.0116, -0.0366, -0.1016, -0.1392, -0.1408, -0.1615, -0.1692, -0.1884, -0.2276, -0.3893, -0.5139, -0.8069, -0.5653]}, \"token.table\": {\"Topic\": [1, 2, 1, 2, 1, 2, 1, 2, 1, 2, 1, 2, 1, 2, 1, 2, 1, 2, 1, 2, 1, 2, 1, 2, 1, 2, 1, 2, 1, 2, 1, 2, 1, 2, 1, 2, 1, 2, 1, 2, 1, 2, 1, 2, 1, 2, 1, 2, 1, 2, 1, 2, 1, 2, 1, 2, 1, 2, 1, 2, 1, 2, 1, 2, 1, 2, 1, 2, 1, 2], \"Freq\": [0.8467400063995154, 0.16934800127990307, 0.8746993881819191, 0.11662658509092254, 0.8215317681382289, 0.18256261514182864, 0.9327995715562077, 0.056533307367042894, 0.8510057772422914, 0.15472832313496207, 0.885358839305037, 0.09837320436722632, 0.7987200363225025, 0.19968000908062564, 0.9421366950641856, 0.08972730429182721, 0.9130970385332089, 0.05371159050195347, 0.8964245748670581, 0.14940409581117636, 0.8315472155204983, 0.1385912025867497, 0.8777023110090837, 0.14628371850151395, 0.8091447884239983, 0.16182895768479966, 0.8342444359716757, 0.16684888719433516, 0.7243107168503913, 0.24143690561679707, 0.7964041877765201, 0.19910104694413003, 0.8210398725742732, 0.13683997876237888, 0.8400618888744416, 0.1680123777748883, 0.8454008338871788, 0.14090013898119647, 0.798923574284651, 0.14525883168811837, 0.939424424347682, 0.08946899279501733, 0.8364473147828676, 0.18587718106285947, 0.90738987854779, 0.13959844285350614, 0.7734367626361123, 0.2578122542120374, 0.8528493193615054, 0.14214155322691757, 0.8695741747889603, 0.1449290291314934, 0.8273788103082178, 0.15043251096513052, 0.8165697335273177, 0.16331394670546354, 0.9265256099916378, 0.10294728999907087, 0.8029505863151184, 0.14599101569365788, 0.9005415515935542, 0.11256769394919428, 0.8792696579277625, 0.10990870724097031, 0.7561927580222647, 0.18904818950556618, 0.8976433246649451, 0.11968577662199269, 0.8440237737977703, 0.16880475475955406], \"Term\": [\"bbc\", \"bbc\", \"body\", \"body\", \"carry\", \"carry\", \"child\", \"child\", \"come\", \"come\", \"day\", \"day\", \"decide\", \"decide\", \"family\", \"family\", \"feel\", \"feel\", \"get\", \"get\", \"give\", \"give\", \"go\", \"go\", \"have\", \"have\", \"health\", \"health\", \"help\", \"help\", \"know\", \"know\", \"like\", \"like\", \"long\", \"long\", \"look\", \"look\", \"new\", \"new\", \"parent\", \"parent\", \"programme\", \"programme\", \"recommend\", \"recommend\", \"result\", \"result\", \"school\", \"school\", \"see\", \"see\", \"she\", \"she\", \"source\", \"source\", \"tell\", \"tell\", \"think\", \"think\", \"time\", \"time\", \"use\", \"use\", \"way\", \"way\", \"when\", \"when\", \"world\", \"world\"]}, \"R\": 30, \"lambda.step\": 0.01, \"plot.opts\": {\"xlab\": \"PC1\", \"ylab\": \"PC2\"}, \"topic.order\": [2, 1]};\n",
              "\n",
              "function LDAvis_load_lib(url, callback){\n",
              "  var s = document.createElement('script');\n",
              "  s.src = url;\n",
              "  s.async = true;\n",
              "  s.onreadystatechange = s.onload = callback;\n",
              "  s.onerror = function(){console.warn(\"failed to load library \" + url);};\n",
              "  document.getElementsByTagName(\"head\")[0].appendChild(s);\n",
              "}\n",
              "\n",
              "if(typeof(LDAvis) !== \"undefined\"){\n",
              "   // already loaded: just create the visualization\n",
              "   !function(LDAvis){\n",
              "       new LDAvis(\"#\" + \"ldavis_el2021403404882308646727342797\", ldavis_el2021403404882308646727342797_data);\n",
              "   }(LDAvis);\n",
              "}else if(typeof define === \"function\" && define.amd){\n",
              "   // require.js is available: use it to load d3/LDAvis\n",
              "   require.config({paths: {d3: \"https://d3js.org/d3.v5\"}});\n",
              "   require([\"d3\"], function(d3){\n",
              "      window.d3 = d3;\n",
              "      LDAvis_load_lib(\"https://cdn.jsdelivr.net/gh/bmabey/pyLDAvis@3.3.1/pyLDAvis/js/ldavis.v3.0.0.js\", function(){\n",
              "        new LDAvis(\"#\" + \"ldavis_el2021403404882308646727342797\", ldavis_el2021403404882308646727342797_data);\n",
              "      });\n",
              "    });\n",
              "}else{\n",
              "    // require.js not available: dynamically load d3 & LDAvis\n",
              "    LDAvis_load_lib(\"https://d3js.org/d3.v5.js\", function(){\n",
              "         LDAvis_load_lib(\"https://cdn.jsdelivr.net/gh/bmabey/pyLDAvis@3.3.1/pyLDAvis/js/ldavis.v3.0.0.js\", function(){\n",
              "                 new LDAvis(\"#\" + \"ldavis_el2021403404882308646727342797\", ldavis_el2021403404882308646727342797_data);\n",
              "            })\n",
              "         });\n",
              "}\n",
              "</script>"
            ],
            "text/plain": [
              "PreparedData(topic_coordinates=              x    y  topics  cluster       Freq\n",
              "topic                                           \n",
              "1      0.010447  0.0       1        1  86.470376\n",
              "0     -0.010447  0.0       2        1  13.529624, topic_info=      Term       Freq      Total Category  logprob  loglift\n",
              "29    help  12.000000  12.000000  Default  30.0000  30.0000\n",
              "10    know  15.000000  15.000000  Default  29.0000  29.0000\n",
              "17  result  11.000000  11.000000  Default  28.0000  28.0000\n",
              "6     give  14.000000  14.000000  Default  27.0000  27.0000\n",
              "14     new  13.000000  13.000000  Default  26.0000  26.0000\n",
              "..     ...        ...        ...      ...      ...      ...\n",
              "3      day   2.190815  20.330740   Topic2  -3.4845  -0.2276\n",
              "31    when   1.531844  16.710423   Topic2  -3.8423  -0.3893\n",
              "30  parent   1.809175  22.354113   Topic2  -3.6759  -0.5139\n",
              "26   child   2.135901  35.377375   Topic2  -3.5099  -0.8069\n",
              "28  family   1.713581  22.289759   Topic2  -3.7302  -0.5653\n",
              "\n",
              "[95 rows x 6 columns], token_table=      Topic      Freq   Term\n",
              "term                        \n",
              "0         1  0.846740    bbc\n",
              "0         2  0.169348    bbc\n",
              "1         1  0.874699   body\n",
              "1         2  0.116627   body\n",
              "2         1  0.821532  carry\n",
              "...     ...       ...    ...\n",
              "25        2  0.189048    way\n",
              "31        1  0.897643   when\n",
              "31        2  0.119686   when\n",
              "32        1  0.844024  world\n",
              "32        2  0.168805  world\n",
              "\n",
              "[70 rows x 3 columns], R=30, lambda_step=0.01, plot_opts={'xlab': 'PC1', 'ylab': 'PC2'}, topic_order=[2, 1])"
            ]
          },
          "metadata": {
            "tags": []
          },
          "execution_count": 33
        }
      ]
    },
    {
      "cell_type": "markdown",
      "metadata": {
        "id": "f1nPpmyOfgaD"
      },
      "source": [
        "## Find optimal number of topics "
      ]
    },
    {
      "cell_type": "code",
      "metadata": {
        "colab": {
          "base_uri": "https://localhost:8080/"
        },
        "id": "jBI2mefqfje3",
        "outputId": "98897d6a-bcee-4d6d-9cb9-133c98294330"
      },
      "source": [
        "coherence_values = []\n",
        "model_list = []\n",
        "for num_topics in range(2, 6, 1):\n",
        "    model = gensim.models.LdaMulticore(corpus_tfidf, num_topics=num_topics, id2word=dictionary, workers=2, passes=2, iterations = 100)\n",
        "    model_list.append(model)\n",
        "    coherencemodel = CoherenceModel(model=model, texts=umls_list, dictionary=dictionary, coherence='c_v')\n",
        "    coherence_values.append(coherencemodel.get_coherence())"
      ],
      "execution_count": null,
      "outputs": [
        {
          "output_type": "stream",
          "text": [
            "/usr/local/lib/python3.7/dist-packages/gensim/models/ldamodel.py:1077: DeprecationWarning: Calling np.sum(generator) is deprecated, and in the future will give a different result. Use np.sum(np.fromiter(generator)) or the python sum builtin instead.\n",
            "  score += np.sum(cnt * logsumexp(Elogthetad + Elogbeta[:, int(id)]) for id, cnt in doc)\n",
            "/usr/local/lib/python3.7/dist-packages/gensim/models/ldamodel.py:1077: DeprecationWarning: Calling np.sum(generator) is deprecated, and in the future will give a different result. Use np.sum(np.fromiter(generator)) or the python sum builtin instead.\n",
            "  score += np.sum(cnt * logsumexp(Elogthetad + Elogbeta[:, int(id)]) for id, cnt in doc)\n",
            "/usr/local/lib/python3.7/dist-packages/gensim/models/ldamodel.py:1077: DeprecationWarning: Calling np.sum(generator) is deprecated, and in the future will give a different result. Use np.sum(np.fromiter(generator)) or the python sum builtin instead.\n",
            "  score += np.sum(cnt * logsumexp(Elogthetad + Elogbeta[:, int(id)]) for id, cnt in doc)\n",
            "/usr/local/lib/python3.7/dist-packages/gensim/models/ldamodel.py:1077: DeprecationWarning: Calling np.sum(generator) is deprecated, and in the future will give a different result. Use np.sum(np.fromiter(generator)) or the python sum builtin instead.\n",
            "  score += np.sum(cnt * logsumexp(Elogthetad + Elogbeta[:, int(id)]) for id, cnt in doc)\n",
            "/usr/local/lib/python3.7/dist-packages/gensim/models/ldamodel.py:1077: DeprecationWarning: Calling np.sum(generator) is deprecated, and in the future will give a different result. Use np.sum(np.fromiter(generator)) or the python sum builtin instead.\n",
            "  score += np.sum(cnt * logsumexp(Elogthetad + Elogbeta[:, int(id)]) for id, cnt in doc)\n",
            "/usr/local/lib/python3.7/dist-packages/gensim/models/ldamodel.py:1077: DeprecationWarning: Calling np.sum(generator) is deprecated, and in the future will give a different result. Use np.sum(np.fromiter(generator)) or the python sum builtin instead.\n",
            "  score += np.sum(cnt * logsumexp(Elogthetad + Elogbeta[:, int(id)]) for id, cnt in doc)\n",
            "/usr/local/lib/python3.7/dist-packages/gensim/models/ldamodel.py:1077: DeprecationWarning: Calling np.sum(generator) is deprecated, and in the future will give a different result. Use np.sum(np.fromiter(generator)) or the python sum builtin instead.\n",
            "  score += np.sum(cnt * logsumexp(Elogthetad + Elogbeta[:, int(id)]) for id, cnt in doc)\n",
            "/usr/local/lib/python3.7/dist-packages/gensim/models/ldamodel.py:1077: DeprecationWarning: Calling np.sum(generator) is deprecated, and in the future will give a different result. Use np.sum(np.fromiter(generator)) or the python sum builtin instead.\n",
            "  score += np.sum(cnt * logsumexp(Elogthetad + Elogbeta[:, int(id)]) for id, cnt in doc)\n",
            "/usr/local/lib/python3.7/dist-packages/gensim/models/ldamodel.py:1077: DeprecationWarning: Calling np.sum(generator) is deprecated, and in the future will give a different result. Use np.sum(np.fromiter(generator)) or the python sum builtin instead.\n",
            "  score += np.sum(cnt * logsumexp(Elogthetad + Elogbeta[:, int(id)]) for id, cnt in doc)\n",
            "/usr/local/lib/python3.7/dist-packages/gensim/models/ldamodel.py:1077: DeprecationWarning: Calling np.sum(generator) is deprecated, and in the future will give a different result. Use np.sum(np.fromiter(generator)) or the python sum builtin instead.\n",
            "  score += np.sum(cnt * logsumexp(Elogthetad + Elogbeta[:, int(id)]) for id, cnt in doc)\n",
            "/usr/local/lib/python3.7/dist-packages/gensim/models/ldamodel.py:1077: DeprecationWarning: Calling np.sum(generator) is deprecated, and in the future will give a different result. Use np.sum(np.fromiter(generator)) or the python sum builtin instead.\n",
            "  score += np.sum(cnt * logsumexp(Elogthetad + Elogbeta[:, int(id)]) for id, cnt in doc)\n",
            "/usr/local/lib/python3.7/dist-packages/gensim/models/ldamodel.py:1077: DeprecationWarning: Calling np.sum(generator) is deprecated, and in the future will give a different result. Use np.sum(np.fromiter(generator)) or the python sum builtin instead.\n",
            "  score += np.sum(cnt * logsumexp(Elogthetad + Elogbeta[:, int(id)]) for id, cnt in doc)\n",
            "/usr/local/lib/python3.7/dist-packages/gensim/models/ldamodel.py:1077: DeprecationWarning: Calling np.sum(generator) is deprecated, and in the future will give a different result. Use np.sum(np.fromiter(generator)) or the python sum builtin instead.\n",
            "  score += np.sum(cnt * logsumexp(Elogthetad + Elogbeta[:, int(id)]) for id, cnt in doc)\n",
            "/usr/local/lib/python3.7/dist-packages/gensim/models/ldamodel.py:1077: DeprecationWarning: Calling np.sum(generator) is deprecated, and in the future will give a different result. Use np.sum(np.fromiter(generator)) or the python sum builtin instead.\n",
            "  score += np.sum(cnt * logsumexp(Elogthetad + Elogbeta[:, int(id)]) for id, cnt in doc)\n",
            "/usr/local/lib/python3.7/dist-packages/gensim/models/ldamodel.py:1077: DeprecationWarning: Calling np.sum(generator) is deprecated, and in the future will give a different result. Use np.sum(np.fromiter(generator)) or the python sum builtin instead.\n",
            "  score += np.sum(cnt * logsumexp(Elogthetad + Elogbeta[:, int(id)]) for id, cnt in doc)\n",
            "/usr/local/lib/python3.7/dist-packages/gensim/models/ldamodel.py:1077: DeprecationWarning: Calling np.sum(generator) is deprecated, and in the future will give a different result. Use np.sum(np.fromiter(generator)) or the python sum builtin instead.\n",
            "  score += np.sum(cnt * logsumexp(Elogthetad + Elogbeta[:, int(id)]) for id, cnt in doc)\n",
            "/usr/local/lib/python3.7/dist-packages/gensim/models/ldamodel.py:1077: DeprecationWarning: Calling np.sum(generator) is deprecated, and in the future will give a different result. Use np.sum(np.fromiter(generator)) or the python sum builtin instead.\n",
            "  score += np.sum(cnt * logsumexp(Elogthetad + Elogbeta[:, int(id)]) for id, cnt in doc)\n",
            "/usr/local/lib/python3.7/dist-packages/gensim/models/ldamodel.py:1077: DeprecationWarning: Calling np.sum(generator) is deprecated, and in the future will give a different result. Use np.sum(np.fromiter(generator)) or the python sum builtin instead.\n",
            "  score += np.sum(cnt * logsumexp(Elogthetad + Elogbeta[:, int(id)]) for id, cnt in doc)\n",
            "/usr/local/lib/python3.7/dist-packages/gensim/models/ldamodel.py:1077: DeprecationWarning: Calling np.sum(generator) is deprecated, and in the future will give a different result. Use np.sum(np.fromiter(generator)) or the python sum builtin instead.\n",
            "  score += np.sum(cnt * logsumexp(Elogthetad + Elogbeta[:, int(id)]) for id, cnt in doc)\n",
            "/usr/local/lib/python3.7/dist-packages/gensim/models/ldamodel.py:1077: DeprecationWarning: Calling np.sum(generator) is deprecated, and in the future will give a different result. Use np.sum(np.fromiter(generator)) or the python sum builtin instead.\n",
            "  score += np.sum(cnt * logsumexp(Elogthetad + Elogbeta[:, int(id)]) for id, cnt in doc)\n",
            "/usr/local/lib/python3.7/dist-packages/gensim/models/ldamodel.py:1077: DeprecationWarning: Calling np.sum(generator) is deprecated, and in the future will give a different result. Use np.sum(np.fromiter(generator)) or the python sum builtin instead.\n",
            "  score += np.sum(cnt * logsumexp(Elogthetad + Elogbeta[:, int(id)]) for id, cnt in doc)\n",
            "/usr/local/lib/python3.7/dist-packages/gensim/models/ldamodel.py:1077: DeprecationWarning: Calling np.sum(generator) is deprecated, and in the future will give a different result. Use np.sum(np.fromiter(generator)) or the python sum builtin instead.\n",
            "  score += np.sum(cnt * logsumexp(Elogthetad + Elogbeta[:, int(id)]) for id, cnt in doc)\n",
            "/usr/local/lib/python3.7/dist-packages/gensim/models/ldamodel.py:1077: DeprecationWarning: Calling np.sum(generator) is deprecated, and in the future will give a different result. Use np.sum(np.fromiter(generator)) or the python sum builtin instead.\n",
            "  score += np.sum(cnt * logsumexp(Elogthetad + Elogbeta[:, int(id)]) for id, cnt in doc)\n",
            "/usr/local/lib/python3.7/dist-packages/gensim/models/ldamodel.py:1077: DeprecationWarning: Calling np.sum(generator) is deprecated, and in the future will give a different result. Use np.sum(np.fromiter(generator)) or the python sum builtin instead.\n",
            "  score += np.sum(cnt * logsumexp(Elogthetad + Elogbeta[:, int(id)]) for id, cnt in doc)\n",
            "/usr/local/lib/python3.7/dist-packages/gensim/models/ldamodel.py:1077: DeprecationWarning: Calling np.sum(generator) is deprecated, and in the future will give a different result. Use np.sum(np.fromiter(generator)) or the python sum builtin instead.\n",
            "  score += np.sum(cnt * logsumexp(Elogthetad + Elogbeta[:, int(id)]) for id, cnt in doc)\n",
            "/usr/local/lib/python3.7/dist-packages/gensim/models/ldamodel.py:1077: DeprecationWarning: Calling np.sum(generator) is deprecated, and in the future will give a different result. Use np.sum(np.fromiter(generator)) or the python sum builtin instead.\n",
            "  score += np.sum(cnt * logsumexp(Elogthetad + Elogbeta[:, int(id)]) for id, cnt in doc)\n",
            "/usr/local/lib/python3.7/dist-packages/gensim/models/ldamodel.py:1077: DeprecationWarning: Calling np.sum(generator) is deprecated, and in the future will give a different result. Use np.sum(np.fromiter(generator)) or the python sum builtin instead.\n",
            "  score += np.sum(cnt * logsumexp(Elogthetad + Elogbeta[:, int(id)]) for id, cnt in doc)\n",
            "/usr/local/lib/python3.7/dist-packages/gensim/models/ldamodel.py:1077: DeprecationWarning: Calling np.sum(generator) is deprecated, and in the future will give a different result. Use np.sum(np.fromiter(generator)) or the python sum builtin instead.\n",
            "  score += np.sum(cnt * logsumexp(Elogthetad + Elogbeta[:, int(id)]) for id, cnt in doc)\n",
            "/usr/local/lib/python3.7/dist-packages/gensim/models/ldamodel.py:1077: DeprecationWarning: Calling np.sum(generator) is deprecated, and in the future will give a different result. Use np.sum(np.fromiter(generator)) or the python sum builtin instead.\n",
            "  score += np.sum(cnt * logsumexp(Elogthetad + Elogbeta[:, int(id)]) for id, cnt in doc)\n",
            "/usr/local/lib/python3.7/dist-packages/gensim/models/ldamodel.py:1077: DeprecationWarning: Calling np.sum(generator) is deprecated, and in the future will give a different result. Use np.sum(np.fromiter(generator)) or the python sum builtin instead.\n",
            "  score += np.sum(cnt * logsumexp(Elogthetad + Elogbeta[:, int(id)]) for id, cnt in doc)\n",
            "/usr/local/lib/python3.7/dist-packages/gensim/models/ldamodel.py:1077: DeprecationWarning: Calling np.sum(generator) is deprecated, and in the future will give a different result. Use np.sum(np.fromiter(generator)) or the python sum builtin instead.\n",
            "  score += np.sum(cnt * logsumexp(Elogthetad + Elogbeta[:, int(id)]) for id, cnt in doc)\n",
            "/usr/local/lib/python3.7/dist-packages/gensim/models/ldamodel.py:1077: DeprecationWarning: Calling np.sum(generator) is deprecated, and in the future will give a different result. Use np.sum(np.fromiter(generator)) or the python sum builtin instead.\n",
            "  score += np.sum(cnt * logsumexp(Elogthetad + Elogbeta[:, int(id)]) for id, cnt in doc)\n",
            "/usr/local/lib/python3.7/dist-packages/gensim/models/ldamodel.py:1077: DeprecationWarning: Calling np.sum(generator) is deprecated, and in the future will give a different result. Use np.sum(np.fromiter(generator)) or the python sum builtin instead.\n",
            "  score += np.sum(cnt * logsumexp(Elogthetad + Elogbeta[:, int(id)]) for id, cnt in doc)\n",
            "/usr/local/lib/python3.7/dist-packages/gensim/models/ldamodel.py:1077: DeprecationWarning: Calling np.sum(generator) is deprecated, and in the future will give a different result. Use np.sum(np.fromiter(generator)) or the python sum builtin instead.\n",
            "  score += np.sum(cnt * logsumexp(Elogthetad + Elogbeta[:, int(id)]) for id, cnt in doc)\n",
            "/usr/local/lib/python3.7/dist-packages/gensim/models/ldamodel.py:1077: DeprecationWarning: Calling np.sum(generator) is deprecated, and in the future will give a different result. Use np.sum(np.fromiter(generator)) or the python sum builtin instead.\n",
            "  score += np.sum(cnt * logsumexp(Elogthetad + Elogbeta[:, int(id)]) for id, cnt in doc)\n",
            "/usr/local/lib/python3.7/dist-packages/gensim/models/ldamodel.py:1077: DeprecationWarning: Calling np.sum(generator) is deprecated, and in the future will give a different result. Use np.sum(np.fromiter(generator)) or the python sum builtin instead.\n",
            "  score += np.sum(cnt * logsumexp(Elogthetad + Elogbeta[:, int(id)]) for id, cnt in doc)\n",
            "/usr/local/lib/python3.7/dist-packages/gensim/models/ldamodel.py:1077: DeprecationWarning: Calling np.sum(generator) is deprecated, and in the future will give a different result. Use np.sum(np.fromiter(generator)) or the python sum builtin instead.\n",
            "  score += np.sum(cnt * logsumexp(Elogthetad + Elogbeta[:, int(id)]) for id, cnt in doc)\n",
            "/usr/local/lib/python3.7/dist-packages/gensim/models/ldamodel.py:1077: DeprecationWarning: Calling np.sum(generator) is deprecated, and in the future will give a different result. Use np.sum(np.fromiter(generator)) or the python sum builtin instead.\n",
            "  score += np.sum(cnt * logsumexp(Elogthetad + Elogbeta[:, int(id)]) for id, cnt in doc)\n",
            "/usr/local/lib/python3.7/dist-packages/gensim/models/ldamodel.py:1077: DeprecationWarning: Calling np.sum(generator) is deprecated, and in the future will give a different result. Use np.sum(np.fromiter(generator)) or the python sum builtin instead.\n",
            "  score += np.sum(cnt * logsumexp(Elogthetad + Elogbeta[:, int(id)]) for id, cnt in doc)\n",
            "/usr/local/lib/python3.7/dist-packages/gensim/models/ldamodel.py:1077: DeprecationWarning: Calling np.sum(generator) is deprecated, and in the future will give a different result. Use np.sum(np.fromiter(generator)) or the python sum builtin instead.\n",
            "  score += np.sum(cnt * logsumexp(Elogthetad + Elogbeta[:, int(id)]) for id, cnt in doc)\n",
            "/usr/local/lib/python3.7/dist-packages/gensim/models/ldamodel.py:1077: DeprecationWarning: Calling np.sum(generator) is deprecated, and in the future will give a different result. Use np.sum(np.fromiter(generator)) or the python sum builtin instead.\n",
            "  score += np.sum(cnt * logsumexp(Elogthetad + Elogbeta[:, int(id)]) for id, cnt in doc)\n",
            "/usr/local/lib/python3.7/dist-packages/gensim/models/ldamodel.py:1077: DeprecationWarning: Calling np.sum(generator) is deprecated, and in the future will give a different result. Use np.sum(np.fromiter(generator)) or the python sum builtin instead.\n",
            "  score += np.sum(cnt * logsumexp(Elogthetad + Elogbeta[:, int(id)]) for id, cnt in doc)\n",
            "/usr/local/lib/python3.7/dist-packages/gensim/models/ldamodel.py:1077: DeprecationWarning: Calling np.sum(generator) is deprecated, and in the future will give a different result. Use np.sum(np.fromiter(generator)) or the python sum builtin instead.\n",
            "  score += np.sum(cnt * logsumexp(Elogthetad + Elogbeta[:, int(id)]) for id, cnt in doc)\n",
            "/usr/local/lib/python3.7/dist-packages/gensim/models/ldamodel.py:1077: DeprecationWarning: Calling np.sum(generator) is deprecated, and in the future will give a different result. Use np.sum(np.fromiter(generator)) or the python sum builtin instead.\n",
            "  score += np.sum(cnt * logsumexp(Elogthetad + Elogbeta[:, int(id)]) for id, cnt in doc)\n",
            "/usr/local/lib/python3.7/dist-packages/gensim/models/ldamodel.py:1077: DeprecationWarning: Calling np.sum(generator) is deprecated, and in the future will give a different result. Use np.sum(np.fromiter(generator)) or the python sum builtin instead.\n",
            "  score += np.sum(cnt * logsumexp(Elogthetad + Elogbeta[:, int(id)]) for id, cnt in doc)\n",
            "/usr/local/lib/python3.7/dist-packages/gensim/models/ldamodel.py:1077: DeprecationWarning: Calling np.sum(generator) is deprecated, and in the future will give a different result. Use np.sum(np.fromiter(generator)) or the python sum builtin instead.\n",
            "  score += np.sum(cnt * logsumexp(Elogthetad + Elogbeta[:, int(id)]) for id, cnt in doc)\n",
            "/usr/local/lib/python3.7/dist-packages/gensim/models/ldamodel.py:1077: DeprecationWarning: Calling np.sum(generator) is deprecated, and in the future will give a different result. Use np.sum(np.fromiter(generator)) or the python sum builtin instead.\n",
            "  score += np.sum(cnt * logsumexp(Elogthetad + Elogbeta[:, int(id)]) for id, cnt in doc)\n",
            "/usr/local/lib/python3.7/dist-packages/gensim/models/ldamodel.py:1077: DeprecationWarning: Calling np.sum(generator) is deprecated, and in the future will give a different result. Use np.sum(np.fromiter(generator)) or the python sum builtin instead.\n",
            "  score += np.sum(cnt * logsumexp(Elogthetad + Elogbeta[:, int(id)]) for id, cnt in doc)\n",
            "/usr/local/lib/python3.7/dist-packages/gensim/models/ldamodel.py:1077: DeprecationWarning: Calling np.sum(generator) is deprecated, and in the future will give a different result. Use np.sum(np.fromiter(generator)) or the python sum builtin instead.\n",
            "  score += np.sum(cnt * logsumexp(Elogthetad + Elogbeta[:, int(id)]) for id, cnt in doc)\n",
            "/usr/local/lib/python3.7/dist-packages/gensim/models/ldamodel.py:1077: DeprecationWarning: Calling np.sum(generator) is deprecated, and in the future will give a different result. Use np.sum(np.fromiter(generator)) or the python sum builtin instead.\n",
            "  score += np.sum(cnt * logsumexp(Elogthetad + Elogbeta[:, int(id)]) for id, cnt in doc)\n",
            "/usr/local/lib/python3.7/dist-packages/gensim/models/ldamodel.py:1077: DeprecationWarning: Calling np.sum(generator) is deprecated, and in the future will give a different result. Use np.sum(np.fromiter(generator)) or the python sum builtin instead.\n",
            "  score += np.sum(cnt * logsumexp(Elogthetad + Elogbeta[:, int(id)]) for id, cnt in doc)\n",
            "/usr/local/lib/python3.7/dist-packages/gensim/models/ldamodel.py:1077: DeprecationWarning: Calling np.sum(generator) is deprecated, and in the future will give a different result. Use np.sum(np.fromiter(generator)) or the python sum builtin instead.\n",
            "  score += np.sum(cnt * logsumexp(Elogthetad + Elogbeta[:, int(id)]) for id, cnt in doc)\n",
            "/usr/local/lib/python3.7/dist-packages/gensim/models/ldamodel.py:1077: DeprecationWarning: Calling np.sum(generator) is deprecated, and in the future will give a different result. Use np.sum(np.fromiter(generator)) or the python sum builtin instead.\n",
            "  score += np.sum(cnt * logsumexp(Elogthetad + Elogbeta[:, int(id)]) for id, cnt in doc)\n",
            "/usr/local/lib/python3.7/dist-packages/gensim/models/ldamodel.py:1077: DeprecationWarning: Calling np.sum(generator) is deprecated, and in the future will give a different result. Use np.sum(np.fromiter(generator)) or the python sum builtin instead.\n",
            "  score += np.sum(cnt * logsumexp(Elogthetad + Elogbeta[:, int(id)]) for id, cnt in doc)\n",
            "/usr/local/lib/python3.7/dist-packages/gensim/models/ldamodel.py:1077: DeprecationWarning: Calling np.sum(generator) is deprecated, and in the future will give a different result. Use np.sum(np.fromiter(generator)) or the python sum builtin instead.\n",
            "  score += np.sum(cnt * logsumexp(Elogthetad + Elogbeta[:, int(id)]) for id, cnt in doc)\n",
            "/usr/local/lib/python3.7/dist-packages/gensim/models/ldamodel.py:1077: DeprecationWarning: Calling np.sum(generator) is deprecated, and in the future will give a different result. Use np.sum(np.fromiter(generator)) or the python sum builtin instead.\n",
            "  score += np.sum(cnt * logsumexp(Elogthetad + Elogbeta[:, int(id)]) for id, cnt in doc)\n",
            "/usr/local/lib/python3.7/dist-packages/gensim/models/ldamodel.py:1077: DeprecationWarning: Calling np.sum(generator) is deprecated, and in the future will give a different result. Use np.sum(np.fromiter(generator)) or the python sum builtin instead.\n",
            "  score += np.sum(cnt * logsumexp(Elogthetad + Elogbeta[:, int(id)]) for id, cnt in doc)\n",
            "/usr/local/lib/python3.7/dist-packages/gensim/models/ldamodel.py:1077: DeprecationWarning: Calling np.sum(generator) is deprecated, and in the future will give a different result. Use np.sum(np.fromiter(generator)) or the python sum builtin instead.\n",
            "  score += np.sum(cnt * logsumexp(Elogthetad + Elogbeta[:, int(id)]) for id, cnt in doc)\n",
            "/usr/local/lib/python3.7/dist-packages/gensim/models/ldamodel.py:1077: DeprecationWarning: Calling np.sum(generator) is deprecated, and in the future will give a different result. Use np.sum(np.fromiter(generator)) or the python sum builtin instead.\n",
            "  score += np.sum(cnt * logsumexp(Elogthetad + Elogbeta[:, int(id)]) for id, cnt in doc)\n",
            "/usr/local/lib/python3.7/dist-packages/gensim/models/ldamodel.py:1077: DeprecationWarning: Calling np.sum(generator) is deprecated, and in the future will give a different result. Use np.sum(np.fromiter(generator)) or the python sum builtin instead.\n",
            "  score += np.sum(cnt * logsumexp(Elogthetad + Elogbeta[:, int(id)]) for id, cnt in doc)\n",
            "/usr/local/lib/python3.7/dist-packages/gensim/models/ldamodel.py:1077: DeprecationWarning: Calling np.sum(generator) is deprecated, and in the future will give a different result. Use np.sum(np.fromiter(generator)) or the python sum builtin instead.\n",
            "  score += np.sum(cnt * logsumexp(Elogthetad + Elogbeta[:, int(id)]) for id, cnt in doc)\n",
            "/usr/local/lib/python3.7/dist-packages/gensim/models/ldamodel.py:1077: DeprecationWarning: Calling np.sum(generator) is deprecated, and in the future will give a different result. Use np.sum(np.fromiter(generator)) or the python sum builtin instead.\n",
            "  score += np.sum(cnt * logsumexp(Elogthetad + Elogbeta[:, int(id)]) for id, cnt in doc)\n",
            "/usr/local/lib/python3.7/dist-packages/gensim/models/ldamodel.py:1077: DeprecationWarning: Calling np.sum(generator) is deprecated, and in the future will give a different result. Use np.sum(np.fromiter(generator)) or the python sum builtin instead.\n",
            "  score += np.sum(cnt * logsumexp(Elogthetad + Elogbeta[:, int(id)]) for id, cnt in doc)\n",
            "/usr/local/lib/python3.7/dist-packages/gensim/models/ldamodel.py:1077: DeprecationWarning: Calling np.sum(generator) is deprecated, and in the future will give a different result. Use np.sum(np.fromiter(generator)) or the python sum builtin instead.\n",
            "  score += np.sum(cnt * logsumexp(Elogthetad + Elogbeta[:, int(id)]) for id, cnt in doc)\n",
            "/usr/local/lib/python3.7/dist-packages/gensim/models/ldamodel.py:1077: DeprecationWarning: Calling np.sum(generator) is deprecated, and in the future will give a different result. Use np.sum(np.fromiter(generator)) or the python sum builtin instead.\n",
            "  score += np.sum(cnt * logsumexp(Elogthetad + Elogbeta[:, int(id)]) for id, cnt in doc)\n",
            "/usr/local/lib/python3.7/dist-packages/gensim/models/ldamodel.py:1077: DeprecationWarning: Calling np.sum(generator) is deprecated, and in the future will give a different result. Use np.sum(np.fromiter(generator)) or the python sum builtin instead.\n",
            "  score += np.sum(cnt * logsumexp(Elogthetad + Elogbeta[:, int(id)]) for id, cnt in doc)\n",
            "/usr/local/lib/python3.7/dist-packages/gensim/models/ldamodel.py:1077: DeprecationWarning: Calling np.sum(generator) is deprecated, and in the future will give a different result. Use np.sum(np.fromiter(generator)) or the python sum builtin instead.\n",
            "  score += np.sum(cnt * logsumexp(Elogthetad + Elogbeta[:, int(id)]) for id, cnt in doc)\n",
            "/usr/local/lib/python3.7/dist-packages/gensim/models/ldamodel.py:1077: DeprecationWarning: Calling np.sum(generator) is deprecated, and in the future will give a different result. Use np.sum(np.fromiter(generator)) or the python sum builtin instead.\n",
            "  score += np.sum(cnt * logsumexp(Elogthetad + Elogbeta[:, int(id)]) for id, cnt in doc)\n",
            "/usr/local/lib/python3.7/dist-packages/gensim/models/ldamodel.py:1077: DeprecationWarning: Calling np.sum(generator) is deprecated, and in the future will give a different result. Use np.sum(np.fromiter(generator)) or the python sum builtin instead.\n",
            "  score += np.sum(cnt * logsumexp(Elogthetad + Elogbeta[:, int(id)]) for id, cnt in doc)\n",
            "/usr/local/lib/python3.7/dist-packages/gensim/models/ldamodel.py:1077: DeprecationWarning: Calling np.sum(generator) is deprecated, and in the future will give a different result. Use np.sum(np.fromiter(generator)) or the python sum builtin instead.\n",
            "  score += np.sum(cnt * logsumexp(Elogthetad + Elogbeta[:, int(id)]) for id, cnt in doc)\n",
            "/usr/local/lib/python3.7/dist-packages/gensim/models/ldamodel.py:1077: DeprecationWarning: Calling np.sum(generator) is deprecated, and in the future will give a different result. Use np.sum(np.fromiter(generator)) or the python sum builtin instead.\n",
            "  score += np.sum(cnt * logsumexp(Elogthetad + Elogbeta[:, int(id)]) for id, cnt in doc)\n",
            "/usr/local/lib/python3.7/dist-packages/gensim/models/ldamodel.py:1077: DeprecationWarning: Calling np.sum(generator) is deprecated, and in the future will give a different result. Use np.sum(np.fromiter(generator)) or the python sum builtin instead.\n",
            "  score += np.sum(cnt * logsumexp(Elogthetad + Elogbeta[:, int(id)]) for id, cnt in doc)\n",
            "/usr/local/lib/python3.7/dist-packages/gensim/models/ldamodel.py:1077: DeprecationWarning: Calling np.sum(generator) is deprecated, and in the future will give a different result. Use np.sum(np.fromiter(generator)) or the python sum builtin instead.\n",
            "  score += np.sum(cnt * logsumexp(Elogthetad + Elogbeta[:, int(id)]) for id, cnt in doc)\n",
            "/usr/local/lib/python3.7/dist-packages/gensim/models/ldamodel.py:1077: DeprecationWarning: Calling np.sum(generator) is deprecated, and in the future will give a different result. Use np.sum(np.fromiter(generator)) or the python sum builtin instead.\n",
            "  score += np.sum(cnt * logsumexp(Elogthetad + Elogbeta[:, int(id)]) for id, cnt in doc)\n",
            "/usr/local/lib/python3.7/dist-packages/gensim/models/ldamodel.py:1077: DeprecationWarning: Calling np.sum(generator) is deprecated, and in the future will give a different result. Use np.sum(np.fromiter(generator)) or the python sum builtin instead.\n",
            "  score += np.sum(cnt * logsumexp(Elogthetad + Elogbeta[:, int(id)]) for id, cnt in doc)\n",
            "/usr/local/lib/python3.7/dist-packages/gensim/models/ldamodel.py:1077: DeprecationWarning: Calling np.sum(generator) is deprecated, and in the future will give a different result. Use np.sum(np.fromiter(generator)) or the python sum builtin instead.\n",
            "  score += np.sum(cnt * logsumexp(Elogthetad + Elogbeta[:, int(id)]) for id, cnt in doc)\n",
            "/usr/local/lib/python3.7/dist-packages/gensim/models/ldamodel.py:1077: DeprecationWarning: Calling np.sum(generator) is deprecated, and in the future will give a different result. Use np.sum(np.fromiter(generator)) or the python sum builtin instead.\n",
            "  score += np.sum(cnt * logsumexp(Elogthetad + Elogbeta[:, int(id)]) for id, cnt in doc)\n",
            "/usr/local/lib/python3.7/dist-packages/gensim/models/ldamodel.py:1077: DeprecationWarning: Calling np.sum(generator) is deprecated, and in the future will give a different result. Use np.sum(np.fromiter(generator)) or the python sum builtin instead.\n",
            "  score += np.sum(cnt * logsumexp(Elogthetad + Elogbeta[:, int(id)]) for id, cnt in doc)\n",
            "/usr/local/lib/python3.7/dist-packages/gensim/models/ldamodel.py:1077: DeprecationWarning: Calling np.sum(generator) is deprecated, and in the future will give a different result. Use np.sum(np.fromiter(generator)) or the python sum builtin instead.\n",
            "  score += np.sum(cnt * logsumexp(Elogthetad + Elogbeta[:, int(id)]) for id, cnt in doc)\n",
            "/usr/local/lib/python3.7/dist-packages/gensim/models/ldamodel.py:1077: DeprecationWarning: Calling np.sum(generator) is deprecated, and in the future will give a different result. Use np.sum(np.fromiter(generator)) or the python sum builtin instead.\n",
            "  score += np.sum(cnt * logsumexp(Elogthetad + Elogbeta[:, int(id)]) for id, cnt in doc)\n"
          ],
          "name": "stderr"
        }
      ]
    },
    {
      "cell_type": "code",
      "metadata": {
        "colab": {
          "base_uri": "https://localhost:8080/"
        },
        "id": "kSR-I8LZBeLn",
        "outputId": "41b29ee5-604c-4aac-fe0e-bbe28a39400f"
      },
      "source": [
        "# Print the coherence scores\n",
        "for m, cv in zip(range(2,6,1), coherence_values):\n",
        "    print(\"Num Topics =\", m, \" has Coherence Value of\", round(cv, 4))"
      ],
      "execution_count": null,
      "outputs": [
        {
          "output_type": "stream",
          "text": [
            "Num Topics = 2  has Coherence Value of 0.2801\n",
            "Num Topics = 3  has Coherence Value of 0.2343\n",
            "Num Topics = 4  has Coherence Value of 0.2318\n",
            "Num Topics = 5  has Coherence Value of 0.2476\n"
          ],
          "name": "stdout"
        }
      ]
    },
    {
      "cell_type": "code",
      "metadata": {
        "colab": {
          "base_uri": "https://localhost:8080/",
          "height": 278
        },
        "id": "NQCDr0xKBMsW",
        "outputId": "c5be9018-16e5-4877-fcda-1f702dd9b815"
      },
      "source": [
        "# Show graph\n",
        "plt.plot(range(2,6,1), coherence_values)\n",
        "plt.xlabel(\"Num Topics\")\n",
        "plt.ylabel(\"Coherence score\")\n",
        "plt.legend((\"coherence_values\"), loc='best')\n",
        "plt.show()"
      ],
      "execution_count": null,
      "outputs": [
        {
          "output_type": "display_data",
          "data": {
            "image/png": "[encoded data removed]",
            "text/plain": [
              "<Figure size 432x288 with 1 Axes>"
            ]
          },
          "metadata": {
            "tags": []
          }
        }
      ]
    },
    {
      "cell_type": "markdown",
      "metadata": {
        "id": "gi0yf2nmB8oy"
      },
      "source": [
        "## Optimal Model\n"
      ]
    },
    {
      "cell_type": "code",
      "metadata": {
        "colab": {
          "base_uri": "https://localhost:8080/"
        },
        "id": "mKewpnMmB_EL",
        "outputId": "96dce455-166d-4cb5-a0e3-c804af2e8007"
      },
      "source": [
        "optimal_model = model_list[0]\n",
        "model_topics = optimal_model.show_topics(formatted=False)\n",
        "print(optimal_model.print_topics(num_words=10))"
      ],
      "execution_count": null,
      "outputs": [
        {
          "output_type": "stream",
          "text": [
            "[(0, '0.045*\"know\" + 0.041*\"help\" + 0.040*\"body\" + 0.038*\"child\" + 0.038*\"result\" + 0.037*\"give\" + 0.034*\"world\" + 0.033*\"use\" + 0.033*\"new\" + 0.032*\"like\"'), (1, '0.070*\"child\" + 0.049*\"parent\" + 0.049*\"day\" + 0.045*\"family\" + 0.037*\"tell\" + 0.036*\"time\" + 0.035*\"when\" + 0.033*\"use\" + 0.031*\"recommend\" + 0.030*\"feel\"')]\n"
          ],
          "name": "stdout"
        }
      ]
    },
    {
      "cell_type": "code",
      "metadata": {
        "colab": {
          "base_uri": "https://localhost:8080/",
          "height": 915
        },
        "id": "5nHpm8vBCM6C",
        "outputId": "f27dc002-997d-4a6f-eb36-97351d95e220"
      },
      "source": [
        "pyLDAvis.gensim_models.prepare(optimal_model, corpus, dictionary)"
      ],
      "execution_count": null,
      "outputs": [
        {
          "output_type": "stream",
          "text": [
            "/usr/local/lib/python3.7/dist-packages/pyLDAvis/_prepare.py:247: FutureWarning: In a future version of pandas all arguments of DataFrame.drop except for the argument 'labels' will be keyword-only\n",
            "  by='saliency', ascending=False).head(R).drop('saliency', 1)\n"
          ],
          "name": "stderr"
        },
        {
          "output_type": "execute_result",
          "data": {
            "text/html": [
              "\n",
              "<link rel=\"stylesheet\" type=\"text/css\" href=\"https://cdn.jsdelivr.net/gh/bmabey/pyLDAvis@3.3.1/pyLDAvis/js/ldavis.v1.0.0.css\">\n",
              "\n",
              "\n",
              "<div id=\"ldavis_el2021403387719194409258041048\"></div>\n",
              "<script type=\"text/javascript\">\n",
              "\n",
              "var ldavis_el2021403387719194409258041048_data = {\"mdsDat\": {\"x\": [0.010964789737772799, -0.010964789737772799], \"y\": [0.0, 0.0], \"topics\": [1, 2], \"cluster\": [1, 1], \"Freq\": [69.6709507209939, 30.32904927900611]}, \"tinfo\": {\"Term\": [\"know\", \"help\", \"result\", \"body\", \"world\", \"give\", \"new\", \"come\", \"carry\", \"way\", \"like\", \"source\", \"use\", \"get\", \"long\", \"feel\", \"she\", \"look\", \"think\", \"health\", \"see\", \"have\", \"decide\", \"programme\", \"go\", \"bbc\", \"time\", \"school\", \"tell\", \"recommend\", \"day\", \"parent\", \"child\", \"family\", \"when\", \"recommend\", \"tell\", \"school\", \"time\", \"bbc\", \"go\", \"have\", \"see\", \"think\", \"programme\", \"decide\", \"use\", \"look\", \"health\", \"feel\", \"she\", \"get\", \"source\", \"long\", \"like\", \"new\", \"come\", \"carry\", \"way\", \"give\", \"body\", \"know\", \"know\", \"help\", \"world\", \"result\", \"body\", \"give\", \"way\", \"carry\", \"come\", \"new\", \"like\", \"long\", \"source\", \"get\", \"she\", \"feel\", \"health\", \"look\", \"use\", \"decide\", \"programme\", \"think\", \"see\", \"have\", \"go\", \"bbc\", \"time\", \"school\", \"tell\", \"recommend\", \"child\", \"family\", \"parent\", \"day\"], \"Freq\": [15.0, 13.0, 13.0, 14.0, 11.0, 14.0, 14.0, 12.0, 11.0, 11.0, 15.0, 13.0, 17.0, 12.0, 11.0, 15.0, 13.0, 14.0, 15.0, 12.0, 14.0, 13.0, 10.0, 11.0, 13.0, 12.0, 17.0, 14.0, 17.0, 14.0, 17.842671231103438, 17.899729000151492, 25.68205321782584, 16.66194706295108, 12.888347721003381, 11.529435193354153, 13.671539465482123, 10.630562234414194, 13.360599565360449, 9.52789713972582, 9.845219654876345, 9.711832250940025, 10.307434040558409, 10.558557566360298, 7.924247127291227, 7.49576227541596, 11.999202511453076, 9.824203961312207, 8.947858241696308, 10.98135664909875, 8.988120448791895, 8.64966644169399, 8.649219007704312, 7.701369499431841, 9.940209959404521, 8.877839961293365, 7.83409774334049, 7.161215264656704, 6.974751774542179, 8.483970603636308, 8.60460785186067, 7.905856425479695, 7.26956919488686, 6.620030620631903, 5.4395927984303505, 6.096118262759493, 6.356922786018767, 5.8840292817089, 4.4900477711953215, 4.595607558152886, 4.88777523589604, 5.257208241685079, 5.153535368431805, 3.965379872315486, 4.447871103824682, 4.26313580934569, 4.2847550798621254, 4.911471423915316, 3.982355235234372, 4.369375970972792, 5.325275536550566, 3.255115547141249, 3.3555875871727814, 4.450861053709571, 4.245937333646089, 3.863109507477889, 3.6231454479563743, 3.4690106082549907, 4.361793715777872, 3.451302970099932, 4.153133453195634, 3.1281783940324375, 6.124951115480253, 4.216878087074308, 3.8347088611999864, 3.63513507540779], \"Total\": [15.0, 13.0, 13.0, 14.0, 11.0, 14.0, 14.0, 12.0, 11.0, 11.0, 15.0, 13.0, 17.0, 12.0, 11.0, 15.0, 13.0, 14.0, 15.0, 12.0, 14.0, 13.0, 10.0, 11.0, 13.0, 12.0, 17.0, 14.0, 17.0, 14.0, 21.477806306511226, 21.734437861351477, 31.807004333306093, 20.878825150025385, 16.25683707317227, 14.65761358738659, 17.824672918677756, 14.081865204514127, 17.72239328113832, 12.99690774798081, 13.46836510283272, 13.574941758417914, 14.553371374204499, 15.00941862006987, 11.279834714464009, 10.750877822557209, 17.32447804800364, 14.193579932285, 12.93021347693068, 15.892828073014066, 13.27287552865402, 12.912802251039679, 13.097090111528995, 11.666749371747327, 15.093745327836327, 14.135048202978444, 12.72187297923653, 11.756822822809589, 11.4647995457375, 14.367999885345208, 14.961530637879438, 15.175425620366555, 15.175425620366555, 13.876708976115218, 11.782862414488243, 13.297410045980083, 14.961530637879438, 14.367999885345208, 11.4647995457375, 11.756822822809589, 12.72187297923653, 14.135048202978444, 15.093745327836327, 11.666749371747327, 13.097090111528995, 12.912802251039679, 13.27287552865402, 15.892828073014066, 12.93021347693068, 14.193579932285, 17.32447804800364, 10.750877822557209, 11.279834714464009, 15.00941862006987, 14.553371374204499, 13.574941758417914, 13.46836510283272, 12.99690774798081, 17.72239328113832, 14.081865204514127, 17.824672918677756, 14.65761358738659, 31.807004333306093, 20.878825150025385, 21.734437861351477, 21.477806306511226], \"Category\": [\"Default\", \"Default\", \"Default\", \"Default\", \"Default\", \"Default\", \"Default\", \"Default\", \"Default\", \"Default\", \"Default\", \"Default\", \"Default\", \"Default\", \"Default\", \"Default\", \"Default\", \"Default\", \"Default\", \"Default\", \"Default\", \"Default\", \"Default\", \"Default\", \"Default\", \"Default\", \"Default\", \"Default\", \"Default\", \"Default\", \"Topic1\", \"Topic1\", \"Topic1\", \"Topic1\", \"Topic1\", \"Topic1\", \"Topic1\", \"Topic1\", \"Topic1\", \"Topic1\", \"Topic1\", \"Topic1\", \"Topic1\", \"Topic1\", \"Topic1\", \"Topic1\", \"Topic1\", \"Topic1\", \"Topic1\", \"Topic1\", \"Topic1\", \"Topic1\", \"Topic1\", \"Topic1\", \"Topic1\", \"Topic1\", \"Topic1\", \"Topic1\", \"Topic1\", \"Topic1\", \"Topic1\", \"Topic1\", \"Topic2\", \"Topic2\", \"Topic2\", \"Topic2\", \"Topic2\", \"Topic2\", \"Topic2\", \"Topic2\", \"Topic2\", \"Topic2\", \"Topic2\", \"Topic2\", \"Topic2\", \"Topic2\", \"Topic2\", \"Topic2\", \"Topic2\", \"Topic2\", \"Topic2\", \"Topic2\", \"Topic2\", \"Topic2\", \"Topic2\", \"Topic2\", \"Topic2\", \"Topic2\", \"Topic2\", \"Topic2\", \"Topic2\", \"Topic2\", \"Topic2\", \"Topic2\", \"Topic2\", \"Topic2\"], \"logprob\": [30.0, 29.0, 28.0, 27.0, 26.0, 25.0, 24.0, 23.0, 22.0, 21.0, 20.0, 19.0, 18.0, 17.0, 16.0, 15.0, 14.0, 13.0, 12.0, 11.0, 10.0, 9.0, 8.0, 7.0, 6.0, 5.0, 4.0, 3.0, 2.0, 1.0, -3.0261, -3.0229, -2.6619, -3.0946, -3.3514, -3.4628, -3.2924, -3.544, -3.3154, -3.6535, -3.6207, -3.6344, -3.5748, -3.5508, -3.8378, -3.8934, -3.4229, -3.6229, -3.7163, -3.5115, -3.7118, -3.7502, -3.7502, -3.8663, -3.6111, -3.7242, -3.8492, -3.939, -3.9654, -3.7695, -3.7554, -3.8401, -3.0923, -3.1859, -3.3823, -3.2684, -3.2265, -3.3038, -3.5742, -3.5509, -3.4893, -3.4164, -3.4363, -3.6984, -3.5836, -3.626, -3.621, -3.4845, -3.6942, -3.6014, -3.4036, -3.8958, -3.8654, -3.5829, -3.6301, -3.7246, -3.7887, -3.8322, -3.6031, -3.8373, -3.6522, -3.9356, -3.2637, -3.6369, -3.7319, -3.7854], \"loglift\": [30.0, 29.0, 28.0, 27.0, 26.0, 25.0, 24.0, 23.0, 22.0, 21.0, 20.0, 19.0, 18.0, 17.0, 16.0, 15.0, 14.0, 13.0, 12.0, 11.0, 10.0, 9.0, 8.0, 7.0, 6.0, 5.0, 4.0, 3.0, 2.0, 1.0, 0.176, 0.1673, 0.1475, 0.1358, 0.1292, 0.1213, 0.0961, 0.0802, 0.0789, 0.0509, 0.048, 0.0265, 0.0164, 0.0096, 0.0083, 0.0007, -0.0059, -0.0066, -0.0068, -0.0083, -0.0284, -0.0393, -0.0535, -0.054, -0.0563, -0.1037, -0.1235, -0.1344, -0.1356, -0.1654, -0.1918, -0.2907, 0.4571, 0.453, 0.4201, 0.4131, 0.3371, 0.3003, 0.2556, 0.2537, 0.2365, 0.204, 0.1185, 0.1139, 0.1131, 0.0848, 0.0624, 0.0188, 0.0154, 0.0149, 0.0134, -0.0017, -0.0193, -0.0225, -0.0388, -0.0637, -0.1199, -0.1278, -0.2089, -0.2131, -0.2637, -0.3514, -0.4543, -0.4066, -0.5417, -0.5833]}, \"token.table\": {\"Topic\": [1, 2, 1, 2, 1, 2, 1, 2, 1, 2, 1, 2, 1, 2, 1, 2, 1, 2, 1, 2, 1, 2, 1, 2, 1, 2, 1, 2, 1, 2, 1, 2, 1, 2, 1, 2, 1, 2, 1, 2, 1, 2, 1, 2, 1, 2, 1, 2, 1, 2, 1, 2, 1, 2, 1, 2, 1, 2, 1, 2, 1, 2, 1, 2, 1, 2, 1, 2, 1, 2], \"Freq\": [0.7694137862564726, 0.23082413587694178, 0.6015427310100144, 0.4010284873400096, 0.5953989530589161, 0.42528496647065434, 0.8174300140794649, 0.1886376955567996, 0.6288382231969195, 0.3930238894980747, 0.8380744170573466, 0.18623875934607703, 0.6511096224452281, 0.2790469810479549, 0.8142220588489066, 0.1915816609056251, 0.6921360974563073, 0.31460731702559425, 0.6969827172312936, 0.3097700965472416, 0.5567928774943605, 0.41759465812077035, 0.7424806146587725, 0.296992245863509, 0.7366514109571728, 0.2946605643828691, 0.6960441926235221, 0.3093529744993432, 0.5044423726150412, 0.5044423726150412, 0.5271680808255818, 0.461272070722384, 0.662526084997453, 0.3312630424987265, 0.6857094247154331, 0.34285471235771653, 0.7045438886953249, 0.28181755547813, 0.6367151969176574, 0.35373066495425415, 0.8281787693257016, 0.18403972651682257, 0.7092302504877742, 0.2659613439329153, 0.8186871572550143, 0.20467178931375357, 0.5264183006912807, 0.451215686306812, 0.7811465200273189, 0.21303996000745062, 0.6871260096972966, 0.2748504038789187, 0.6780746177096618, 0.3013664967598497, 0.6871755423044357, 0.3054113521353048, 0.785428157019923, 0.2244080448628351, 0.7328731564120233, 0.2664993296043721, 0.7335352395003957, 0.22570315061550636, 0.6926615605243472, 0.28860898355181136, 0.610564534693721, 0.34889401982498336, 0.7996635471885953, 0.1845377416589066, 0.509214127173579, 0.4243451059779825], \"Term\": [\"bbc\", \"bbc\", \"body\", \"body\", \"carry\", \"carry\", \"child\", \"child\", \"come\", \"come\", \"day\", \"day\", \"decide\", \"decide\", \"family\", \"family\", \"feel\", \"feel\", \"get\", \"get\", \"give\", \"give\", \"go\", \"go\", \"have\", \"have\", \"health\", \"health\", \"help\", \"help\", \"know\", \"know\", \"like\", \"like\", \"long\", \"long\", \"look\", \"look\", \"new\", \"new\", \"parent\", \"parent\", \"programme\", \"programme\", \"recommend\", \"recommend\", \"result\", \"result\", \"school\", \"school\", \"see\", \"see\", \"she\", \"she\", \"source\", \"source\", \"tell\", \"tell\", \"think\", \"think\", \"time\", \"time\", \"use\", \"use\", \"way\", \"way\", \"when\", \"when\", \"world\", \"world\"]}, \"R\": 30, \"lambda.step\": 0.01, \"plot.opts\": {\"xlab\": \"PC1\", \"ylab\": \"PC2\"}, \"topic.order\": [2, 1]};\n",
              "\n",
              "function LDAvis_load_lib(url, callback){\n",
              "  var s = document.createElement('script');\n",
              "  s.src = url;\n",
              "  s.async = true;\n",
              "  s.onreadystatechange = s.onload = callback;\n",
              "  s.onerror = function(){console.warn(\"failed to load library \" + url);};\n",
              "  document.getElementsByTagName(\"head\")[0].appendChild(s);\n",
              "}\n",
              "\n",
              "if(typeof(LDAvis) !== \"undefined\"){\n",
              "   // already loaded: just create the visualization\n",
              "   !function(LDAvis){\n",
              "       new LDAvis(\"#\" + \"ldavis_el2021403387719194409258041048\", ldavis_el2021403387719194409258041048_data);\n",
              "   }(LDAvis);\n",
              "}else if(typeof define === \"function\" && define.amd){\n",
              "   // require.js is available: use it to load d3/LDAvis\n",
              "   require.config({paths: {d3: \"https://d3js.org/d3.v5\"}});\n",
              "   require([\"d3\"], function(d3){\n",
              "      window.d3 = d3;\n",
              "      LDAvis_load_lib(\"https://cdn.jsdelivr.net/gh/bmabey/pyLDAvis@3.3.1/pyLDAvis/js/ldavis.v3.0.0.js\", function(){\n",
              "        new LDAvis(\"#\" + \"ldavis_el2021403387719194409258041048\", ldavis_el2021403387719194409258041048_data);\n",
              "      });\n",
              "    });\n",
              "}else{\n",
              "    // require.js not available: dynamically load d3 & LDAvis\n",
              "    LDAvis_load_lib(\"https://d3js.org/d3.v5.js\", function(){\n",
              "         LDAvis_load_lib(\"https://cdn.jsdelivr.net/gh/bmabey/pyLDAvis@3.3.1/pyLDAvis/js/ldavis.v3.0.0.js\", function(){\n",
              "                 new LDAvis(\"#\" + \"ldavis_el2021403387719194409258041048\", ldavis_el2021403387719194409258041048_data);\n",
              "            })\n",
              "         });\n",
              "}\n",
              "</script>"
            ],
            "text/plain": [
              "PreparedData(topic_coordinates=              x    y  topics  cluster       Freq\n",
              "topic                                           \n",
              "1      0.010965  0.0       1        1  69.670951\n",
              "0     -0.010965  0.0       2        1  30.329049, topic_info=         Term       Freq      Total Category  logprob  loglift\n",
              "10       know  15.000000  15.000000  Default  30.0000  30.0000\n",
              "29       help  13.000000  13.000000  Default  29.0000  29.0000\n",
              "17     result  13.000000  13.000000  Default  28.0000  28.0000\n",
              "1        body  14.000000  14.000000  Default  27.0000  27.0000\n",
              "32      world  11.000000  11.000000  Default  26.0000  26.0000\n",
              "..        ...        ...        ...      ...      ...      ...\n",
              "16  recommend   3.128178  14.657614   Topic2  -3.9356  -0.3514\n",
              "26      child   6.124951  31.807004   Topic2  -3.2637  -0.4543\n",
              "28     family   4.216878  20.878825   Topic2  -3.6369  -0.4066\n",
              "30     parent   3.834709  21.734438   Topic2  -3.7319  -0.5417\n",
              "3         day   3.635135  21.477806   Topic2  -3.7854  -0.5833\n",
              "\n",
              "[96 rows x 6 columns], token_table=      Topic      Freq   Term\n",
              "term                        \n",
              "0         1  0.769414    bbc\n",
              "0         2  0.230824    bbc\n",
              "1         1  0.601543   body\n",
              "1         2  0.401028   body\n",
              "2         1  0.595399  carry\n",
              "...     ...       ...    ...\n",
              "25        2  0.348894    way\n",
              "31        1  0.799664   when\n",
              "31        2  0.184538   when\n",
              "32        1  0.509214  world\n",
              "32        2  0.424345  world\n",
              "\n",
              "[70 rows x 3 columns], R=30, lambda_step=0.01, plot_opts={'xlab': 'PC1', 'ylab': 'PC2'}, topic_order=[2, 1])"
            ]
          },
          "metadata": {
            "tags": []
          },
          "execution_count": 39
        }
      ]
    },
    {
      "cell_type": "code",
      "metadata": {
        "colab": {
          "base_uri": "https://localhost:8080/"
        },
        "id": "pHPTBEGHCwf9",
        "outputId": "c5cc2bb6-19d0-4b34-d707-16eb094d4588"
      },
      "source": [
        "# Compute Perplexity\n",
        "print('\\nPerplexity: ', optimal_model.log_perplexity(corpus))  # a measure of how good the model is. lower the better.\n",
        "\n",
        "# Compute Coherence Score\n",
        "coherence_model_ldatfidf = CoherenceModel(model=optimal_model, texts=umls_list, dictionary=dictionary, coherence='c_v')\n",
        "coherence_ldatfidf = coherence_model_ldatfidf.get_coherence()\n",
        "print('\\nCoherence Score: ', coherence_ldatfidf)"
      ],
      "execution_count": null,
      "outputs": [
        {
          "output_type": "stream",
          "text": [
            "\n",
            "Perplexity:  -3.954378160111832\n",
            "\n",
            "Coherence Score:  0.2800929002502262\n"
          ],
          "name": "stdout"
        },
        {
          "output_type": "stream",
          "text": [
            "/usr/local/lib/python3.7/dist-packages/gensim/models/ldamodel.py:1077: DeprecationWarning: Calling np.sum(generator) is deprecated, and in the future will give a different result. Use np.sum(np.fromiter(generator)) or the python sum builtin instead.\n",
            "  score += np.sum(cnt * logsumexp(Elogthetad + Elogbeta[:, int(id)]) for id, cnt in doc)\n",
            "/usr/local/lib/python3.7/dist-packages/gensim/models/ldamodel.py:1077: DeprecationWarning: Calling np.sum(generator) is deprecated, and in the future will give a different result. Use np.sum(np.fromiter(generator)) or the python sum builtin instead.\n",
            "  score += np.sum(cnt * logsumexp(Elogthetad + Elogbeta[:, int(id)]) for id, cnt in doc)\n",
            "/usr/local/lib/python3.7/dist-packages/gensim/models/ldamodel.py:1077: DeprecationWarning: Calling np.sum(generator) is deprecated, and in the future will give a different result. Use np.sum(np.fromiter(generator)) or the python sum builtin instead.\n",
            "  score += np.sum(cnt * logsumexp(Elogthetad + Elogbeta[:, int(id)]) for id, cnt in doc)\n",
            "/usr/local/lib/python3.7/dist-packages/gensim/models/ldamodel.py:1077: DeprecationWarning: Calling np.sum(generator) is deprecated, and in the future will give a different result. Use np.sum(np.fromiter(generator)) or the python sum builtin instead.\n",
            "  score += np.sum(cnt * logsumexp(Elogthetad + Elogbeta[:, int(id)]) for id, cnt in doc)\n",
            "/usr/local/lib/python3.7/dist-packages/gensim/models/ldamodel.py:1077: DeprecationWarning: Calling np.sum(generator) is deprecated, and in the future will give a different result. Use np.sum(np.fromiter(generator)) or the python sum builtin instead.\n",
            "  score += np.sum(cnt * logsumexp(Elogthetad + Elogbeta[:, int(id)]) for id, cnt in doc)\n",
            "/usr/local/lib/python3.7/dist-packages/gensim/models/ldamodel.py:1077: DeprecationWarning: Calling np.sum(generator) is deprecated, and in the future will give a different result. Use np.sum(np.fromiter(generator)) or the python sum builtin instead.\n",
            "  score += np.sum(cnt * logsumexp(Elogthetad + Elogbeta[:, int(id)]) for id, cnt in doc)\n",
            "/usr/local/lib/python3.7/dist-packages/gensim/models/ldamodel.py:1077: DeprecationWarning: Calling np.sum(generator) is deprecated, and in the future will give a different result. Use np.sum(np.fromiter(generator)) or the python sum builtin instead.\n",
            "  score += np.sum(cnt * logsumexp(Elogthetad + Elogbeta[:, int(id)]) for id, cnt in doc)\n",
            "/usr/local/lib/python3.7/dist-packages/gensim/models/ldamodel.py:1077: DeprecationWarning: Calling np.sum(generator) is deprecated, and in the future will give a different result. Use np.sum(np.fromiter(generator)) or the python sum builtin instead.\n",
            "  score += np.sum(cnt * logsumexp(Elogthetad + Elogbeta[:, int(id)]) for id, cnt in doc)\n",
            "/usr/local/lib/python3.7/dist-packages/gensim/models/ldamodel.py:1077: DeprecationWarning: Calling np.sum(generator) is deprecated, and in the future will give a different result. Use np.sum(np.fromiter(generator)) or the python sum builtin instead.\n",
            "  score += np.sum(cnt * logsumexp(Elogthetad + Elogbeta[:, int(id)]) for id, cnt in doc)\n",
            "/usr/local/lib/python3.7/dist-packages/gensim/models/ldamodel.py:1077: DeprecationWarning: Calling np.sum(generator) is deprecated, and in the future will give a different result. Use np.sum(np.fromiter(generator)) or the python sum builtin instead.\n",
            "  score += np.sum(cnt * logsumexp(Elogthetad + Elogbeta[:, int(id)]) for id, cnt in doc)\n"
          ],
          "name": "stderr"
        }
      ]
    },
    {
      "cell_type": "markdown",
      "metadata": {
        "id": "8Z_s5wFnJGDC"
      },
      "source": [
        "\n",
        "## -----------------------Rewrite \n",
        "\n",
        "\n"
      ]
    },
    {
      "cell_type": "markdown",
      "metadata": {
        "id": "iOt1wNEBC-A_"
      },
      "source": [
        "# Dominant topic in each sentence "
      ]
    },
    {
      "cell_type": "code",
      "metadata": {
        "colab": {
          "base_uri": "https://localhost:8080/",
          "height": 355
        },
        "id": "LttB-JN2DlQp",
        "outputId": "7de30601-c4ca-4dec-8809-21aff9df81d7"
      },
      "source": [
        "def format_topics_sentences(ldamodel=lda_model_tfidf, corpus=corpus, texts=texts):\n",
        "    # Init output\n",
        "    sent_topics_df = pd.DataFrame()\n",
        "\n",
        "    # Get main topic in each document\n",
        "    for i, row in enumerate(ldamodel[corpus]):\n",
        "        row = sorted(row, key=lambda x: (x[1]), reverse=True)\n",
        "        # Get the Dominant topic, Perc Contribution and Keywords for each document\n",
        "        for j, (topic_num, prop_topic) in enumerate(row):\n",
        "            if j == 0:  # => dominant topic\n",
        "                wp = ldamodel.show_topic(topic_num)\n",
        "                topic_keywords = \", \".join([word for word, prop in wp])\n",
        "                sent_topics_df = sent_topics_df.append(pd.Series([int(topic_num), round(prop_topic,4), topic_keywords]), ignore_index=True)\n",
        "            else:\n",
        "                break\n",
        "    sent_topics_df.columns = ['Dominant_Topic', 'Perc_Contribution', 'Topic_Keywords']\n",
        "\n",
        "    # Add original text to the end of the output\n",
        "    contents = pd.Series(texts)\n",
        "    sent_topics_df = pd.concat([sent_topics_df, contents], axis=1)\n",
        "    return(sent_topics_df)\n",
        "\n",
        "\n",
        "df_topic_sents_keywords = format_topics_sentences(ldamodel=optimal_model, corpus=corpus, texts=texts)\n",
        "\n",
        "# Format\n",
        "df_dominant_topic = df_topic_sents_keywords.reset_index()\n",
        "df_dominant_topic.columns = ['Document_No', 'Dominant_Topic', 'Topic_Perc_Contrib', 'Keywords', 'Text']\n",
        "\n",
        "# Show\n",
        "df_dominant_topic.head(10)"
      ],
      "execution_count": null,
      "outputs": [
        {
          "output_type": "execute_result",
          "data": {
            "text/html": [
              "<div>\n",
              "<style scoped>\n",
              "    .dataframe tbody tr th:only-of-type {\n",
              "        vertical-align: middle;\n",
              "    }\n",
              "\n",
              "    .dataframe tbody tr th {\n",
              "        vertical-align: top;\n",
              "    }\n",
              "\n",
              "    .dataframe thead th {\n",
              "        text-align: right;\n",
              "    }\n",
              "</style>\n",
              "<table border=\"1\" class=\"dataframe\">\n",
              "  <thead>\n",
              "    <tr style=\"text-align: right;\">\n",
              "      <th></th>\n",
              "      <th>Document_No</th>\n",
              "      <th>Dominant_Topic</th>\n",
              "      <th>Topic_Perc_Contrib</th>\n",
              "      <th>Keywords</th>\n",
              "      <th>Text</th>\n",
              "    </tr>\n",
              "  </thead>\n",
              "  <tbody>\n",
              "    <tr>\n",
              "      <th>0</th>\n",
              "      <td>0</td>\n",
              "      <td>1.0</td>\n",
              "      <td>0.5123</td>\n",
              "      <td>child, parent, day, family, tell, time, when, ...</td>\n",
              "      <td>My name is Tim and I'm a cheese addict. But wh...</td>\n",
              "    </tr>\n",
              "    <tr>\n",
              "      <th>1</th>\n",
              "      <td>1</td>\n",
              "      <td>1.0</td>\n",
              "      <td>0.9774</td>\n",
              "      <td>child, parent, day, family, tell, time, when, ...</td>\n",
              "      <td>Children in the UK exceed the maximum recommen...</td>\n",
              "    </tr>\n",
              "    <tr>\n",
              "      <th>2</th>\n",
              "      <td>2</td>\n",
              "      <td>0.0</td>\n",
              "      <td>0.9747</td>\n",
              "      <td>know, help, body, child, result, give, world, ...</td>\n",
              "      <td>A clinical trial has been launched to see if a...</td>\n",
              "    </tr>\n",
              "    <tr>\n",
              "      <th>3</th>\n",
              "      <td>3</td>\n",
              "      <td>1.0</td>\n",
              "      <td>0.9789</td>\n",
              "      <td>child, parent, day, family, tell, time, when, ...</td>\n",
              "      <td>When 12-year-old Matthew Carter saw how much s...</td>\n",
              "    </tr>\n",
              "    <tr>\n",
              "      <th>4</th>\n",
              "      <td>4</td>\n",
              "      <td>0.0</td>\n",
              "      <td>0.5329</td>\n",
              "      <td>know, help, body, child, result, give, world, ...</td>\n",
              "      <td>When Jessica Share bought sperm from a sperm b...</td>\n",
              "    </tr>\n",
              "    <tr>\n",
              "      <th>5</th>\n",
              "      <td>5</td>\n",
              "      <td>0.0</td>\n",
              "      <td>0.9608</td>\n",
              "      <td>know, help, body, child, result, give, world, ...</td>\n",
              "      <td>Scientists have found the most likely source o...</td>\n",
              "    </tr>\n",
              "    <tr>\n",
              "      <th>6</th>\n",
              "      <td>6</td>\n",
              "      <td>0.0</td>\n",
              "      <td>0.9675</td>\n",
              "      <td>know, help, body, child, result, give, world, ...</td>\n",
              "      <td>A month-long campaign encouraging women to gro...</td>\n",
              "    </tr>\n",
              "    <tr>\n",
              "      <th>7</th>\n",
              "      <td>7</td>\n",
              "      <td>1.0</td>\n",
              "      <td>0.9915</td>\n",
              "      <td>child, parent, day, family, tell, time, when, ...</td>\n",
              "      <td>There is little evidence screen use for childr...</td>\n",
              "    </tr>\n",
              "    <tr>\n",
              "      <th>8</th>\n",
              "      <td>8</td>\n",
              "      <td>1.0</td>\n",
              "      <td>0.9634</td>\n",
              "      <td>child, parent, day, family, tell, time, when, ...</td>\n",
              "      <td>Authorities investigating the death of an 11-y...</td>\n",
              "    </tr>\n",
              "    <tr>\n",
              "      <th>9</th>\n",
              "      <td>9</td>\n",
              "      <td>1.0</td>\n",
              "      <td>0.9910</td>\n",
              "      <td>child, parent, day, family, tell, time, when, ...</td>\n",
              "      <td>New guidance from the Royal College of Paediat...</td>\n",
              "    </tr>\n",
              "  </tbody>\n",
              "</table>\n",
              "</div>"
            ],
            "text/plain": [
              "   Document_No  ...                                               Text\n",
              "0            0  ...  My name is Tim and I'm a cheese addict. But wh...\n",
              "1            1  ...  Children in the UK exceed the maximum recommen...\n",
              "2            2  ...  A clinical trial has been launched to see if a...\n",
              "3            3  ...  When 12-year-old Matthew Carter saw how much s...\n",
              "4            4  ...  When Jessica Share bought sperm from a sperm b...\n",
              "5            5  ...  Scientists have found the most likely source o...\n",
              "6            6  ...  A month-long campaign encouraging women to gro...\n",
              "7            7  ...  There is little evidence screen use for childr...\n",
              "8            8  ...  Authorities investigating the death of an 11-y...\n",
              "9            9  ...  New guidance from the Royal College of Paediat...\n",
              "\n",
              "[10 rows x 5 columns]"
            ]
          },
          "metadata": {
            "tags": []
          },
          "execution_count": 41
        }
      ]
    },
    {
      "cell_type": "markdown",
      "metadata": {
        "id": "NatI-4ojD1dm"
      },
      "source": [
        "# Find the most representative document for each topic"
      ]
    },
    {
      "cell_type": "code",
      "metadata": {
        "colab": {
          "base_uri": "https://localhost:8080/",
          "height": 110
        },
        "id": "hZTKk4ImC9rV",
        "outputId": "44229645-3816-4ab8-902a-73cce3ca26f8"
      },
      "source": [
        "# Group top 5 sentences under each topic\n",
        "sent_topics_sorteddf= pd.DataFrame()\n",
        "\n",
        "sent_topics_outdf_grpd = df_topic_sents_keywords.groupby('Dominant_Topic')\n",
        "\n",
        "for i, grp in sent_topics_outdf_grpd:\n",
        "    sent_topics_sorteddf = pd.concat([sent_topics_sorteddf, \n",
        "                                             grp.sort_values(['Perc_Contribution'], ascending=[0]).head(1)], \n",
        "                                            axis=0)\n",
        "\n",
        "# Reset Index    \n",
        "sent_topics_sorteddf.reset_index(drop=True, inplace=True)\n",
        "\n",
        "# Format\n",
        "sent_topics_sorteddf.columns = ['Topic_Num', \"Topic_Perc_Contrib\", \"Keywords\", \"Text\"]\n",
        "\n",
        "# Show\n",
        "sent_topics_sorteddf.head()"
      ],
      "execution_count": null,
      "outputs": [
        {
          "output_type": "execute_result",
          "data": {
            "text/html": [
              "<div>\n",
              "<style scoped>\n",
              "    .dataframe tbody tr th:only-of-type {\n",
              "        vertical-align: middle;\n",
              "    }\n",
              "\n",
              "    .dataframe tbody tr th {\n",
              "        vertical-align: top;\n",
              "    }\n",
              "\n",
              "    .dataframe thead th {\n",
              "        text-align: right;\n",
              "    }\n",
              "</style>\n",
              "<table border=\"1\" class=\"dataframe\">\n",
              "  <thead>\n",
              "    <tr style=\"text-align: right;\">\n",
              "      <th></th>\n",
              "      <th>Topic_Num</th>\n",
              "      <th>Topic_Perc_Contrib</th>\n",
              "      <th>Keywords</th>\n",
              "      <th>Text</th>\n",
              "    </tr>\n",
              "  </thead>\n",
              "  <tbody>\n",
              "    <tr>\n",
              "      <th>0</th>\n",
              "      <td>0.0</td>\n",
              "      <td>0.9747</td>\n",
              "      <td>know, help, body, child, result, give, world, ...</td>\n",
              "      <td>A clinical trial has been launched to see if a...</td>\n",
              "    </tr>\n",
              "    <tr>\n",
              "      <th>1</th>\n",
              "      <td>1.0</td>\n",
              "      <td>0.9915</td>\n",
              "      <td>child, parent, day, family, tell, time, when, ...</td>\n",
              "      <td>There is little evidence screen use for childr...</td>\n",
              "    </tr>\n",
              "  </tbody>\n",
              "</table>\n",
              "</div>"
            ],
            "text/plain": [
              "   Topic_Num  ...                                               Text\n",
              "0        0.0  ...  A clinical trial has been launched to see if a...\n",
              "1        1.0  ...  There is little evidence screen use for childr...\n",
              "\n",
              "[2 rows x 4 columns]"
            ]
          },
          "metadata": {
            "tags": []
          },
          "execution_count": 42
        }
      ]
    },
    {
      "cell_type": "markdown",
      "metadata": {
        "id": "THrudrCSEOW6"
      },
      "source": [
        "## Topic distribution across documents"
      ]
    },
    {
      "cell_type": "code",
      "metadata": {
        "colab": {
          "base_uri": "https://localhost:8080/",
          "height": 414
        },
        "id": "Xd-DwfPlEOAd",
        "outputId": "ad6d4ca7-9421-457e-e51a-3c040bdb4143"
      },
      "source": [
        "# Number of Documents for Each Topic\n",
        "topic_counts = df_topic_sents_keywords['Dominant_Topic'].value_counts()\n",
        "\n",
        "# Percentage of Documents for Each Topic\n",
        "topic_contribution = round(topic_counts/topic_counts.sum(), 4)\n",
        "\n",
        "# Topic Number and Keywords\n",
        "topic_num_keywords = df_topic_sents_keywords[['Dominant_Topic', 'Topic_Keywords']]\n",
        "\n",
        "# Concatenate Column wise\n",
        "df_dominant_topics = pd.concat([topic_num_keywords, topic_counts, topic_contribution], axis=1)\n",
        "\n",
        "# Change Column names\n",
        "df_dominant_topics.columns = ['Dominant_Topic', 'Topic_Keywords', 'Num_Documents', 'Perc_Documents']\n",
        "\n",
        "# Show\n",
        "df_dominant_topics\n"
      ],
      "execution_count": null,
      "outputs": [
        {
          "output_type": "execute_result",
          "data": {
            "text/html": [
              "<div>\n",
              "<style scoped>\n",
              "    .dataframe tbody tr th:only-of-type {\n",
              "        vertical-align: middle;\n",
              "    }\n",
              "\n",
              "    .dataframe tbody tr th {\n",
              "        vertical-align: top;\n",
              "    }\n",
              "\n",
              "    .dataframe thead th {\n",
              "        text-align: right;\n",
              "    }\n",
              "</style>\n",
              "<table border=\"1\" class=\"dataframe\">\n",
              "  <thead>\n",
              "    <tr style=\"text-align: right;\">\n",
              "      <th></th>\n",
              "      <th>Dominant_Topic</th>\n",
              "      <th>Topic_Keywords</th>\n",
              "      <th>Num_Documents</th>\n",
              "      <th>Perc_Documents</th>\n",
              "    </tr>\n",
              "  </thead>\n",
              "  <tbody>\n",
              "    <tr>\n",
              "      <th>0.0</th>\n",
              "      <td>1.0</td>\n",
              "      <td>child, parent, day, family, tell, time, when, ...</td>\n",
              "      <td>4.0</td>\n",
              "      <td>0.4</td>\n",
              "    </tr>\n",
              "    <tr>\n",
              "      <th>1.0</th>\n",
              "      <td>1.0</td>\n",
              "      <td>child, parent, day, family, tell, time, when, ...</td>\n",
              "      <td>6.0</td>\n",
              "      <td>0.6</td>\n",
              "    </tr>\n",
              "    <tr>\n",
              "      <th>2.0</th>\n",
              "      <td>0.0</td>\n",
              "      <td>know, help, body, child, result, give, world, ...</td>\n",
              "      <td>NaN</td>\n",
              "      <td>NaN</td>\n",
              "    </tr>\n",
              "    <tr>\n",
              "      <th>3.0</th>\n",
              "      <td>1.0</td>\n",
              "      <td>child, parent, day, family, tell, time, when, ...</td>\n",
              "      <td>NaN</td>\n",
              "      <td>NaN</td>\n",
              "    </tr>\n",
              "    <tr>\n",
              "      <th>4.0</th>\n",
              "      <td>0.0</td>\n",
              "      <td>know, help, body, child, result, give, world, ...</td>\n",
              "      <td>NaN</td>\n",
              "      <td>NaN</td>\n",
              "    </tr>\n",
              "    <tr>\n",
              "      <th>...</th>\n",
              "      <td>...</td>\n",
              "      <td>...</td>\n",
              "      <td>...</td>\n",
              "      <td>...</td>\n",
              "    </tr>\n",
              "    <tr>\n",
              "      <th>707.0</th>\n",
              "      <td>NaN</td>\n",
              "      <td>NaN</td>\n",
              "      <td>NaN</td>\n",
              "      <td>NaN</td>\n",
              "    </tr>\n",
              "    <tr>\n",
              "      <th>708.0</th>\n",
              "      <td>NaN</td>\n",
              "      <td>NaN</td>\n",
              "      <td>NaN</td>\n",
              "      <td>NaN</td>\n",
              "    </tr>\n",
              "    <tr>\n",
              "      <th>709.0</th>\n",
              "      <td>NaN</td>\n",
              "      <td>NaN</td>\n",
              "      <td>NaN</td>\n",
              "      <td>NaN</td>\n",
              "    </tr>\n",
              "    <tr>\n",
              "      <th>710.0</th>\n",
              "      <td>NaN</td>\n",
              "      <td>NaN</td>\n",
              "      <td>NaN</td>\n",
              "      <td>NaN</td>\n",
              "    </tr>\n",
              "    <tr>\n",
              "      <th>711.0</th>\n",
              "      <td>NaN</td>\n",
              "      <td>NaN</td>\n",
              "      <td>NaN</td>\n",
              "      <td>NaN</td>\n",
              "    </tr>\n",
              "  </tbody>\n",
              "</table>\n",
              "<p>712 rows × 4 columns</p>\n",
              "</div>"
            ],
            "text/plain": [
              "       Dominant_Topic  ... Perc_Documents\n",
              "0.0               1.0  ...            0.4\n",
              "1.0               1.0  ...            0.6\n",
              "2.0               0.0  ...            NaN\n",
              "3.0               1.0  ...            NaN\n",
              "4.0               0.0  ...            NaN\n",
              "...               ...  ...            ...\n",
              "707.0             NaN  ...            NaN\n",
              "708.0             NaN  ...            NaN\n",
              "709.0             NaN  ...            NaN\n",
              "710.0             NaN  ...            NaN\n",
              "711.0             NaN  ...            NaN\n",
              "\n",
              "[712 rows x 4 columns]"
            ]
          },
          "metadata": {
            "tags": []
          },
          "execution_count": 43
        }
      ]
    },
    {
      "cell_type": "markdown",
      "metadata": {
        "id": "VfNtF17AJzZS"
      },
      "source": [
        "# Trigram "
      ]
    },
    {
      "cell_type": "code",
      "metadata": {
        "colab": {
          "base_uri": "https://localhost:8080/"
        },
        "id": "5XxNedwuJ45C",
        "outputId": "65d71e65-0afe-4362-bf41-63b47a2110f2"
      },
      "source": [
        "trigram = gensim.models.Phrases(bigram[bigram_words], threshold=100) \n",
        "trigram_2 = gensim.models.phrases.Phraser(trigram)\n",
        "trigram_words = [trigram_2[text] for text in umls_list]"
      ],
      "execution_count": null,
      "outputs": [
        {
          "output_type": "stream",
          "text": [
            "/usr/local/lib/python3.7/dist-packages/gensim/models/phrases.py:598: UserWarning: For a faster implementation, use the gensim.models.phrases.Phraser class\n",
            "  warnings.warn(\"For a faster implementation, use the gensim.models.phrases.Phraser class\")\n"
          ],
          "name": "stderr"
        }
      ]
    },
    {
      "cell_type": "code",
      "metadata": {
        "colab": {
          "base_uri": "https://localhost:8080/"
        },
        "id": "rL8Yg_RlK6yK",
        "outputId": "96e7d138-5c98-4a60-b1a9-e4390a8478d7"
      },
      "source": [
        "# Create Dictionary\n",
        "dictionary_trigram = Dictionary(trigram_words)\n",
        "dictionary_trigram.filter_extremes(no_below=5, no_above=0.7)\n",
        "\n",
        "# Create Corpus\n",
        "corpus_trigram = [dictionary_trigram.doc2bow(text) for text in trigram_words]\n",
        "print('Number of unique tokens: %d' % len(dictionary_trigram))\n",
        "print('Number of documents: %d' % len(corpus_trigram))\n",
        "\n",
        "# Term Document Frequency\n",
        "corpus_trigram = [dictionary_trigram.doc2bow(text) for text in trigram_words]\n",
        "\n",
        "# View\n",
        "print(corpus_trigram[:1])"
      ],
      "execution_count": null,
      "outputs": [
        {
          "output_type": "stream",
          "text": [
            "Number of unique tokens: 35\n",
            "Number of documents: 10\n",
            "[[(0, 2), (1, 1), (2, 1), (3, 3), (4, 1), (5, 1), (6, 1), (7, 1), (8, 3), (9, 2), (10, 2), (11, 3), (12, 1), (13, 2), (14, 1), (15, 1), (16, 1), (17, 1), (18, 1), (19, 1), (20, 1), (21, 1), (22, 1), (23, 5), (24, 2), (25, 1)]]\n"
          ],
          "name": "stdout"
        }
      ]
    },
    {
      "cell_type": "code",
      "metadata": {
        "colab": {
          "base_uri": "https://localhost:8080/"
        },
        "id": "x6BfIsDlOUfD",
        "outputId": "0bd9b17f-ecb4-46a9-d5d3-a4518ed38079"
      },
      "source": [
        "[[(dictionary_trigram[id], freq) for id, freq in cp] for cp in corpus_trigram[:1]]"
      ],
      "execution_count": null,
      "outputs": [
        {
          "output_type": "execute_result",
          "data": {
            "text/plain": [
              "[[('bbc', 2),\n",
              "  ('body', 1),\n",
              "  ('carry', 1),\n",
              "  ('day', 3),\n",
              "  ('decide', 1),\n",
              "  ('get', 1),\n",
              "  ('give', 1),\n",
              "  ('go', 1),\n",
              "  ('have', 3),\n",
              "  ('health', 2),\n",
              "  ('know', 2),\n",
              "  ('like', 3),\n",
              "  ('long', 1),\n",
              "  ('look', 2),\n",
              "  ('new', 1),\n",
              "  ('programme', 1),\n",
              "  ('recommend', 1),\n",
              "  ('result', 1),\n",
              "  ('school', 1),\n",
              "  ('see', 1),\n",
              "  ('she', 1),\n",
              "  ('source', 1),\n",
              "  ('tell', 1),\n",
              "  ('think', 5),\n",
              "  ('time', 2),\n",
              "  ('way', 1)]]"
            ]
          },
          "metadata": {
            "tags": []
          },
          "execution_count": 46
        }
      ]
    },
    {
      "cell_type": "code",
      "metadata": {
        "colab": {
          "base_uri": "https://localhost:8080/"
        },
        "id": "fye0Pm3xOed3",
        "outputId": "a25a8d96-cf71-47d3-fc24-ecc95d44afc0"
      },
      "source": [
        "tfidf_trigram =  gensim.models.TfidfModel(corpus_trigram)\n",
        "corpus_tfidf_trigram = tfidf_trigram[corpus_trigram]\n",
        "for i in corpus_tfidf_trigram[0]:\n",
        "  print(i)"
      ],
      "execution_count": null,
      "outputs": [
        {
          "output_type": "stream",
          "text": [
            "(0, 0.31442445919702755)\n",
            "(1, 0.15721222959851378)\n",
            "(2, 0.11586000419626274)\n",
            "(3, 0.34758001258878823)\n",
            "(4, 0.08089719579214767)\n",
            "(5, 0.15721222959851378)\n",
            "(6, 0.11586000419626274)\n",
            "(7, 0.15721222959851378)\n",
            "(8, 0.34758001258878823)\n",
            "(9, 0.16179439158429534)\n",
            "(10, 0.16179439158429534)\n",
            "(11, 0.242691587376443)\n",
            "(12, 0.08089719579214767)\n",
            "(13, 0.2317200083925255)\n",
            "(14, 0.15721222959851378)\n",
            "(15, 0.15721222959851378)\n",
            "(16, 0.11586000419626274)\n",
            "(17, 0.15721222959851378)\n",
            "(18, 0.11586000419626274)\n",
            "(19, 0.15721222959851378)\n",
            "(20, 0.11586000419626274)\n",
            "(21, 0.15721222959851378)\n",
            "(22, 0.11586000419626274)\n",
            "(23, 0.4044859789607383)\n",
            "(24, 0.16179439158429534)\n",
            "(25, 0.11586000419626274)\n"
          ],
          "name": "stdout"
        }
      ]
    },
    {
      "cell_type": "code",
      "metadata": {
        "colab": {
          "base_uri": "https://localhost:8080/"
        },
        "id": "Mwx98-RTME5m",
        "outputId": "349be25c-7826-4a8f-9ab8-689d66eaaf21"
      },
      "source": [
        "lda_model_trigram = gensim.models.LdaMulticore(corpus_tfidf_trigram, num_topics=2, id2word=dictionary_trigram, workers=2, passes=2, iterations = 100)"
      ],
      "execution_count": null,
      "outputs": [
        {
          "output_type": "stream",
          "text": [
            "/usr/local/lib/python3.7/dist-packages/gensim/models/ldamodel.py:1077: DeprecationWarning: Calling np.sum(generator) is deprecated, and in the future will give a different result. Use np.sum(np.fromiter(generator)) or the python sum builtin instead.\n",
            "  score += np.sum(cnt * logsumexp(Elogthetad + Elogbeta[:, int(id)]) for id, cnt in doc)\n",
            "/usr/local/lib/python3.7/dist-packages/gensim/models/ldamodel.py:1077: DeprecationWarning: Calling np.sum(generator) is deprecated, and in the future will give a different result. Use np.sum(np.fromiter(generator)) or the python sum builtin instead.\n",
            "  score += np.sum(cnt * logsumexp(Elogthetad + Elogbeta[:, int(id)]) for id, cnt in doc)\n",
            "/usr/local/lib/python3.7/dist-packages/gensim/models/ldamodel.py:1077: DeprecationWarning: Calling np.sum(generator) is deprecated, and in the future will give a different result. Use np.sum(np.fromiter(generator)) or the python sum builtin instead.\n",
            "  score += np.sum(cnt * logsumexp(Elogthetad + Elogbeta[:, int(id)]) for id, cnt in doc)\n",
            "/usr/local/lib/python3.7/dist-packages/gensim/models/ldamodel.py:1077: DeprecationWarning: Calling np.sum(generator) is deprecated, and in the future will give a different result. Use np.sum(np.fromiter(generator)) or the python sum builtin instead.\n",
            "  score += np.sum(cnt * logsumexp(Elogthetad + Elogbeta[:, int(id)]) for id, cnt in doc)\n",
            "/usr/local/lib/python3.7/dist-packages/gensim/models/ldamodel.py:1077: DeprecationWarning: Calling np.sum(generator) is deprecated, and in the future will give a different result. Use np.sum(np.fromiter(generator)) or the python sum builtin instead.\n",
            "  score += np.sum(cnt * logsumexp(Elogthetad + Elogbeta[:, int(id)]) for id, cnt in doc)\n",
            "/usr/local/lib/python3.7/dist-packages/gensim/models/ldamodel.py:1077: DeprecationWarning: Calling np.sum(generator) is deprecated, and in the future will give a different result. Use np.sum(np.fromiter(generator)) or the python sum builtin instead.\n",
            "  score += np.sum(cnt * logsumexp(Elogthetad + Elogbeta[:, int(id)]) for id, cnt in doc)\n",
            "/usr/local/lib/python3.7/dist-packages/gensim/models/ldamodel.py:1077: DeprecationWarning: Calling np.sum(generator) is deprecated, and in the future will give a different result. Use np.sum(np.fromiter(generator)) or the python sum builtin instead.\n",
            "  score += np.sum(cnt * logsumexp(Elogthetad + Elogbeta[:, int(id)]) for id, cnt in doc)\n",
            "/usr/local/lib/python3.7/dist-packages/gensim/models/ldamodel.py:1077: DeprecationWarning: Calling np.sum(generator) is deprecated, and in the future will give a different result. Use np.sum(np.fromiter(generator)) or the python sum builtin instead.\n",
            "  score += np.sum(cnt * logsumexp(Elogthetad + Elogbeta[:, int(id)]) for id, cnt in doc)\n",
            "/usr/local/lib/python3.7/dist-packages/gensim/models/ldamodel.py:1077: DeprecationWarning: Calling np.sum(generator) is deprecated, and in the future will give a different result. Use np.sum(np.fromiter(generator)) or the python sum builtin instead.\n",
            "  score += np.sum(cnt * logsumexp(Elogthetad + Elogbeta[:, int(id)]) for id, cnt in doc)\n",
            "/usr/local/lib/python3.7/dist-packages/gensim/models/ldamodel.py:1077: DeprecationWarning: Calling np.sum(generator) is deprecated, and in the future will give a different result. Use np.sum(np.fromiter(generator)) or the python sum builtin instead.\n",
            "  score += np.sum(cnt * logsumexp(Elogthetad + Elogbeta[:, int(id)]) for id, cnt in doc)\n",
            "/usr/local/lib/python3.7/dist-packages/gensim/models/ldamodel.py:1077: DeprecationWarning: Calling np.sum(generator) is deprecated, and in the future will give a different result. Use np.sum(np.fromiter(generator)) or the python sum builtin instead.\n",
            "  score += np.sum(cnt * logsumexp(Elogthetad + Elogbeta[:, int(id)]) for id, cnt in doc)\n",
            "/usr/local/lib/python3.7/dist-packages/gensim/models/ldamodel.py:1077: DeprecationWarning: Calling np.sum(generator) is deprecated, and in the future will give a different result. Use np.sum(np.fromiter(generator)) or the python sum builtin instead.\n",
            "  score += np.sum(cnt * logsumexp(Elogthetad + Elogbeta[:, int(id)]) for id, cnt in doc)\n",
            "/usr/local/lib/python3.7/dist-packages/gensim/models/ldamodel.py:1077: DeprecationWarning: Calling np.sum(generator) is deprecated, and in the future will give a different result. Use np.sum(np.fromiter(generator)) or the python sum builtin instead.\n",
            "  score += np.sum(cnt * logsumexp(Elogthetad + Elogbeta[:, int(id)]) for id, cnt in doc)\n",
            "/usr/local/lib/python3.7/dist-packages/gensim/models/ldamodel.py:1077: DeprecationWarning: Calling np.sum(generator) is deprecated, and in the future will give a different result. Use np.sum(np.fromiter(generator)) or the python sum builtin instead.\n",
            "  score += np.sum(cnt * logsumexp(Elogthetad + Elogbeta[:, int(id)]) for id, cnt in doc)\n",
            "/usr/local/lib/python3.7/dist-packages/gensim/models/ldamodel.py:1077: DeprecationWarning: Calling np.sum(generator) is deprecated, and in the future will give a different result. Use np.sum(np.fromiter(generator)) or the python sum builtin instead.\n",
            "  score += np.sum(cnt * logsumexp(Elogthetad + Elogbeta[:, int(id)]) for id, cnt in doc)\n",
            "/usr/local/lib/python3.7/dist-packages/gensim/models/ldamodel.py:1077: DeprecationWarning: Calling np.sum(generator) is deprecated, and in the future will give a different result. Use np.sum(np.fromiter(generator)) or the python sum builtin instead.\n",
            "  score += np.sum(cnt * logsumexp(Elogthetad + Elogbeta[:, int(id)]) for id, cnt in doc)\n",
            "/usr/local/lib/python3.7/dist-packages/gensim/models/ldamodel.py:1077: DeprecationWarning: Calling np.sum(generator) is deprecated, and in the future will give a different result. Use np.sum(np.fromiter(generator)) or the python sum builtin instead.\n",
            "  score += np.sum(cnt * logsumexp(Elogthetad + Elogbeta[:, int(id)]) for id, cnt in doc)\n",
            "/usr/local/lib/python3.7/dist-packages/gensim/models/ldamodel.py:1077: DeprecationWarning: Calling np.sum(generator) is deprecated, and in the future will give a different result. Use np.sum(np.fromiter(generator)) or the python sum builtin instead.\n",
            "  score += np.sum(cnt * logsumexp(Elogthetad + Elogbeta[:, int(id)]) for id, cnt in doc)\n",
            "/usr/local/lib/python3.7/dist-packages/gensim/models/ldamodel.py:1077: DeprecationWarning: Calling np.sum(generator) is deprecated, and in the future will give a different result. Use np.sum(np.fromiter(generator)) or the python sum builtin instead.\n",
            "  score += np.sum(cnt * logsumexp(Elogthetad + Elogbeta[:, int(id)]) for id, cnt in doc)\n",
            "/usr/local/lib/python3.7/dist-packages/gensim/models/ldamodel.py:1077: DeprecationWarning: Calling np.sum(generator) is deprecated, and in the future will give a different result. Use np.sum(np.fromiter(generator)) or the python sum builtin instead.\n",
            "  score += np.sum(cnt * logsumexp(Elogthetad + Elogbeta[:, int(id)]) for id, cnt in doc)\n"
          ],
          "name": "stderr"
        }
      ]
    },
    {
      "cell_type": "code",
      "metadata": {
        "colab": {
          "base_uri": "https://localhost:8080/"
        },
        "id": "DlBQgk4uMnx1",
        "outputId": "96142d58-2b85-4e45-a455-eee1dd01929f"
      },
      "source": [
        "print(lda_model_trigram.print_topics())"
      ],
      "execution_count": null,
      "outputs": [
        {
          "output_type": "stream",
          "text": [
            "[(0, '0.077*\"child\" + 0.053*\"parent\" + 0.047*\"use\" + 0.044*\"family\" + 0.044*\"time\" + 0.043*\"day\" + 0.033*\"when\" + 0.031*\"recommend\" + 0.030*\"see\" + 0.029*\"health\"'), (1, '0.040*\"know\" + 0.039*\"body\" + 0.038*\"give\" + 0.036*\"tell\" + 0.036*\"new\" + 0.036*\"help\" + 0.036*\"like\" + 0.035*\"feel\" + 0.034*\"result\" + 0.034*\"child\"')]\n"
          ],
          "name": "stdout"
        }
      ]
    },
    {
      "cell_type": "code",
      "metadata": {
        "colab": {
          "base_uri": "https://localhost:8080/"
        },
        "id": "3LBJzWTKMsRQ",
        "outputId": "9fa17124-0c5e-4bf2-8507-b06f6969be46"
      },
      "source": [
        "# Compute Perplexity\n",
        "print('\\nPerplexity: ', lda_model_trigram.log_perplexity(corpus_trigram))  # a measure of how good the model is. lower the better.\n",
        "\n",
        "# Compute Coherence Score\n",
        "coherence_model_lda_tri = CoherenceModel(model=lda_model_trigram, texts=trigram_words, dictionary=dictionary_trigram, coherence='c_v')\n",
        "coherence_lda_tri = coherence_model_lda_tri.get_coherence()\n",
        "print('\\nCoherence Score: ', coherence_lda_tri)"
      ],
      "execution_count": null,
      "outputs": [
        {
          "output_type": "stream",
          "text": [
            "\n",
            "Perplexity:  -3.9183395712664635\n",
            "\n",
            "Coherence Score:  0.28578065394822055\n"
          ],
          "name": "stdout"
        },
        {
          "output_type": "stream",
          "text": [
            "/usr/local/lib/python3.7/dist-packages/gensim/models/ldamodel.py:1077: DeprecationWarning: Calling np.sum(generator) is deprecated, and in the future will give a different result. Use np.sum(np.fromiter(generator)) or the python sum builtin instead.\n",
            "  score += np.sum(cnt * logsumexp(Elogthetad + Elogbeta[:, int(id)]) for id, cnt in doc)\n",
            "/usr/local/lib/python3.7/dist-packages/gensim/models/ldamodel.py:1077: DeprecationWarning: Calling np.sum(generator) is deprecated, and in the future will give a different result. Use np.sum(np.fromiter(generator)) or the python sum builtin instead.\n",
            "  score += np.sum(cnt * logsumexp(Elogthetad + Elogbeta[:, int(id)]) for id, cnt in doc)\n",
            "/usr/local/lib/python3.7/dist-packages/gensim/models/ldamodel.py:1077: DeprecationWarning: Calling np.sum(generator) is deprecated, and in the future will give a different result. Use np.sum(np.fromiter(generator)) or the python sum builtin instead.\n",
            "  score += np.sum(cnt * logsumexp(Elogthetad + Elogbeta[:, int(id)]) for id, cnt in doc)\n",
            "/usr/local/lib/python3.7/dist-packages/gensim/models/ldamodel.py:1077: DeprecationWarning: Calling np.sum(generator) is deprecated, and in the future will give a different result. Use np.sum(np.fromiter(generator)) or the python sum builtin instead.\n",
            "  score += np.sum(cnt * logsumexp(Elogthetad + Elogbeta[:, int(id)]) for id, cnt in doc)\n",
            "/usr/local/lib/python3.7/dist-packages/gensim/models/ldamodel.py:1077: DeprecationWarning: Calling np.sum(generator) is deprecated, and in the future will give a different result. Use np.sum(np.fromiter(generator)) or the python sum builtin instead.\n",
            "  score += np.sum(cnt * logsumexp(Elogthetad + Elogbeta[:, int(id)]) for id, cnt in doc)\n",
            "/usr/local/lib/python3.7/dist-packages/gensim/models/ldamodel.py:1077: DeprecationWarning: Calling np.sum(generator) is deprecated, and in the future will give a different result. Use np.sum(np.fromiter(generator)) or the python sum builtin instead.\n",
            "  score += np.sum(cnt * logsumexp(Elogthetad + Elogbeta[:, int(id)]) for id, cnt in doc)\n",
            "/usr/local/lib/python3.7/dist-packages/gensim/models/ldamodel.py:1077: DeprecationWarning: Calling np.sum(generator) is deprecated, and in the future will give a different result. Use np.sum(np.fromiter(generator)) or the python sum builtin instead.\n",
            "  score += np.sum(cnt * logsumexp(Elogthetad + Elogbeta[:, int(id)]) for id, cnt in doc)\n",
            "/usr/local/lib/python3.7/dist-packages/gensim/models/ldamodel.py:1077: DeprecationWarning: Calling np.sum(generator) is deprecated, and in the future will give a different result. Use np.sum(np.fromiter(generator)) or the python sum builtin instead.\n",
            "  score += np.sum(cnt * logsumexp(Elogthetad + Elogbeta[:, int(id)]) for id, cnt in doc)\n",
            "/usr/local/lib/python3.7/dist-packages/gensim/models/ldamodel.py:1077: DeprecationWarning: Calling np.sum(generator) is deprecated, and in the future will give a different result. Use np.sum(np.fromiter(generator)) or the python sum builtin instead.\n",
            "  score += np.sum(cnt * logsumexp(Elogthetad + Elogbeta[:, int(id)]) for id, cnt in doc)\n",
            "/usr/local/lib/python3.7/dist-packages/gensim/models/ldamodel.py:1077: DeprecationWarning: Calling np.sum(generator) is deprecated, and in the future will give a different result. Use np.sum(np.fromiter(generator)) or the python sum builtin instead.\n",
            "  score += np.sum(cnt * logsumexp(Elogthetad + Elogbeta[:, int(id)]) for id, cnt in doc)\n"
          ],
          "name": "stderr"
        }
      ]
    },
    {
      "cell_type": "code",
      "metadata": {
        "colab": {
          "base_uri": "https://localhost:8080/",
          "height": 915
        },
        "id": "Gzsde8qsM7ZV",
        "outputId": "4cb2f724-ff56-428b-8a64-7a5afb6f29bf"
      },
      "source": [
        "pyLDAvis.gensim_models.prepare(lda_model_trigram, corpus_trigram, dictionary_trigram)"
      ],
      "execution_count": null,
      "outputs": [
        {
          "output_type": "stream",
          "text": [
            "/usr/local/lib/python3.7/dist-packages/pyLDAvis/_prepare.py:247: FutureWarning: In a future version of pandas all arguments of DataFrame.drop except for the argument 'labels' will be keyword-only\n",
            "  by='saliency', ascending=False).head(R).drop('saliency', 1)\n"
          ],
          "name": "stderr"
        },
        {
          "output_type": "execute_result",
          "data": {
            "text/html": [
              "\n",
              "<link rel=\"stylesheet\" type=\"text/css\" href=\"https://cdn.jsdelivr.net/gh/bmabey/pyLDAvis@3.3.1/pyLDAvis/js/ldavis.v1.0.0.css\">\n",
              "\n",
              "\n",
              "<div id=\"ldavis_el2021403387719204646206637898\"></div>\n",
              "<script type=\"text/javascript\">\n",
              "\n",
              "var ldavis_el2021403387719204646206637898_data = {\"mdsDat\": {\"x\": [0.012937659801076215, -0.012937659801076215], \"y\": [0.0, 0.0], \"topics\": [1, 2], \"cluster\": [1, 1], \"Freq\": [55.26546082759035, 44.734539172409654]}, \"tinfo\": {\"Term\": [\"child\", \"give\", \"new\", \"parent\", \"body\", \"use\", \"like\", \"know\", \"result\", \"she\", \"help\", \"world\", \"think\", \"time\", \"tell\", \"way\", \"feel\", \"go\", \"look\", \"source\", \"get\", \"have\", \"long\", \"carry\", \"family\", \"decide\", \"day\", \"recommend\", \"come\", \"health\", \"parent\", \"use\", \"child\", \"time\", \"family\", \"recommend\", \"day\", \"health\", \"when\", \"see\", \"school\", \"bbc\", \"programme\", \"come\", \"decide\", \"carry\", \"have\", \"long\", \"get\", \"source\", \"look\", \"feel\", \"tell\", \"go\", \"think\", \"help\", \"way\", \"know\", \"world\", \"result\", \"like\", \"body\", \"give\", \"new\", \"give\", \"body\", \"she\", \"like\", \"result\", \"world\", \"know\", \"way\", \"help\", \"think\", \"go\", \"tell\", \"feel\", \"look\", \"source\", \"get\", \"long\", \"have\", \"carry\", \"decide\", \"come\", \"programme\", \"bbc\", \"school\", \"see\", \"when\", \"health\", \"day\", \"recommend\", \"family\", \"child\", \"parent\", \"time\"], \"Freq\": [30.0, 15.0, 14.0, 20.0, 15.0, 18.0, 15.0, 17.0, 14.0, 13.0, 15.0, 13.0, 14.0, 17.0, 16.0, 11.0, 15.0, 12.0, 13.0, 13.0, 12.0, 13.0, 11.0, 12.0, 19.0, 10.0, 19.0, 13.0, 13.0, 13.0, 15.453675562368113, 13.768531745233616, 22.466929744769285, 12.847118036168345, 12.936207960840937, 9.01358312135813, 12.501066792693829, 8.45353278274939, 9.509029785211458, 8.885154640155033, 8.139302630652452, 7.396402493989545, 6.445679856364773, 7.6759667558794344, 5.884023951125873, 6.6147676547318515, 6.827759601942687, 6.115632100993994, 6.457958582072949, 6.557361310144546, 6.727487237239995, 7.432895708167685, 7.7082656038812205, 5.9589181448416175, 6.663890710407971, 7.029360939854853, 5.423598641452554, 7.673365455306669, 5.825805583334282, 6.505903280113934, 6.646393621390327, 6.7651517432556405, 6.067709143868786, 8.563402150328962, 8.959041110373756, 9.1760799695504, 7.3605048304779785, 8.43187621978807, 8.132668960311042, 7.190426633563538, 9.33622401100409, 6.56652647432913, 8.507124147750204, 7.833157252845581, 6.762700967315754, 8.593304926164052, 8.168786522684599, 7.217039435327082, 6.719067235239299, 6.537024936305387, 5.7865980408835185, 6.3742746088929065, 5.955178635265257, 4.84731000350355, 5.999544010412184, 4.840993587651026, 5.298585953527176, 5.415655444108601, 5.765525576574237, 5.702046411170785, 4.8718519430105065, 6.959806402417301, 4.887717554800834, 6.70973713626427, 7.971571099147923, 5.106576942555716, 4.921018973281376], \"Total\": [30.0, 15.0, 14.0, 20.0, 15.0, 18.0, 15.0, 17.0, 14.0, 13.0, 15.0, 13.0, 14.0, 17.0, 16.0, 11.0, 15.0, 12.0, 13.0, 13.0, 12.0, 13.0, 11.0, 12.0, 19.0, 10.0, 19.0, 13.0, 13.0, 13.0, 20.56025250492383, 18.497920507714113, 30.438500843917208, 17.76813700944972, 19.645945097105205, 13.901300676158964, 19.46087319511113, 13.325384725759896, 15.211076196382244, 14.65068021672927, 13.554958074761053, 12.694988447516721, 11.286673444015799, 13.67551076629162, 10.731333954629424, 12.569946289997109, 13.202034210835594, 11.902230141877514, 12.994983518378335, 13.276428545383844, 13.944526672567076, 15.601682230852283, 16.30157053004527, 12.721619112157372, 14.497047963253552, 15.536485087605058, 11.990125115781684, 17.009589466310757, 13.01623221689782, 14.638572240424976, 15.078269841178397, 15.94123171280604, 15.026750254242542, 14.323968680644239, 15.026750254242542, 15.94123171280604, 13.02313451396795, 15.078269841178397, 14.638572240424976, 13.01623221689782, 17.009589466310757, 11.990125115781684, 15.536485087605058, 14.497047963253552, 12.721619112157372, 16.30157053004527, 15.601682230852283, 13.944526672567076, 13.276428545383844, 12.994983518378335, 11.902230141877514, 13.202034210835594, 12.569946289997109, 10.731333954629424, 13.67551076629162, 11.286673444015799, 12.694988447516721, 13.554958074761053, 14.65068021672927, 15.211076196382244, 13.325384725759896, 19.46087319511113, 13.901300676158964, 19.645945097105205, 30.438500843917208, 20.56025250492383, 17.76813700944972], \"Category\": [\"Default\", \"Default\", \"Default\", \"Default\", \"Default\", \"Default\", \"Default\", \"Default\", \"Default\", \"Default\", \"Default\", \"Default\", \"Default\", \"Default\", \"Default\", \"Default\", \"Default\", \"Default\", \"Default\", \"Default\", \"Default\", \"Default\", \"Default\", \"Default\", \"Default\", \"Default\", \"Default\", \"Default\", \"Default\", \"Default\", \"Topic1\", \"Topic1\", \"Topic1\", \"Topic1\", \"Topic1\", \"Topic1\", \"Topic1\", \"Topic1\", \"Topic1\", \"Topic1\", \"Topic1\", \"Topic1\", \"Topic1\", \"Topic1\", \"Topic1\", \"Topic1\", \"Topic1\", \"Topic1\", \"Topic1\", \"Topic1\", \"Topic1\", \"Topic1\", \"Topic1\", \"Topic1\", \"Topic1\", \"Topic1\", \"Topic1\", \"Topic1\", \"Topic1\", \"Topic1\", \"Topic1\", \"Topic1\", \"Topic1\", \"Topic2\", \"Topic2\", \"Topic2\", \"Topic2\", \"Topic2\", \"Topic2\", \"Topic2\", \"Topic2\", \"Topic2\", \"Topic2\", \"Topic2\", \"Topic2\", \"Topic2\", \"Topic2\", \"Topic2\", \"Topic2\", \"Topic2\", \"Topic2\", \"Topic2\", \"Topic2\", \"Topic2\", \"Topic2\", \"Topic2\", \"Topic2\", \"Topic2\", \"Topic2\", \"Topic2\", \"Topic2\", \"Topic2\", \"Topic2\", \"Topic2\", \"Topic2\", \"Topic2\", \"Topic2\"], \"logprob\": [30.0, 29.0, 28.0, 27.0, 26.0, 25.0, 24.0, 23.0, 22.0, 21.0, 20.0, 19.0, 18.0, 17.0, 16.0, 15.0, 14.0, 13.0, 12.0, 11.0, 10.0, 9.0, 8.0, 7.0, 6.0, 5.0, 4.0, 3.0, 2.0, 1.0, -2.9382, -3.0537, -2.564, -3.123, -3.116, -3.4773, -3.1503, -3.5415, -3.4238, -3.4917, -3.5794, -3.6751, -3.8127, -3.638, -3.9038, -3.7868, -3.7551, -3.8652, -3.8108, -3.7955, -3.7699, -3.6702, -3.6338, -3.8912, -3.7794, -3.726, -3.9853, -3.6383, -3.9138, -3.8034, -3.782, -3.7643, -3.8731, -3.3172, -3.272, -3.2481, -3.4685, -3.3327, -3.3688, -3.4919, -3.2308, -3.5827, -3.3238, -3.4063, -3.5532, -3.3137, -3.3644, -3.4882, -3.5597, -3.5872, -3.7091, -3.6124, -3.6804, -3.8862, -3.673, -3.8876, -3.7972, -3.7754, -3.7128, -3.7238, -3.8812, -3.5245, -3.8779, -3.5611, -3.3888, -3.8341, -3.8712], \"loglift\": [30.0, 29.0, 28.0, 27.0, 26.0, 25.0, 24.0, 23.0, 22.0, 21.0, 20.0, 19.0, 18.0, 17.0, 16.0, 15.0, 14.0, 13.0, 12.0, 11.0, 10.0, 9.0, 8.0, 7.0, 6.0, 5.0, 4.0, 3.0, 2.0, 1.0, 0.3075, 0.2977, 0.2894, 0.2687, 0.1752, 0.1598, 0.1504, 0.1379, 0.1232, 0.0929, 0.083, 0.0528, 0.0328, 0.0155, -0.0079, -0.049, -0.0664, -0.0729, -0.1062, -0.1124, -0.1359, -0.1484, -0.1559, -0.1654, -0.1842, -0.2001, -0.2003, -0.203, -0.2109, -0.2179, -0.2262, -0.2641, -0.3138, 0.29, 0.2873, 0.2521, 0.2338, 0.2232, 0.2167, 0.211, 0.2045, 0.2023, 0.2021, 0.1888, 0.1725, 0.1641, 0.1574, 0.1458, 0.1234, 0.1173, 0.0832, 0.0763, 0.0574, 0.0097, -0.0195, -0.0421, -0.0693, -0.113, -0.1282, -0.1768, -0.2018, -0.2238, -0.2408, -0.2699, -0.5354, -0.5884, -0.4795]}, \"token.table\": {\"Topic\": [1, 2, 1, 2, 1, 2, 1, 2, 1, 2, 1, 2, 1, 2, 1, 2, 1, 2, 1, 2, 1, 2, 1, 2, 1, 2, 1, 2, 1, 2, 1, 2, 1, 2, 1, 2, 1, 2, 1, 2, 1, 2, 1, 2, 1, 2, 1, 2, 1, 2, 1, 2, 1, 2, 1, 2, 1, 2, 1, 2, 1, 2, 1, 2, 1, 2, 1, 2, 1, 2], \"Freq\": [0.5513986900373491, 0.39385620716953507, 0.43911286945140526, 0.5645736892946639, 0.5568838432961681, 0.47732900853957266, 0.7227688417643096, 0.26282503336883983, 0.5849872912768256, 0.4387404684576192, 0.6680070246419261, 0.3596960901918064, 0.5591103608709932, 0.4659253007258277, 0.6617141570814797, 0.3563076230438737, 0.4486695662957113, 0.5127652186236701, 0.46171663022999737, 0.5386694019349969, 0.39928792975753385, 0.5989318946363008, 0.47163807901355265, 0.5502444255158114, 0.5302213195489781, 0.4544754167562669, 0.6003579007017218, 0.37522368793857613, 0.4505523585630427, 0.5792816038667692, 0.4703229325931013, 0.5291132991672389, 0.46424424511114437, 0.5305648515555936, 0.5041072075130898, 0.5041072075130898, 0.5019890717245375, 0.5019890717245375, 0.4188783244205015, 0.6283174866307523, 0.7295630244038955, 0.24318767480129852, 0.531600389588768, 0.44300032465730665, 0.6474214326890431, 0.35967857371613504, 0.4781887116469756, 0.5465013847394007, 0.5901899479051708, 0.36886871744073174, 0.6143059480421332, 0.40953729869475547, 0.460718576895962, 0.5375050063786224, 0.5272502296887569, 0.5272502296887569, 0.4907502614705298, 0.552094044154346, 0.4828569249231483, 0.5518364856264552, 0.7316467670800908, 0.28140260272311185, 0.7568418295538483, 0.2703006534120887, 0.41700982697994393, 0.5838137577719215, 0.6574156799226586, 0.3944494079535951, 0.46096288849324096, 0.5377900365754478], \"Term\": [\"bbc\", \"bbc\", \"body\", \"body\", \"carry\", \"carry\", \"child\", \"child\", \"come\", \"come\", \"day\", \"day\", \"decide\", \"decide\", \"family\", \"family\", \"feel\", \"feel\", \"get\", \"get\", \"give\", \"give\", \"go\", \"go\", \"have\", \"have\", \"health\", \"health\", \"help\", \"help\", \"know\", \"know\", \"like\", \"like\", \"long\", \"long\", \"look\", \"look\", \"new\", \"new\", \"parent\", \"parent\", \"programme\", \"programme\", \"recommend\", \"recommend\", \"result\", \"result\", \"school\", \"school\", \"see\", \"see\", \"she\", \"she\", \"source\", \"source\", \"tell\", \"tell\", \"think\", \"think\", \"time\", \"time\", \"use\", \"use\", \"way\", \"way\", \"when\", \"when\", \"world\", \"world\"]}, \"R\": 30, \"lambda.step\": 0.01, \"plot.opts\": {\"xlab\": \"PC1\", \"ylab\": \"PC2\"}, \"topic.order\": [1, 2]};\n",
              "\n",
              "function LDAvis_load_lib(url, callback){\n",
              "  var s = document.createElement('script');\n",
              "  s.src = url;\n",
              "  s.async = true;\n",
              "  s.onreadystatechange = s.onload = callback;\n",
              "  s.onerror = function(){console.warn(\"failed to load library \" + url);};\n",
              "  document.getElementsByTagName(\"head\")[0].appendChild(s);\n",
              "}\n",
              "\n",
              "if(typeof(LDAvis) !== \"undefined\"){\n",
              "   // already loaded: just create the visualization\n",
              "   !function(LDAvis){\n",
              "       new LDAvis(\"#\" + \"ldavis_el2021403387719204646206637898\", ldavis_el2021403387719204646206637898_data);\n",
              "   }(LDAvis);\n",
              "}else if(typeof define === \"function\" && define.amd){\n",
              "   // require.js is available: use it to load d3/LDAvis\n",
              "   require.config({paths: {d3: \"https://d3js.org/d3.v5\"}});\n",
              "   require([\"d3\"], function(d3){\n",
              "      window.d3 = d3;\n",
              "      LDAvis_load_lib(\"https://cdn.jsdelivr.net/gh/bmabey/pyLDAvis@3.3.1/pyLDAvis/js/ldavis.v3.0.0.js\", function(){\n",
              "        new LDAvis(\"#\" + \"ldavis_el2021403387719204646206637898\", ldavis_el2021403387719204646206637898_data);\n",
              "      });\n",
              "    });\n",
              "}else{\n",
              "    // require.js not available: dynamically load d3 & LDAvis\n",
              "    LDAvis_load_lib(\"https://d3js.org/d3.v5.js\", function(){\n",
              "         LDAvis_load_lib(\"https://cdn.jsdelivr.net/gh/bmabey/pyLDAvis@3.3.1/pyLDAvis/js/ldavis.v3.0.0.js\", function(){\n",
              "                 new LDAvis(\"#\" + \"ldavis_el2021403387719204646206637898\", ldavis_el2021403387719204646206637898_data);\n",
              "            })\n",
              "         });\n",
              "}\n",
              "</script>"
            ],
            "text/plain": [
              "PreparedData(topic_coordinates=              x    y  topics  cluster       Freq\n",
              "topic                                           \n",
              "0      0.012938  0.0       1        1  55.265461\n",
              "1     -0.012938  0.0       2        1  44.734539, topic_info=         Term       Freq      Total Category  logprob  loglift\n",
              "26      child  30.000000  30.000000  Default  30.0000  30.0000\n",
              "6        give  15.000000  15.000000  Default  29.0000  29.0000\n",
              "14        new  14.000000  14.000000  Default  28.0000  28.0000\n",
              "30     parent  20.000000  20.000000  Default  27.0000  27.0000\n",
              "1        body  15.000000  15.000000  Default  26.0000  26.0000\n",
              "..        ...        ...        ...      ...      ...      ...\n",
              "16  recommend   4.887718  13.901301   Topic2  -3.8779  -0.2408\n",
              "28     family   6.709737  19.645945   Topic2  -3.5611  -0.2699\n",
              "26      child   7.971571  30.438501   Topic2  -3.3888  -0.5354\n",
              "30     parent   5.106577  20.560253   Topic2  -3.8341  -0.5884\n",
              "24       time   4.921019  17.768137   Topic2  -3.8712  -0.4795\n",
              "\n",
              "[97 rows x 6 columns], token_table=      Topic      Freq   Term\n",
              "term                        \n",
              "0         1  0.551399    bbc\n",
              "0         2  0.393856    bbc\n",
              "1         1  0.439113   body\n",
              "1         2  0.564574   body\n",
              "2         1  0.556884  carry\n",
              "...     ...       ...    ...\n",
              "25        2  0.583814    way\n",
              "31        1  0.657416   when\n",
              "31        2  0.394449   when\n",
              "32        1  0.460963  world\n",
              "32        2  0.537790  world\n",
              "\n",
              "[70 rows x 3 columns], R=30, lambda_step=0.01, plot_opts={'xlab': 'PC1', 'ylab': 'PC2'}, topic_order=[1, 2])"
            ]
          },
          "metadata": {
            "tags": []
          },
          "execution_count": 51
        }
      ]
    },
    {
      "cell_type": "markdown",
      "metadata": {
        "id": "fqLATRxXSm6c"
      },
      "source": [
        "## Find optimal number of topics "
      ]
    },
    {
      "cell_type": "code",
      "metadata": {
        "id": "Rn8CA-_aSm6d"
      },
      "source": [
        "# coherence_values_trigram = []\n",
        "# model_list_trigram= []\n",
        "# for num_topics in range(2, 20, 2):\n",
        "#     model_trigram = gensim.models.LdaMulticore(corpus_tfidf_trigram, num_topics=num_topics, id2word=dictionary_trigram, workers=2, passes=2, iterations = 100)\n",
        "#     model_list_trigram.append(model_trigram)\n",
        "#     coherencemodel_trigram = CoherenceModel(model=model_trigram, texts=lemmatized_list, dictionary=dictionary_trigram, coherence='c_v')\n",
        "#     coherence_values_trigram.append(coherencemodel_trigram.get_coherence())"
      ],
      "execution_count": null,
      "outputs": []
    },
    {
      "cell_type": "code",
      "metadata": {
        "id": "s-x6eScVTB1W"
      },
      "source": [
        "# Print the coherence scores\n",
        "# for m, cv in zip(range(2,20,2), coherence_values_trigram):\n",
        "#     print(\"Num Topics =\", m, \" has Coherence Value of\", round(cv, 4))"
      ],
      "execution_count": null,
      "outputs": []
    },
    {
      "cell_type": "code",
      "metadata": {
        "id": "y4yWLi6UTB1X"
      },
      "source": [
        "# Show graph\n",
        "# plt.plot(range(2,20,2), coherence_values_trigram)\n",
        "# plt.xlabel(\"Num Topics\")\n",
        "# plt.ylabel(\"Coherence score\")\n",
        "# plt.legend((\"coherence_values\"), loc='best')\n",
        "# plt.show()"
      ],
      "execution_count": null,
      "outputs": []
    }
  ]
}